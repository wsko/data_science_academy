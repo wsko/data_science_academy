{
 "cells": [
  {
   "cell_type": "markdown",
   "id": "a1162648",
   "metadata": {},
   "source": [
    "## Lab 12. Ensemble Learning"
   ]
  },
  {
   "cell_type": "code",
   "execution_count": 1,
   "id": "daea7583",
   "metadata": {},
   "outputs": [],
   "source": [
    "import pandas as pd\n",
    "import numpy as np\n",
    "import matplotlib.pyplot as plt\n",
    "import seaborn as sns\n",
    "\n",
    "from sklearn.linear_model import LogisticRegression\n",
    "from sklearn.ensemble import RandomForestClassifier\n",
    "from sklearn.ensemble import AdaBoostClassifier\n",
    "from sklearn.ensemble import GradientBoostingRegressor\n",
    "from sklearn.ensemble import GradientBoostingClassifier\n",
    "from sklearn.linear_model import LinearRegression\n",
    "from sklearn.linear_model import Lasso\n",
    "\n",
    "from sklearn.model_selection import train_test_split\n",
    "from sklearn.preprocessing import MinMaxScaler\n",
    "from sklearn.preprocessing import LabelEncoder\n",
    "\n",
    "from sklearn.model_selection import GridSearchCV\n",
    "from sklearn.metrics import confusion_matrix\n",
    "from sklearn.metrics import classification_report\n",
    "from sklearn.metrics import roc_auc_score\n",
    "from sklearn.metrics import roc_curve, auc\n",
    "from sklearn.metrics import mean_squared_error\n",
    "\n",
    "import warnings\n",
    "warnings.filterwarnings(\"ignore\")"
   ]
  },
  {
   "cell_type": "markdown",
   "id": "2a112289",
   "metadata": {},
   "source": [
    "## Build ensemble classifiers for Churn Modeling data\n",
    "\n",
    "1. Import data, select features, apply encoding and/or scaling as appropriate, split into training and test sets \n",
    "2. Train and score a logistic regression model with default parameters. Add AUC to your scoring report\n",
    "3. Train and score a random forest model. Compute AUC\n",
    "4. List model features by their importance for the RF and LR models\n",
    "5. Optimize the RF model using grid search. Does optimization improve the AUC?\n",
    "6. Train and score an adaboost and gradient boost model with default hyperparaeters. Compute AUC\n",
    "7. Find the winning algorithm\n",
    "8. Plot and compare ROC curves for the LR, RF, Adaboost and Gradient Boost models."
   ]
  },
  {
   "cell_type": "code",
   "execution_count": null,
   "id": "de8043f6",
   "metadata": {},
   "outputs": [],
   "source": []
  },
  {
   "cell_type": "code",
   "execution_count": null,
   "id": "12eb24ca",
   "metadata": {},
   "outputs": [],
   "source": []
  },
  {
   "cell_type": "markdown",
   "id": "eb1f7539",
   "metadata": {},
   "source": [
    "### Solutions"
   ]
  },
  {
   "cell_type": "code",
   "execution_count": 2,
   "id": "de8b1d26",
   "metadata": {},
   "outputs": [],
   "source": [
    "## import and prepare data\n",
    "\n",
    "df = pd.read_csv(\"../data/Churn_Modeling.csv\")\n",
    "y = df['Exited']\n",
    "df = df.iloc[:, 2:-1]\n",
    "df = pd.get_dummies(data = df, drop_first = True)\n",
    "features = df.columns\n",
    "X = df.to_numpy()\n",
    "\n",
    "X_train, X_test, y_train, y_test = train_test_split(X, y, train_size=0.7, random_state=42)\n",
    "sc = MinMaxScaler()\n",
    "sc.fit(X_train)\n",
    "X_train = sc.transform(X_train)\n",
    "X_test = sc.transform(X_test)"
   ]
  },
  {
   "cell_type": "code",
   "execution_count": 3,
   "id": "b125c3e0",
   "metadata": {},
   "outputs": [
    {
     "data": {
      "text/plain": [
       "LogisticRegression()"
      ]
     },
     "execution_count": 3,
     "metadata": {},
     "output_type": "execute_result"
    }
   ],
   "source": [
    "# baseline: logistic regression\n",
    "\n",
    "lr = LogisticRegression()\n",
    "lr.fit(X_train, y_train)"
   ]
  },
  {
   "cell_type": "code",
   "execution_count": 4,
   "id": "c479d742",
   "metadata": {},
   "outputs": [],
   "source": [
    "def classifier_scoring(model):\n",
    "    print(classification_report(y_test, model.predict(X_test))[:220])\n",
    "    print(\"AUC:   \", \"%.2f\" % roc_auc_score(y_test, model.predict_proba(X_test)[:, 1]))\n",
    "    confusion_matrix(y_test, model.predict(X_test))"
   ]
  },
  {
   "cell_type": "code",
   "execution_count": 5,
   "id": "033c55d1",
   "metadata": {},
   "outputs": [
    {
     "name": "stdout",
     "output_type": "stream",
     "text": [
      "              precision    recall  f1-score   support\n",
      "\n",
      "           0       0.83      0.96      0.89      2416\n",
      "           1       0.56      0.19      0.29       584\n",
      "\n",
      "    accuracy                           0.81      3000\n",
      "  \n",
      "AUC:    0.77\n"
     ]
    }
   ],
   "source": [
    "classifier_scoring(lr)"
   ]
  },
  {
   "cell_type": "code",
   "execution_count": 6,
   "id": "cf55695c",
   "metadata": {},
   "outputs": [
    {
     "name": "stdout",
     "output_type": "stream",
     "text": [
      "              precision    recall  f1-score   support\n",
      "\n",
      "           0       0.88      0.96      0.92      2416\n",
      "           1       0.75      0.47      0.58       584\n",
      "\n",
      "    accuracy                           0.87      3000\n",
      "  \n",
      "AUC:    0.85\n"
     ]
    }
   ],
   "source": [
    "# random forest\n",
    "\n",
    "rfc=RandomForestClassifier(random_state=42)\n",
    "rfc.fit(X_train,y_train)\n",
    "\n",
    "classifier_scoring(rfc)"
   ]
  },
  {
   "cell_type": "code",
   "execution_count": 7,
   "id": "c45b78ca",
   "metadata": {},
   "outputs": [
    {
     "data": {
      "text/plain": [
       "Age                  0.241742\n",
       "EstimatedSalary      0.145268\n",
       "Balance              0.142440\n",
       "CreditScore          0.141835\n",
       "NumOfProducts        0.128864\n",
       "Tenure               0.081797\n",
       "IsActiveMember       0.040470\n",
       "Geography_Germany    0.026532\n",
       "HasCrCard            0.018946\n",
       "Gender_Male          0.018300\n",
       "Geography_Spain      0.013807\n",
       "dtype: float64"
      ]
     },
     "execution_count": 7,
     "metadata": {},
     "output_type": "execute_result"
    }
   ],
   "source": [
    "## feature importance for RF\n",
    "\n",
    "pd.Series(rfc.feature_importances_, index = features).sort_values(ascending = False)"
   ]
  },
  {
   "cell_type": "code",
   "execution_count": 8,
   "id": "e99bccd1",
   "metadata": {},
   "outputs": [
    {
     "data": {
      "text/plain": [
       "Age                  5.014840\n",
       "IsActiveMember       1.023919\n",
       "Geography_Germany    0.768153\n",
       "Balance              0.672898\n",
       "Gender_Male          0.528219\n",
       "CreditScore          0.380109\n",
       "NumOfProducts        0.230739\n",
       "Tenure               0.210481\n",
       "Geography_Spain      0.086470\n",
       "HasCrCard            0.065479\n",
       "EstimatedSalary      0.014800\n",
       "dtype: float64"
      ]
     },
     "execution_count": 8,
     "metadata": {},
     "output_type": "execute_result"
    }
   ],
   "source": [
    "## feature importance for LR\n",
    "\n",
    "pd.Series(abs(lr.coef_[0]), index = features).sort_values(ascending = False)"
   ]
  },
  {
   "cell_type": "code",
   "execution_count": 9,
   "id": "3d91d0b4",
   "metadata": {},
   "outputs": [],
   "source": [
    "## hyperparamater tuning for RFC (uncomment code below)\n",
    "\n",
    "rfc=RandomForestClassifier(random_state=42)\n",
    "\n",
    "parameters = {'n_estimators':[10, 100, 500, 1000],\n",
    "              'max_depth':[1, 2, 3, 4]}\n",
    "\n",
    "\n",
    "hyper_tune = GridSearchCV(rfc, parameters, cv = 5, scoring = 'f1', return_train_score = True, verbose = 3)\n",
    "#hyper_tune.fit(X_train, y_train)\n",
    "#hyper_tune.best_params_"
   ]
  },
  {
   "cell_type": "code",
   "execution_count": 10,
   "id": "0c5ce44f",
   "metadata": {},
   "outputs": [
    {
     "name": "stdout",
     "output_type": "stream",
     "text": [
      "              precision    recall  f1-score   support\n",
      "\n",
      "           0       0.87      0.98      0.92      2416\n",
      "           1       0.84      0.41      0.55       584\n",
      "\n",
      "    accuracy                           0.87      3000\n",
      "  \n",
      "AUC:    0.86\n"
     ]
    }
   ],
   "source": [
    "# random forest with optimized hyperparameters\n",
    "\n",
    "rfc=RandomForestClassifier(random_state=42, n_estimators = 100, max_depth = 7)\n",
    "rfc.fit(X_train,y_train)\n",
    "\n",
    "\n",
    "classifier_scoring(rfc)"
   ]
  },
  {
   "cell_type": "code",
   "execution_count": 11,
   "id": "e534b964",
   "metadata": {},
   "outputs": [
    {
     "name": "stdout",
     "output_type": "stream",
     "text": [
      "              precision    recall  f1-score   support\n",
      "\n",
      "           0       0.88      0.95      0.92      2416\n",
      "           1       0.72      0.48      0.58       584\n",
      "\n",
      "    accuracy                           0.86      3000\n",
      "  \n",
      "AUC:    0.85\n"
     ]
    }
   ],
   "source": [
    "abc = AdaBoostClassifier(random_state = 42)\n",
    "abc.fit(X_train,y_train)\n",
    "\n",
    "classifier_scoring(abc)"
   ]
  },
  {
   "cell_type": "code",
   "execution_count": 12,
   "id": "64ea0b13",
   "metadata": {
    "scrolled": true
   },
   "outputs": [
    {
     "name": "stdout",
     "output_type": "stream",
     "text": [
      "              precision    recall  f1-score   support\n",
      "\n",
      "           0       0.89      0.96      0.92      2416\n",
      "           1       0.77      0.48      0.59       584\n",
      "\n",
      "    accuracy                           0.87      3000\n",
      "  \n",
      "AUC:    0.87\n"
     ]
    }
   ],
   "source": [
    "gbc = GradientBoostingClassifier(random_state = 42)\n",
    "gbc.fit(X_train,y_train)\n",
    "\n",
    "classifier_scoring(gbc)"
   ]
  },
  {
   "cell_type": "code",
   "execution_count": null,
   "id": "b633d038",
   "metadata": {},
   "outputs": [],
   "source": []
  }
 ],
 "metadata": {
  "kernelspec": {
   "display_name": "Python 3 (ipykernel)",
   "language": "python",
   "name": "python3"
  },
  "language_info": {
   "codemirror_mode": {
    "name": "ipython",
    "version": 3
   },
   "file_extension": ".py",
   "mimetype": "text/x-python",
   "name": "python",
   "nbconvert_exporter": "python",
   "pygments_lexer": "ipython3",
   "version": "3.7.9"
  }
 },
 "nbformat": 4,
 "nbformat_minor": 5
}

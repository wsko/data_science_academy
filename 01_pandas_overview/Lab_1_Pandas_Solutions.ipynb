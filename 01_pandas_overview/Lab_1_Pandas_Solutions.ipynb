{
 "cells": [
  {
   "cell_type": "markdown",
   "id": "2920ca30",
   "metadata": {
    "id": "2920ca30"
   },
   "source": [
    "## Lab 1. Pandas\n",
    "\n",
    "### Structured Data Manipulation and Data Wrangling"
   ]
  },
  {
   "cell_type": "markdown",
   "id": "e1bd74a0",
   "metadata": {
    "id": "e1bd74a0"
   },
   "source": [
    "## Part 1. Data Transformation and Group By Analysis\n",
    "\n",
    "__Data__: Toronto Parking Tickets dataset `Parking_Tickets_Toronto2020.csv` (original data source https://www.toronto.ca/city-government/data-research-maps/open-data/) describes parking infractions in the City of Toronto issued between April and August 2020.  \n",
    "\n",
    "Data dictionary:\n",
    "\n",
    "- date_of_infraction (int) the date of parking violation as YYYYMMDD\n",
    "- infraction (str) description of the parking violation\n",
    "- fine (int) parkng ticket amount\n",
    "- address (str) nearest house number and street to the location where the ticket was issued\n",
    "- province (str) province or state of origin of the car's license plate\n"
   ]
  },
  {
   "cell_type": "code",
   "execution_count": 1,
   "id": "5ace2021",
   "metadata": {
    "id": "5ace2021"
   },
   "outputs": [],
   "source": [
    "import pandas as pd\n",
    "import numpy as np\n",
    "import datetime as dt"
   ]
  },
  {
   "cell_type": "markdown",
   "id": "fb3b8443",
   "metadata": {
    "id": "fb3b8443"
   },
   "source": [
    "#### 1.1- Data Import and Inspection\n",
    "\n",
    "1. Import CSV data into a pandas data frame\n",
    "2. Inspect the data frame:\n",
    "    - how many rows and columns are there?\n",
    "    - what data types are there?\n",
    "    - describe the numerical and object columns\n",
    "    - what is the number of unique values in each column?\n",
    "3. Print the fist 5 rows of the columns containing character strings ('object' data type)"
   ]
  },
  {
   "cell_type": "code",
   "execution_count": 2,
   "id": "621f2280",
   "metadata": {
    "id": "621f2280",
    "outputId": "78890a3e-4dd6-4a22-eab4-320c5a07dbd2"
   },
   "outputs": [
    {
     "data": {
      "text/html": [
       "<div>\n",
       "<style scoped>\n",
       "    .dataframe tbody tr th:only-of-type {\n",
       "        vertical-align: middle;\n",
       "    }\n",
       "\n",
       "    .dataframe tbody tr th {\n",
       "        vertical-align: top;\n",
       "    }\n",
       "\n",
       "    .dataframe thead th {\n",
       "        text-align: right;\n",
       "    }\n",
       "</style>\n",
       "<table border=\"1\" class=\"dataframe\">\n",
       "  <thead>\n",
       "    <tr style=\"text-align: right;\">\n",
       "      <th></th>\n",
       "      <th>date_of_infraction</th>\n",
       "      <th>infraction</th>\n",
       "      <th>fine</th>\n",
       "      <th>address</th>\n",
       "      <th>province</th>\n",
       "    </tr>\n",
       "  </thead>\n",
       "  <tbody>\n",
       "    <tr>\n",
       "      <th>0</th>\n",
       "      <td>20200421</td>\n",
       "      <td>STOP-(ON/OVER) (SIDEWK/FTPATH)</td>\n",
       "      <td>150</td>\n",
       "      <td>110 GLENDALE AVE</td>\n",
       "      <td>ON</td>\n",
       "    </tr>\n",
       "    <tr>\n",
       "      <th>1</th>\n",
       "      <td>20200421</td>\n",
       "      <td>STOP-(ON/OVER) (SIDEWK/FTPATH)</td>\n",
       "      <td>150</td>\n",
       "      <td>108 GLENDALE AVE</td>\n",
       "      <td>ON</td>\n",
       "    </tr>\n",
       "    <tr>\n",
       "      <th>2</th>\n",
       "      <td>20200421</td>\n",
       "      <td>PARK ON PRIVATE PROPERTY</td>\n",
       "      <td>30</td>\n",
       "      <td>11 APPLEWOOD LANE</td>\n",
       "      <td>ON</td>\n",
       "    </tr>\n",
       "    <tr>\n",
       "      <th>3</th>\n",
       "      <td>20200421</td>\n",
       "      <td>PARK ON PRIVATE PROPERTY</td>\n",
       "      <td>30</td>\n",
       "      <td>11 APPLEWOOD LANE</td>\n",
       "      <td>ON</td>\n",
       "    </tr>\n",
       "    <tr>\n",
       "      <th>4</th>\n",
       "      <td>20200421</td>\n",
       "      <td>PARK ON PRIVATE PROPERTY</td>\n",
       "      <td>30</td>\n",
       "      <td>11 APPLEWOOD LANE</td>\n",
       "      <td>ON</td>\n",
       "    </tr>\n",
       "  </tbody>\n",
       "</table>\n",
       "</div>"
      ],
      "text/plain": [
       "   date_of_infraction                      infraction  fine  \\\n",
       "0            20200421  STOP-(ON/OVER) (SIDEWK/FTPATH)   150   \n",
       "1            20200421  STOP-(ON/OVER) (SIDEWK/FTPATH)   150   \n",
       "2            20200421        PARK ON PRIVATE PROPERTY    30   \n",
       "3            20200421        PARK ON PRIVATE PROPERTY    30   \n",
       "4            20200421        PARK ON PRIVATE PROPERTY    30   \n",
       "\n",
       "             address province  \n",
       "0   110 GLENDALE AVE       ON  \n",
       "1   108 GLENDALE AVE       ON  \n",
       "2  11 APPLEWOOD LANE       ON  \n",
       "3  11 APPLEWOOD LANE       ON  \n",
       "4  11 APPLEWOOD LANE       ON  "
      ]
     },
     "execution_count": 2,
     "metadata": {},
     "output_type": "execute_result"
    }
   ],
   "source": [
    "# 1\n",
    "df = pd.read_csv(\"../data/Parking_Tickets_Toronto2020.csv\")\n",
    "df.head()"
   ]
  },
  {
   "cell_type": "code",
   "execution_count": 3,
   "id": "bf99a417",
   "metadata": {
    "id": "bf99a417",
    "outputId": "1fc7df67-7a67-42db-c159-064bee77df66"
   },
   "outputs": [],
   "source": [
    "#2\n",
    "# use df.shape, df.dtypes, df.nunique(0), df.describe(), df.describe(include = 'object'))"
   ]
  },
  {
   "cell_type": "code",
   "execution_count": 4,
   "id": "80e16725",
   "metadata": {
    "id": "80e16725",
    "outputId": "0e7a424a-349c-4f42-b187-88b70c714586"
   },
   "outputs": [
    {
     "data": {
      "text/html": [
       "<div>\n",
       "<style scoped>\n",
       "    .dataframe tbody tr th:only-of-type {\n",
       "        vertical-align: middle;\n",
       "    }\n",
       "\n",
       "    .dataframe tbody tr th {\n",
       "        vertical-align: top;\n",
       "    }\n",
       "\n",
       "    .dataframe thead th {\n",
       "        text-align: right;\n",
       "    }\n",
       "</style>\n",
       "<table border=\"1\" class=\"dataframe\">\n",
       "  <thead>\n",
       "    <tr style=\"text-align: right;\">\n",
       "      <th></th>\n",
       "      <th>infraction</th>\n",
       "      <th>address</th>\n",
       "      <th>province</th>\n",
       "    </tr>\n",
       "  </thead>\n",
       "  <tbody>\n",
       "    <tr>\n",
       "      <th>0</th>\n",
       "      <td>STOP-(ON/OVER) (SIDEWK/FTPATH)</td>\n",
       "      <td>110 GLENDALE AVE</td>\n",
       "      <td>ON</td>\n",
       "    </tr>\n",
       "    <tr>\n",
       "      <th>1</th>\n",
       "      <td>STOP-(ON/OVER) (SIDEWK/FTPATH)</td>\n",
       "      <td>108 GLENDALE AVE</td>\n",
       "      <td>ON</td>\n",
       "    </tr>\n",
       "    <tr>\n",
       "      <th>2</th>\n",
       "      <td>PARK ON PRIVATE PROPERTY</td>\n",
       "      <td>11 APPLEWOOD LANE</td>\n",
       "      <td>ON</td>\n",
       "    </tr>\n",
       "    <tr>\n",
       "      <th>3</th>\n",
       "      <td>PARK ON PRIVATE PROPERTY</td>\n",
       "      <td>11 APPLEWOOD LANE</td>\n",
       "      <td>ON</td>\n",
       "    </tr>\n",
       "    <tr>\n",
       "      <th>4</th>\n",
       "      <td>PARK ON PRIVATE PROPERTY</td>\n",
       "      <td>11 APPLEWOOD LANE</td>\n",
       "      <td>ON</td>\n",
       "    </tr>\n",
       "  </tbody>\n",
       "</table>\n",
       "</div>"
      ],
      "text/plain": [
       "                       infraction            address province\n",
       "0  STOP-(ON/OVER) (SIDEWK/FTPATH)   110 GLENDALE AVE       ON\n",
       "1  STOP-(ON/OVER) (SIDEWK/FTPATH)   108 GLENDALE AVE       ON\n",
       "2        PARK ON PRIVATE PROPERTY  11 APPLEWOOD LANE       ON\n",
       "3        PARK ON PRIVATE PROPERTY  11 APPLEWOOD LANE       ON\n",
       "4        PARK ON PRIVATE PROPERTY  11 APPLEWOOD LANE       ON"
      ]
     },
     "execution_count": 4,
     "metadata": {},
     "output_type": "execute_result"
    }
   ],
   "source": [
    "#3\n",
    "df.loc[:, df.dtypes == 'object'].head()"
   ]
  },
  {
   "cell_type": "markdown",
   "id": "83a5ca41",
   "metadata": {
    "id": "83a5ca41"
   },
   "source": [
    "#### 1.2- Data Wrangling"
   ]
  },
  {
   "cell_type": "markdown",
   "id": "bc55fb8a",
   "metadata": {
    "id": "bc55fb8a"
   },
   "source": [
    "1. Convert the column \"date_of_infraction\" into the date-time format\n",
    "    - use the `apply` method and `strptime` function from the `datetime` package to create a new column `\"date\"` containing the dates of infractions expressed as a date-time object\n",
    "    - drop the original `\"date_of_infraction\"` column from the data frame\n",
    "    - create two new columns \"month\" and \"week_day\" containing the Month and Day of the week extracted from the \"date\" column. Hint: use the \"apply\" method and strftime function. Resource:  https://strftime.org/\n",
    "2. Create a new column `\"street\"` by extracting street name from the \"address\" column\n",
    "    - Hint: the addresses always begin with a house bumber followed by a space folowed by the street name\n",
    "    - List the top 10 most frequent street names\n",
    "    - How many unique combinations of address and street are there?\n",
    "3. Convert the `\"week_day\"` and `\"month\"` columns into the Categorical data type\n",
    "    - also make sure that your categories are properly ordered"
   ]
  },
  {
   "cell_type": "code",
   "execution_count": 5,
   "id": "15fdd97d",
   "metadata": {
    "id": "15fdd97d"
   },
   "outputs": [
    {
     "data": {
      "text/html": [
       "<div>\n",
       "<style scoped>\n",
       "    .dataframe tbody tr th:only-of-type {\n",
       "        vertical-align: middle;\n",
       "    }\n",
       "\n",
       "    .dataframe tbody tr th {\n",
       "        vertical-align: top;\n",
       "    }\n",
       "\n",
       "    .dataframe thead th {\n",
       "        text-align: right;\n",
       "    }\n",
       "</style>\n",
       "<table border=\"1\" class=\"dataframe\">\n",
       "  <thead>\n",
       "    <tr style=\"text-align: right;\">\n",
       "      <th></th>\n",
       "      <th>date_of_infraction</th>\n",
       "      <th>infraction</th>\n",
       "      <th>fine</th>\n",
       "      <th>address</th>\n",
       "      <th>province</th>\n",
       "      <th>date</th>\n",
       "      <th>month</th>\n",
       "      <th>week_day</th>\n",
       "    </tr>\n",
       "  </thead>\n",
       "  <tbody>\n",
       "    <tr>\n",
       "      <th>0</th>\n",
       "      <td>20200421</td>\n",
       "      <td>STOP-(ON/OVER) (SIDEWK/FTPATH)</td>\n",
       "      <td>150</td>\n",
       "      <td>110 GLENDALE AVE</td>\n",
       "      <td>ON</td>\n",
       "      <td>2020-04-21</td>\n",
       "      <td>April</td>\n",
       "      <td>Tuesday</td>\n",
       "    </tr>\n",
       "    <tr>\n",
       "      <th>1</th>\n",
       "      <td>20200421</td>\n",
       "      <td>STOP-(ON/OVER) (SIDEWK/FTPATH)</td>\n",
       "      <td>150</td>\n",
       "      <td>108 GLENDALE AVE</td>\n",
       "      <td>ON</td>\n",
       "      <td>2020-04-21</td>\n",
       "      <td>April</td>\n",
       "      <td>Tuesday</td>\n",
       "    </tr>\n",
       "    <tr>\n",
       "      <th>2</th>\n",
       "      <td>20200421</td>\n",
       "      <td>PARK ON PRIVATE PROPERTY</td>\n",
       "      <td>30</td>\n",
       "      <td>11 APPLEWOOD LANE</td>\n",
       "      <td>ON</td>\n",
       "      <td>2020-04-21</td>\n",
       "      <td>April</td>\n",
       "      <td>Tuesday</td>\n",
       "    </tr>\n",
       "    <tr>\n",
       "      <th>3</th>\n",
       "      <td>20200421</td>\n",
       "      <td>PARK ON PRIVATE PROPERTY</td>\n",
       "      <td>30</td>\n",
       "      <td>11 APPLEWOOD LANE</td>\n",
       "      <td>ON</td>\n",
       "      <td>2020-04-21</td>\n",
       "      <td>April</td>\n",
       "      <td>Tuesday</td>\n",
       "    </tr>\n",
       "    <tr>\n",
       "      <th>4</th>\n",
       "      <td>20200421</td>\n",
       "      <td>PARK ON PRIVATE PROPERTY</td>\n",
       "      <td>30</td>\n",
       "      <td>11 APPLEWOOD LANE</td>\n",
       "      <td>ON</td>\n",
       "      <td>2020-04-21</td>\n",
       "      <td>April</td>\n",
       "      <td>Tuesday</td>\n",
       "    </tr>\n",
       "  </tbody>\n",
       "</table>\n",
       "</div>"
      ],
      "text/plain": [
       "   date_of_infraction                      infraction  fine  \\\n",
       "0            20200421  STOP-(ON/OVER) (SIDEWK/FTPATH)   150   \n",
       "1            20200421  STOP-(ON/OVER) (SIDEWK/FTPATH)   150   \n",
       "2            20200421        PARK ON PRIVATE PROPERTY    30   \n",
       "3            20200421        PARK ON PRIVATE PROPERTY    30   \n",
       "4            20200421        PARK ON PRIVATE PROPERTY    30   \n",
       "\n",
       "             address province       date  month week_day  \n",
       "0   110 GLENDALE AVE       ON 2020-04-21  April  Tuesday  \n",
       "1   108 GLENDALE AVE       ON 2020-04-21  April  Tuesday  \n",
       "2  11 APPLEWOOD LANE       ON 2020-04-21  April  Tuesday  \n",
       "3  11 APPLEWOOD LANE       ON 2020-04-21  April  Tuesday  \n",
       "4  11 APPLEWOOD LANE       ON 2020-04-21  April  Tuesday  "
      ]
     },
     "execution_count": 5,
     "metadata": {},
     "output_type": "execute_result"
    }
   ],
   "source": [
    "# 1\n",
    "df['date'] = df['date_of_infraction'].astype(str).apply(lambda x: dt.datetime.strptime(x, \"%Y%m%d\"))\n",
    "#df = df.drop('date_of_infraction', axis = 1)\n",
    "df[\"month\"] = df[\"date\"].apply(lambda x: x.strftime(\"%B\"))\n",
    "df[\"week_day\"] = df[\"date\"].apply(lambda x: x.strftime(\"%A\"))\n",
    "df.head()"
   ]
  },
  {
   "cell_type": "code",
   "execution_count": 6,
   "id": "883d4cf5",
   "metadata": {
    "id": "883d4cf5"
   },
   "outputs": [
    {
     "data": {
      "text/plain": [
       "YONGE ST         3797\n",
       "BAYVIEW AVE      2101\n",
       "LESLIE ST        1672\n",
       "COLLEGE ST       1495\n",
       "CUMBERLAND ST    1481\n",
       "SPADINA AVE      1426\n",
       "BAY ST           1278\n",
       "VICTORIA ST      1260\n",
       "CHERRY ST        1251\n",
       "YORKVILLE AVE    1214\n",
       "Name: street, dtype: int64"
      ]
     },
     "execution_count": 6,
     "metadata": {},
     "output_type": "execute_result"
    }
   ],
   "source": [
    "# 2\n",
    "df['street'] = df['address'].apply(lambda x: x.split(maxsplit = 1)[1])\n",
    "df.street.value_counts().head(10)"
   ]
  },
  {
   "cell_type": "code",
   "execution_count": 7,
   "id": "2315a02c",
   "metadata": {
    "id": "2315a02c"
   },
   "outputs": [
    {
     "data": {
      "text/plain": [
       "(27436, 2)"
      ]
     },
     "execution_count": 7,
     "metadata": {},
     "output_type": "execute_result"
    }
   ],
   "source": [
    "df[['address', 'street']].drop_duplicates().shape"
   ]
  },
  {
   "cell_type": "code",
   "execution_count": 8,
   "id": "b75cd482",
   "metadata": {
    "id": "b75cd482"
   },
   "outputs": [
    {
     "name": "stdout",
     "output_type": "stream",
     "text": [
      "<class 'pandas.core.frame.DataFrame'>\n",
      "RangeIndex: 150342 entries, 0 to 150341\n",
      "Data columns (total 9 columns):\n",
      " #   Column              Non-Null Count   Dtype         \n",
      "---  ------              --------------   -----         \n",
      " 0   date_of_infraction  150342 non-null  int64         \n",
      " 1   infraction          150342 non-null  object        \n",
      " 2   fine                150342 non-null  int64         \n",
      " 3   address             150342 non-null  object        \n",
      " 4   province            150342 non-null  object        \n",
      " 5   date                150342 non-null  datetime64[ns]\n",
      " 6   month               150342 non-null  category      \n",
      " 7   week_day            150342 non-null  category      \n",
      " 8   street              150342 non-null  object        \n",
      "dtypes: category(2), datetime64[ns](1), int64(2), object(4)\n",
      "memory usage: 8.3+ MB\n"
     ]
    }
   ],
   "source": [
    "# 3\n",
    "df[\"week_day\"] = pd.Categorical(df[\"week_day\"], ordered = True, \n",
    "                                categories = ['Monday','Tuesday','Wednesday','Thursday','Friday','Saturday','Sunday'])\n",
    "\n",
    "df['month'] = pd.Categorical(df[\"month\"], ordered = True, \n",
    "                             categories = ['April', 'May', 'June', 'July', 'August'])\n",
    "\n",
    "df.info()"
   ]
  },
  {
   "cell_type": "markdown",
   "id": "65e06c03",
   "metadata": {
    "id": "65e06c03"
   },
   "source": [
    "#### 1.3- Subsetting and GroupBy Analysis"
   ]
  },
  {
   "cell_type": "markdown",
   "id": "e06384c0",
   "metadata": {
    "id": "e06384c0"
   },
   "source": [
    "1. Find the top 5 most frequent infraction categories and top 10 most frequently occurring streets\n",
    "2. Build a subset of the original data frame where the infractions and streets are those you identified in step 1\n",
    "    - How many rows does the subset data frame contain?\n",
    "2. Using the subset data from step 2 and the groupby method, compute:\n",
    "    - mean fines for each month\n",
    "    - mean fines for each week day\n",
    "    - find the provinces which paid a total of > 10000 in parking tickets"
   ]
  },
  {
   "cell_type": "code",
   "execution_count": 9,
   "id": "c77334cf",
   "metadata": {
    "id": "c77334cf",
    "outputId": "79cbfff0-e515-4cde-d81d-d0309311a6d5"
   },
   "outputs": [
    {
     "data": {
      "text/plain": [
       "Index(['PARK ON PRIVATE PROPERTY', 'PARK-SIGNED HWY-PROHIBIT DY/TM',\n",
       "       'PARK MACHINE-REQD FEE NOT PAID', 'STOP-SIGNED HWY-PROHIBIT TM/DY',\n",
       "       'PARK ON MUNICIPAL PROPERTY'],\n",
       "      dtype='object')"
      ]
     },
     "execution_count": 9,
     "metadata": {},
     "output_type": "execute_result"
    }
   ],
   "source": [
    "# 1\n",
    "df['infraction'].value_counts().index[:5]"
   ]
  },
  {
   "cell_type": "code",
   "execution_count": 10,
   "id": "c0c70fac",
   "metadata": {
    "id": "c0c70fac",
    "outputId": "549a5d62-7586-47ea-ebce-93ca3da0f1c3"
   },
   "outputs": [
    {
     "data": {
      "text/plain": [
       "Index(['YONGE ST', 'BAYVIEW AVE', 'LESLIE ST', 'COLLEGE ST', 'CUMBERLAND ST',\n",
       "       'SPADINA AVE', 'BAY ST', 'VICTORIA ST', 'CHERRY ST', 'YORKVILLE AVE'],\n",
       "      dtype='object')"
      ]
     },
     "execution_count": 10,
     "metadata": {},
     "output_type": "execute_result"
    }
   ],
   "source": [
    "df['street'].value_counts().index[:10]"
   ]
  },
  {
   "cell_type": "code",
   "execution_count": 11,
   "id": "ed50a060",
   "metadata": {},
   "outputs": [
    {
     "name": "stdout",
     "output_type": "stream",
     "text": [
      "<class 'pandas.core.frame.DataFrame'>\n",
      "Int64Index: 12056 entries, 5 to 150341\n",
      "Data columns (total 9 columns):\n",
      " #   Column              Non-Null Count  Dtype         \n",
      "---  ------              --------------  -----         \n",
      " 0   date_of_infraction  12056 non-null  int64         \n",
      " 1   infraction          12056 non-null  object        \n",
      " 2   fine                12056 non-null  int64         \n",
      " 3   address             12056 non-null  object        \n",
      " 4   province            12056 non-null  object        \n",
      " 5   date                12056 non-null  datetime64[ns]\n",
      " 6   month               12056 non-null  category      \n",
      " 7   week_day            12056 non-null  category      \n",
      " 8   street              12056 non-null  object        \n",
      "dtypes: category(2), datetime64[ns](1), int64(2), object(4)\n",
      "memory usage: 777.6+ KB\n"
     ]
    }
   ],
   "source": [
    "# 2\n",
    "df2 = df[(df['street'].isin(list(df['street'].value_counts().index[:10]))) &\n",
    "        (df['infraction'].isin(list(df['infraction'].value_counts().index[:5])))]\n",
    "\n",
    "df2.info()"
   ]
  },
  {
   "cell_type": "code",
   "execution_count": 12,
   "id": "274ca183",
   "metadata": {
    "id": "274ca183",
    "outputId": "9856f23a-7f0a-41e7-ab21-9ad692371447"
   },
   "outputs": [
    {
     "data": {
      "text/html": [
       "<div>\n",
       "<style scoped>\n",
       "    .dataframe tbody tr th:only-of-type {\n",
       "        vertical-align: middle;\n",
       "    }\n",
       "\n",
       "    .dataframe tbody tr th {\n",
       "        vertical-align: top;\n",
       "    }\n",
       "\n",
       "    .dataframe thead th {\n",
       "        text-align: right;\n",
       "    }\n",
       "</style>\n",
       "<table border=\"1\" class=\"dataframe\">\n",
       "  <thead>\n",
       "    <tr style=\"text-align: right;\">\n",
       "      <th></th>\n",
       "      <th>date_of_infraction</th>\n",
       "      <th>fine</th>\n",
       "    </tr>\n",
       "    <tr>\n",
       "      <th>month</th>\n",
       "      <th></th>\n",
       "      <th></th>\n",
       "    </tr>\n",
       "  </thead>\n",
       "  <tbody>\n",
       "    <tr>\n",
       "      <th>April</th>\n",
       "      <td>2.020043e+07</td>\n",
       "      <td>36.914062</td>\n",
       "    </tr>\n",
       "    <tr>\n",
       "      <th>May</th>\n",
       "      <td>2.020052e+07</td>\n",
       "      <td>34.662096</td>\n",
       "    </tr>\n",
       "    <tr>\n",
       "      <th>June</th>\n",
       "      <td>2.020062e+07</td>\n",
       "      <td>34.228284</td>\n",
       "    </tr>\n",
       "    <tr>\n",
       "      <th>July</th>\n",
       "      <td>2.020072e+07</td>\n",
       "      <td>39.636121</td>\n",
       "    </tr>\n",
       "    <tr>\n",
       "      <th>August</th>\n",
       "      <td>2.020081e+07</td>\n",
       "      <td>40.491900</td>\n",
       "    </tr>\n",
       "  </tbody>\n",
       "</table>\n",
       "</div>"
      ],
      "text/plain": [
       "        date_of_infraction       fine\n",
       "month                                \n",
       "April         2.020043e+07  36.914062\n",
       "May           2.020052e+07  34.662096\n",
       "June          2.020062e+07  34.228284\n",
       "July          2.020072e+07  39.636121\n",
       "August        2.020081e+07  40.491900"
      ]
     },
     "execution_count": 12,
     "metadata": {},
     "output_type": "execute_result"
    }
   ],
   "source": [
    "# 3\n",
    "df2.groupby(\"month\").mean('fine')\n",
    "## also try df2.groupby(\"month\")['fine'].mean()"
   ]
  },
  {
   "cell_type": "code",
   "execution_count": 13,
   "id": "c361c8be",
   "metadata": {
    "id": "c361c8be",
    "outputId": "fc5dd52f-d644-469a-eec0-62db2fd5d2ef"
   },
   "outputs": [
    {
     "data": {
      "text/html": [
       "<div>\n",
       "<style scoped>\n",
       "    .dataframe tbody tr th:only-of-type {\n",
       "        vertical-align: middle;\n",
       "    }\n",
       "\n",
       "    .dataframe tbody tr th {\n",
       "        vertical-align: top;\n",
       "    }\n",
       "\n",
       "    .dataframe thead th {\n",
       "        text-align: right;\n",
       "    }\n",
       "</style>\n",
       "<table border=\"1\" class=\"dataframe\">\n",
       "  <thead>\n",
       "    <tr style=\"text-align: right;\">\n",
       "      <th></th>\n",
       "      <th>date_of_infraction</th>\n",
       "      <th>fine</th>\n",
       "    </tr>\n",
       "    <tr>\n",
       "      <th>week_day</th>\n",
       "      <th></th>\n",
       "      <th></th>\n",
       "    </tr>\n",
       "  </thead>\n",
       "  <tbody>\n",
       "    <tr>\n",
       "      <th>Monday</th>\n",
       "      <td>2.020071e+07</td>\n",
       "      <td>38.500252</td>\n",
       "    </tr>\n",
       "    <tr>\n",
       "      <th>Tuesday</th>\n",
       "      <td>2.020071e+07</td>\n",
       "      <td>40.295675</td>\n",
       "    </tr>\n",
       "    <tr>\n",
       "      <th>Wednesday</th>\n",
       "      <td>2.020071e+07</td>\n",
       "      <td>39.382889</td>\n",
       "    </tr>\n",
       "    <tr>\n",
       "      <th>Thursday</th>\n",
       "      <td>2.020072e+07</td>\n",
       "      <td>40.186047</td>\n",
       "    </tr>\n",
       "    <tr>\n",
       "      <th>Friday</th>\n",
       "      <td>2.020071e+07</td>\n",
       "      <td>37.365510</td>\n",
       "    </tr>\n",
       "    <tr>\n",
       "      <th>Saturday</th>\n",
       "      <td>2.020069e+07</td>\n",
       "      <td>35.969388</td>\n",
       "    </tr>\n",
       "    <tr>\n",
       "      <th>Sunday</th>\n",
       "      <td>2.020068e+07</td>\n",
       "      <td>35.735493</td>\n",
       "    </tr>\n",
       "  </tbody>\n",
       "</table>\n",
       "</div>"
      ],
      "text/plain": [
       "           date_of_infraction       fine\n",
       "week_day                                \n",
       "Monday           2.020071e+07  38.500252\n",
       "Tuesday          2.020071e+07  40.295675\n",
       "Wednesday        2.020071e+07  39.382889\n",
       "Thursday         2.020072e+07  40.186047\n",
       "Friday           2.020071e+07  37.365510\n",
       "Saturday         2.020069e+07  35.969388\n",
       "Sunday           2.020068e+07  35.735493"
      ]
     },
     "execution_count": 13,
     "metadata": {},
     "output_type": "execute_result"
    }
   ],
   "source": [
    "df2.groupby(\"week_day\").mean('fine')"
   ]
  },
  {
   "cell_type": "code",
   "execution_count": 14,
   "id": "6b6f8122",
   "metadata": {
    "id": "6b6f8122",
    "outputId": "90eea759-52c5-4cee-f9af-ca1df3e163c2"
   },
   "outputs": [
    {
     "data": {
      "text/html": [
       "<div>\n",
       "<style scoped>\n",
       "    .dataframe tbody tr th:only-of-type {\n",
       "        vertical-align: middle;\n",
       "    }\n",
       "\n",
       "    .dataframe tbody tr th {\n",
       "        vertical-align: top;\n",
       "    }\n",
       "\n",
       "    .dataframe thead th {\n",
       "        text-align: right;\n",
       "    }\n",
       "</style>\n",
       "<table border=\"1\" class=\"dataframe\">\n",
       "  <thead>\n",
       "    <tr style=\"text-align: right;\">\n",
       "      <th></th>\n",
       "      <th>date_of_infraction</th>\n",
       "      <th>fine</th>\n",
       "    </tr>\n",
       "    <tr>\n",
       "      <th>province</th>\n",
       "      <th></th>\n",
       "      <th></th>\n",
       "    </tr>\n",
       "  </thead>\n",
       "  <tbody>\n",
       "    <tr>\n",
       "      <th>AB</th>\n",
       "      <td>9554933211</td>\n",
       "      <td>21390</td>\n",
       "    </tr>\n",
       "    <tr>\n",
       "      <th>AZ</th>\n",
       "      <td>4363353931</td>\n",
       "      <td>14230</td>\n",
       "    </tr>\n",
       "    <tr>\n",
       "      <th>MB</th>\n",
       "      <td>4040141357</td>\n",
       "      <td>10440</td>\n",
       "    </tr>\n",
       "    <tr>\n",
       "      <th>NS</th>\n",
       "      <td>4363348191</td>\n",
       "      <td>11340</td>\n",
       "    </tr>\n",
       "    <tr>\n",
       "      <th>ON</th>\n",
       "      <td>2934334378088</td>\n",
       "      <td>7454860</td>\n",
       "    </tr>\n",
       "    <tr>\n",
       "      <th>PQ</th>\n",
       "      <td>6019798099</td>\n",
       "      <td>12290</td>\n",
       "    </tr>\n",
       "    <tr>\n",
       "      <th>QC</th>\n",
       "      <td>50724020982</td>\n",
       "      <td>149820</td>\n",
       "    </tr>\n",
       "  </tbody>\n",
       "</table>\n",
       "</div>"
      ],
      "text/plain": [
       "          date_of_infraction     fine\n",
       "province                             \n",
       "AB                9554933211    21390\n",
       "AZ                4363353931    14230\n",
       "MB                4040141357    10440\n",
       "NS                4363348191    11340\n",
       "ON             2934334378088  7454860\n",
       "PQ                6019798099    12290\n",
       "QC               50724020982   149820"
      ]
     },
     "execution_count": 14,
     "metadata": {},
     "output_type": "execute_result"
    }
   ],
   "source": [
    "fines_by_province = df.groupby(\"province\").sum('fine')\n",
    "fines_by_province[fines_by_province['fine'] > 10000]"
   ]
  },
  {
   "cell_type": "markdown",
   "id": "527223ca",
   "metadata": {
    "id": "527223ca"
   },
   "source": [
    "## Part 2.  Merging. Missing data"
   ]
  },
  {
   "cell_type": "markdown",
   "id": "16aab6f3",
   "metadata": {
    "id": "16aab6f3"
   },
   "source": [
    "#### Data:\n",
    "\n",
    "- `debt_public.csv`\n",
    "    - this data table contains the following columns:\n",
    "        - Country\n",
    "        - gross_debt_per_GDP (gross government debt as percent of GDP)\n",
    "        - net_debt_per_GDP (net government debt as percent of GDP)\n",
    "\n",
    "\n",
    "- `gdp_by_country.csv`\n",
    "    - gross domestic product estimates from three independent sources (IMF, WB, CIA) and the year of the estimate\n",
    "\n",
    "\n",
    "- `continents.csv`\n",
    "    - a table of countries and continents\n"
   ]
  },
  {
   "cell_type": "markdown",
   "id": "441a5d6a",
   "metadata": {
    "id": "441a5d6a"
   },
   "source": [
    "#### 2.1- Import and Inspect Data\n",
    "\n",
    "1. Import data from the following sources: `debt_public.csv`, `gdp_by_country.csv`, `continents.csv` into Pandas data frames\n",
    "2. Inspect the data frames:\n",
    "    - Preview a few sample rows\n",
    "    - Preview and inspect descriptive statistics for the numerical and string columns\n",
    "3. Does any of the three data frames contain missing data (`NaN`)?"
   ]
  },
  {
   "cell_type": "code",
   "execution_count": 15,
   "id": "8fa4b617",
   "metadata": {
    "id": "8fa4b617"
   },
   "outputs": [],
   "source": [
    "# 1\n",
    "\n",
    "pDebt = pd.read_csv(\"../data/debt_public.csv\")\n",
    "gdp = pd.read_csv(\"../data/gdp_by_country.csv\")\n",
    "continents = pd.read_csv(\"../data/continents.csv\")"
   ]
  },
  {
   "cell_type": "code",
   "execution_count": 16,
   "id": "24c2811f",
   "metadata": {},
   "outputs": [],
   "source": [
    "# 2\n",
    "\n",
    "## Hint: head(), describe()"
   ]
  },
  {
   "cell_type": "code",
   "execution_count": 17,
   "id": "ac70eeb7",
   "metadata": {},
   "outputs": [
    {
     "name": "stdout",
     "output_type": "stream",
     "text": [
      "Country                 0\n",
      "gross_debt_per_GDP      8\n",
      "net_debt_per_GDP      110\n",
      "dtype: int64 \n",
      " \n",
      " Country          0\n",
      "IMF_Estimate    36\n",
      "IMF_Year        36\n",
      "WB_Estimate     30\n",
      "WB_Year         30\n",
      "CIA_Estimate     0\n",
      "CIA_Year         0\n",
      "dtype: int64 \n",
      " \n",
      " Country      0\n",
      "Continent    0\n",
      "dtype: int64 \n",
      " \n",
      "\n"
     ]
    }
   ],
   "source": [
    "# 3\n",
    "print(\n",
    "    pDebt.isna().sum(), '\\n', '\\n',\n",
    "    gdp.isna().sum(), '\\n','\\n',\n",
    "    continents.isna().sum(),'\\n', '\\n')"
   ]
  },
  {
   "cell_type": "markdown",
   "id": "f89288c9",
   "metadata": {
    "id": "f89288c9"
   },
   "source": [
    "#### 2.2- Data Transformation\n",
    "\n",
    "1. gdp data:\n",
    "    - remove all except 'Country' and 'CIA_Estimate'\n",
    "    - rename 'CIA_Estimate' column to 'GDP'\n",
    "    - add a `\"Continent\"` column by merging the `gdp` and `continents` data frames on the `\"Country\"` column\n",
    "\n",
    "\n",
    "2. public debt data:\n",
    "    - remove rows where `\"gross_debt_per_GDP\"` is missing (`NaN`)\n",
    "    - check for the number of missing values in each column\n",
    "    - merge the `pDebt` and `gdp` data frames into a master data frame `df_debt`\n",
    "    - add a caclulated column `\"gross_pub_debt\"` for the absolute values of gross public debt using the GDP values and the values of gross debt expressed as percentage of GDP\n",
    "    - add another calculated column `\"debt_bin\"` by binning \"gross_pub_debt\" into two bins: \"Low\" and \"High\" separated by the median value of `\"gross_pub_debt\"`"
   ]
  },
  {
   "cell_type": "code",
   "execution_count": 18,
   "id": "f7764c03",
   "metadata": {
    "id": "f7764c03"
   },
   "outputs": [],
   "source": [
    "# # 1\n",
    "gdp = gdp[[\"Country\", \"CIA_Estimate\"]]\n",
    "gdp.columns = [\"Country\", \"GDP\"]\n",
    "gdp = pd.merge(gdp, continents, on = \"Country\")"
   ]
  },
  {
   "cell_type": "code",
   "execution_count": 19,
   "id": "6e197203",
   "metadata": {
    "id": "6e197203",
    "outputId": "366086b4-02b6-4df3-edca-ca842408aead"
   },
   "outputs": [
    {
     "name": "stdout",
     "output_type": "stream",
     "text": [
      "<class 'pandas.core.frame.DataFrame'>\n",
      "Int64Index: 190 entries, 1 to 197\n",
      "Data columns (total 3 columns):\n",
      " #   Column              Non-Null Count  Dtype  \n",
      "---  ------              --------------  -----  \n",
      " 0   Country             190 non-null    object \n",
      " 1   gross_debt_per_GDP  190 non-null    float64\n",
      " 2   net_debt_per_GDP    88 non-null     float64\n",
      "dtypes: float64(2), object(1)\n",
      "memory usage: 5.9+ KB\n"
     ]
    }
   ],
   "source": [
    "# #2\n",
    "\n",
    "pDebt = pDebt.dropna(subset = ['gross_debt_per_GDP'])\n",
    "pDebt.info()"
   ]
  },
  {
   "cell_type": "code",
   "execution_count": 20,
   "id": "ea256b6f",
   "metadata": {
    "id": "ea256b6f"
   },
   "outputs": [],
   "source": [
    "df_debt = pd.merge(gdp, pDebt)"
   ]
  },
  {
   "cell_type": "code",
   "execution_count": 21,
   "id": "4510d77c",
   "metadata": {
    "id": "4510d77c"
   },
   "outputs": [],
   "source": [
    "df_debt['gross_pub_debt'] = (0.01 *\n",
    "        df_debt['gross_debt_per_GDP'] * df_debt['GDP']).astype(int)"
   ]
  },
  {
   "cell_type": "code",
   "execution_count": 22,
   "id": "012d2c41",
   "metadata": {
    "id": "012d2c41"
   },
   "outputs": [],
   "source": [
    "df_debt['debt_bin'] = pd.cut(df_debt[\"gross_pub_debt\"], bins =\n",
    "                              [0, df_debt['gross_pub_debt'].median(), df_debt['gross_pub_debt'].max()],\n",
    "                             labels = [\"Low\", \"High\"])"
   ]
  },
  {
   "cell_type": "markdown",
   "id": "24bb85f6",
   "metadata": {},
   "source": [
    "#### 2.3- impute missing values\n",
    "- verify again which columns have missing values in the master data frame `df_debt`\n",
    "- does the number of missing values justify using .dropna() (removing entire rows containing missing values)?\n",
    "- check which fillna method should be used. One possibility is to fill the NaNs with the mean of the non-missing values - this can work if the distribution is reasonably symmetrical, i.e., mean and median are close to each other"
   ]
  },
  {
   "cell_type": "code",
   "execution_count": 23,
   "id": "ab97007f",
   "metadata": {
    "id": "ab97007f",
    "outputId": "69b962cf-7c27-4dab-d0ee-2302b3ff13e7"
   },
   "outputs": [
    {
     "name": "stdout",
     "output_type": "stream",
     "text": [
      "<class 'pandas.core.frame.DataFrame'>\n",
      "Int64Index: 176 entries, 0 to 175\n",
      "Data columns (total 7 columns):\n",
      " #   Column              Non-Null Count  Dtype   \n",
      "---  ------              --------------  -----   \n",
      " 0   Country             176 non-null    object  \n",
      " 1   GDP                 176 non-null    int64   \n",
      " 2   Continent           176 non-null    object  \n",
      " 3   gross_debt_per_GDP  176 non-null    float64 \n",
      " 4   net_debt_per_GDP    84 non-null     float64 \n",
      " 5   gross_pub_debt      176 non-null    int32   \n",
      " 6   debt_bin            176 non-null    category\n",
      "dtypes: category(1), float64(2), int32(1), int64(1), object(2)\n",
      "memory usage: 9.2+ KB\n"
     ]
    }
   ],
   "source": [
    "# #3\n",
    "df_debt.info()\n",
    "### too many rows with missing values\n",
    "### .dropna() will cause significant data loss"
   ]
  },
  {
   "cell_type": "code",
   "execution_count": 24,
   "id": "952b9e14",
   "metadata": {
    "id": "952b9e14",
    "outputId": "e053af0d-4578-4989-bd74-8fcf0b01e1d5",
    "scrolled": true
   },
   "outputs": [
    {
     "data": {
      "text/plain": [
       "count     84.000000\n",
       "mean      49.747619\n",
       "std       35.705615\n",
       "min      -86.700000\n",
       "25%       31.125000\n",
       "50%       47.800000\n",
       "75%       64.725000\n",
       "max      168.100000\n",
       "Name: net_debt_per_GDP, dtype: float64"
      ]
     },
     "execution_count": 24,
     "metadata": {},
     "output_type": "execute_result"
    }
   ],
   "source": [
    "df_debt['net_debt_per_GDP'].describe()\n",
    "## yes we can fillna with mean values"
   ]
  },
  {
   "cell_type": "code",
   "execution_count": 25,
   "id": "9ec3bf99",
   "metadata": {
    "id": "9ec3bf99",
    "outputId": "5e471fcb-5224-4e70-9f29-0f6e1c8f0215"
   },
   "outputs": [
    {
     "name": "stdout",
     "output_type": "stream",
     "text": [
      "<class 'pandas.core.frame.DataFrame'>\n",
      "Int64Index: 176 entries, 0 to 175\n",
      "Data columns (total 7 columns):\n",
      " #   Column              Non-Null Count  Dtype   \n",
      "---  ------              --------------  -----   \n",
      " 0   Country             176 non-null    object  \n",
      " 1   GDP                 176 non-null    int64   \n",
      " 2   Continent           176 non-null    object  \n",
      " 3   gross_debt_per_GDP  176 non-null    float64 \n",
      " 4   net_debt_per_GDP    176 non-null    float64 \n",
      " 5   gross_pub_debt      176 non-null    int32   \n",
      " 6   debt_bin            176 non-null    category\n",
      "dtypes: category(1), float64(2), int32(1), int64(1), object(2)\n",
      "memory usage: 9.2+ KB\n"
     ]
    }
   ],
   "source": [
    "df_debt['net_debt_per_GDP'] = df_debt['net_debt_per_GDP'].fillna(df_debt['net_debt_per_GDP'].mean())\n",
    "df_debt.info()"
   ]
  },
  {
   "cell_type": "code",
   "execution_count": 26,
   "id": "6867aa0f",
   "metadata": {
    "id": "6867aa0f",
    "outputId": "1e867980-ca5e-4467-ea1b-5d4c05f1aa97"
   },
   "outputs": [
    {
     "data": {
      "text/html": [
       "<div>\n",
       "<style scoped>\n",
       "    .dataframe tbody tr th:only-of-type {\n",
       "        vertical-align: middle;\n",
       "    }\n",
       "\n",
       "    .dataframe tbody tr th {\n",
       "        vertical-align: top;\n",
       "    }\n",
       "\n",
       "    .dataframe thead th {\n",
       "        text-align: right;\n",
       "    }\n",
       "</style>\n",
       "<table border=\"1\" class=\"dataframe\">\n",
       "  <thead>\n",
       "    <tr style=\"text-align: right;\">\n",
       "      <th></th>\n",
       "      <th>Country</th>\n",
       "      <th>GDP</th>\n",
       "      <th>Continent</th>\n",
       "      <th>gross_debt_per_GDP</th>\n",
       "      <th>net_debt_per_GDP</th>\n",
       "      <th>gross_pub_debt</th>\n",
       "      <th>debt_bin</th>\n",
       "    </tr>\n",
       "  </thead>\n",
       "  <tbody>\n",
       "    <tr>\n",
       "      <th>0</th>\n",
       "      <td>China</td>\n",
       "      <td>23009780</td>\n",
       "      <td>Asia</td>\n",
       "      <td>71.5</td>\n",
       "      <td>49.747619</td>\n",
       "      <td>16451992</td>\n",
       "      <td>High</td>\n",
       "    </tr>\n",
       "    <tr>\n",
       "      <th>1</th>\n",
       "      <td>United States</td>\n",
       "      <td>19846720</td>\n",
       "      <td>Americas</td>\n",
       "      <td>128.1</td>\n",
       "      <td>99.600000</td>\n",
       "      <td>25423648</td>\n",
       "      <td>High</td>\n",
       "    </tr>\n",
       "    <tr>\n",
       "      <th>2</th>\n",
       "      <td>India</td>\n",
       "      <td>8443360</td>\n",
       "      <td>Asia</td>\n",
       "      <td>84.2</td>\n",
       "      <td>49.747619</td>\n",
       "      <td>7109309</td>\n",
       "      <td>High</td>\n",
       "    </tr>\n",
       "    <tr>\n",
       "      <th>3</th>\n",
       "      <td>Japan</td>\n",
       "      <td>5224850</td>\n",
       "      <td>Asia</td>\n",
       "      <td>262.5</td>\n",
       "      <td>168.100000</td>\n",
       "      <td>13715231</td>\n",
       "      <td>High</td>\n",
       "    </tr>\n",
       "    <tr>\n",
       "      <th>4</th>\n",
       "      <td>Germany</td>\n",
       "      <td>4238800</td>\n",
       "      <td>Europe</td>\n",
       "      <td>69.6</td>\n",
       "      <td>47.000000</td>\n",
       "      <td>2950204</td>\n",
       "      <td>High</td>\n",
       "    </tr>\n",
       "  </tbody>\n",
       "</table>\n",
       "</div>"
      ],
      "text/plain": [
       "         Country       GDP Continent  gross_debt_per_GDP  net_debt_per_GDP  \\\n",
       "0          China  23009780      Asia                71.5         49.747619   \n",
       "1  United States  19846720  Americas               128.1         99.600000   \n",
       "2          India   8443360      Asia                84.2         49.747619   \n",
       "3          Japan   5224850      Asia               262.5        168.100000   \n",
       "4        Germany   4238800    Europe                69.6         47.000000   \n",
       "\n",
       "   gross_pub_debt debt_bin  \n",
       "0        16451992     High  \n",
       "1        25423648     High  \n",
       "2         7109309     High  \n",
       "3        13715231     High  \n",
       "4         2950204     High  "
      ]
     },
     "execution_count": 26,
     "metadata": {},
     "output_type": "execute_result"
    }
   ],
   "source": [
    "df_debt.head()"
   ]
  },
  {
   "cell_type": "code",
   "execution_count": null,
   "id": "7240a388",
   "metadata": {},
   "outputs": [],
   "source": []
  }
 ],
 "metadata": {
  "colab": {
   "provenance": []
  },
  "kernelspec": {
   "display_name": "Python 3 (ipykernel)",
   "language": "python",
   "name": "python3"
  },
  "language_info": {
   "codemirror_mode": {
    "name": "ipython",
    "version": 3
   },
   "file_extension": ".py",
   "mimetype": "text/x-python",
   "name": "python",
   "nbconvert_exporter": "python",
   "pygments_lexer": "ipython3",
   "version": "3.7.9"
  }
 },
 "nbformat": 4,
 "nbformat_minor": 5
}

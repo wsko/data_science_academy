{
 "cells": [
  {
   "cell_type": "markdown",
   "id": "3ed3ef60",
   "metadata": {},
   "source": [
    "## Lab 7. Unsupervised Learning"
   ]
  },
  {
   "cell_type": "code",
   "execution_count": 1,
   "id": "e228c107",
   "metadata": {},
   "outputs": [],
   "source": [
    "import pandas as pd\n",
    "import numpy as np\n",
    "import matplotlib.pyplot as plt\n",
    "import seaborn as sns\n",
    "\n",
    "from sklearn.cluster import KMeans\n",
    "from sklearn.cluster import AgglomerativeClustering \n",
    "from sklearn.metrics import silhouette_score\n",
    "import scipy.cluster.hierarchy as shc\n",
    "\n",
    "from sklearn.preprocessing import MinMaxScaler\n",
    "\n",
    "import warnings\n",
    "warnings.filterwarnings('ignore')"
   ]
  },
  {
   "cell_type": "markdown",
   "id": "6ded82ff",
   "metadata": {},
   "source": [
    "## Insurance customer segmentation\n",
    "\n",
    "Help a medical insurance company understand customer segments and the likelihod of a major insurance claim for each of the segments "
   ]
  },
  {
   "cell_type": "markdown",
   "id": "1747221a",
   "metadata": {},
   "source": [
    "- Import insurance2.csv into a Pandas data frame\n",
    "- Create a features array and include only the following numerical features: `['age', 'bmi']`\n",
    "- Create a label array from the 'insuranceclaim' column\n",
    "- Compute an agglomerative clustering dendrogram using Ward linkage mehod. How many custers do you see?\n",
    "- Plot the silhouette score vs number of clusters and use it to make a decision on the number of clusters\n",
    "- Train an agglomerative clustering model\n",
    "- Create a pairplot of your data and color-code it by the cluster label. Inspect the resuting cluster structure\n",
    "- Repeat cluster analysis using K-means. Explain the differences between the results of HCA vs K-Means\n",
    "- __bonus__: ss there a statistically significant association between the cluster labels and the target variable (y) in our dataset? We can test this using a chi-square test on the contingency table (crosstab) between the two variables"
   ]
  },
  {
   "cell_type": "markdown",
   "id": "f71638b3",
   "metadata": {},
   "source": [
    "### Optional: Bank customer segmentation\n",
    "\n",
    "Using the Churn dataset, help the Bank customize their retetion strategy by identifying a few distinct customer segments \n",
    "\n",
    "**Features**\n",
    "\n",
    "- __CreditScore:__\tCustomer’s credit score\n",
    "- __Age:__\tCustomer’s age\n",
    "- __Tenure:__\tNumber of years that the customer has been a client of the bank\n",
    "- __EstimatedSalary:__\tCustomer’s salary estimated from the customer’s bank product usage patterns\n",
    "\n",
    "\n",
    "\n",
    "#### 1. Data import, inspection and preparation\n",
    "\n",
    "- Import the Churn dataset as a Pandas dataframe\n",
    "- Inspect the data\n",
    "- Select the following four numerical columns for cluster anaysis: ['CreditScore', 'Age', 'Tenure', 'EstimatedSalary']\n",
    "- Trasform the data subset into a numpy array and scale the data using the min-max scaler\n",
    "\n",
    "`df = pd.read_csv(\"Churn_Modeling.csv\")`\n",
    "\n",
    "`df = df.iloc[:, 2:]`\n",
    "\n",
    "`df.info()`\n",
    "\n",
    "`features = ['CreditScore', 'Age', 'Tenure', 'EstimatedSalary']`\n",
    "\n",
    "`X = df[features].to_numpy()`\n",
    "\n",
    "`scaler = MinMaxScaler()`\n",
    "\n",
    "`Xs = scaler.fit_transform(X)`\n",
    "\n",
    "#### 2. Create and optimize a K-means model\n",
    "\n",
    "- Plot a knee curve for model inertia and choose an optimum number of clusters\n",
    "- For the selected number of clusters, train a K-means model\n",
    "- Create a pairplot of your data and color-code it by the cluster label. Inspect the resuting cluster structure"
   ]
  },
  {
   "cell_type": "code",
   "execution_count": null,
   "id": "b5b0838e",
   "metadata": {},
   "outputs": [],
   "source": []
  }
 ],
 "metadata": {
  "kernelspec": {
   "display_name": "Python 3 (ipykernel)",
   "language": "python",
   "name": "python3"
  },
  "language_info": {
   "codemirror_mode": {
    "name": "ipython",
    "version": 3
   },
   "file_extension": ".py",
   "mimetype": "text/x-python",
   "name": "python",
   "nbconvert_exporter": "python",
   "pygments_lexer": "ipython3",
   "version": "3.7.13"
  }
 },
 "nbformat": 4,
 "nbformat_minor": 5
}

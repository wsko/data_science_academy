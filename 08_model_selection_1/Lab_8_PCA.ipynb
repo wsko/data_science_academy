{
 "cells": [
  {
   "cell_type": "markdown",
   "id": "facec722",
   "metadata": {},
   "source": [
    "## Lab 8: Principal Component Analysis (PCA)"
   ]
  },
  {
   "cell_type": "code",
   "execution_count": null,
   "id": "8dd07e76",
   "metadata": {},
   "outputs": [],
   "source": [
    "import pandas as pd\n",
    "import numpy as np\n",
    "import seaborn as sns\n",
    "import matplotlib.pyplot as plt\n",
    "\n",
    "from sklearn.preprocessing import StandardScaler\n",
    "from sklearn.preprocessing import PolynomialFeatures\n",
    "from sklearn.preprocessing import LabelEncoder\n",
    "\n",
    "from sklearn.linear_model import LogisticRegression\n",
    "from sklearn.metrics import classification_report\n",
    "\n",
    "from sklearn.decomposition import PCA\n",
    "\n",
    "from sklearn.cluster import KMeans\n",
    "\n",
    "from sklearn.metrics import silhouette_score\n",
    "\n",
    "import warnings\n",
    "warnings.filterwarnings('ignore')"
   ]
  },
  {
   "cell_type": "code",
   "execution_count": null,
   "id": "b14ee0ed",
   "metadata": {},
   "outputs": [],
   "source": []
  },
  {
   "cell_type": "markdown",
   "id": "533533d1",
   "metadata": {},
   "source": [
    "### Bank customer segmentation\n",
    "#### Use PCA to improve cluster analysis\n",
    "\n",
    "- Import and inspect the \"credit_card.csv\" dataset\n",
    "- Remove a column which cannot be used efficiently as a feature, and impute missing data (you can use the method \"ffill\"). Inspect the cleaned data set. What data types does it now include?\n",
    "- Inspect the features for multicollinearity - plot a heat map of the correlation coefficients\n",
    "- Scale the features (you can use the standard scaler since we don't need to worry about dummy categorical variables)\n",
    "- Perform K-means cluster analysis: plot K-means inertia vs number of clusters. Can you identify the elbow point?\n",
    "- Perform PCA and visualize the explained variance ratio vs number of principal components\n",
    "- Plot a heat map of correlation coefficients for the principal components\n",
    "- Plot a K-means elbow curve for the first 3 principal components. Did the PCA transformation make the elbow curve become more expressive? Do you see any improvements in the silhouette score?\n",
    "- For the selected number of clusters, plot a pairplot of the first 3 principal component using cluster label as the hue"
   ]
  }
 ],
 "metadata": {
  "kernelspec": {
   "display_name": "Python 3 (ipykernel)",
   "language": "python",
   "name": "python3"
  },
  "language_info": {
   "codemirror_mode": {
    "name": "ipython",
    "version": 3
   },
   "file_extension": ".py",
   "mimetype": "text/x-python",
   "name": "python",
   "nbconvert_exporter": "python",
   "pygments_lexer": "ipython3",
   "version": "3.9.12"
  }
 },
 "nbformat": 4,
 "nbformat_minor": 5
}

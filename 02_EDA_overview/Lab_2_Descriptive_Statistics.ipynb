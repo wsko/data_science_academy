{
 "cells": [
  {
   "cell_type": "markdown",
   "id": "3785eaa9",
   "metadata": {},
   "source": [
    "## Lab 2. Descriptive Statistics"
   ]
  },
  {
   "cell_type": "markdown",
   "id": "54da517a",
   "metadata": {},
   "source": [
    "In this lab we will explore the Finance Dataset from Kaggle using univariate and multivariate descriptive statistics:\n",
    "https://www.kaggle.com/datasets/nitindatta/finance-data"
   ]
  },
  {
   "cell_type": "markdown",
   "id": "108f3d13",
   "metadata": {},
   "source": [
    "### Part 1 Data Import and Inspection"
   ]
  },
  {
   "cell_type": "markdown",
   "id": "3cabf387",
   "metadata": {},
   "source": [
    "##### 1.1\n",
    "\n",
    "- Examine the Finance Dataset data file and the data dictionary using your favourite spreadsheet software (e.g., Excel)\n",
    "- Import Python libraries"
   ]
  },
  {
   "cell_type": "code",
   "execution_count": 1,
   "id": "212541a5",
   "metadata": {},
   "outputs": [],
   "source": [
    "import numpy as np\n",
    "import pandas as pd\n",
    "from matplotlib import pyplot as plt"
   ]
  },
  {
   "cell_type": "markdown",
   "id": "6a212097",
   "metadata": {},
   "source": [
    "##### 1.2\n",
    "- Import the Finance Dataset as a Pandas data frame named _data_. Make sure that the source file \"Finance_data.csv\" is in your working directory\n",
    "- Examine the first few rows. What are the columns and what data types do they contain?"
   ]
  },
  {
   "cell_type": "markdown",
   "id": "f159ea69",
   "metadata": {},
   "source": [
    "##### 1.3\n",
    "How many rows and columns does the data frame _data_ have? What data types are in each pf the columns?"
   ]
  },
  {
   "cell_type": "markdown",
   "id": "f2af8ae8",
   "metadata": {},
   "source": [
    "##### 1.4\n",
    "Print out all column names in the _data_ data frame"
   ]
  },
  {
   "cell_type": "markdown",
   "id": "e1f4ceef",
   "metadata": {},
   "source": [
    "##### 1.5\n",
    "Print and inspect the top 10 elements from the Columns \"age\", \"Mutual_Funds\", \"Stock_Market\" and \"Source\". We will talk more about data frame indexing in later sessions"
   ]
  },
  {
   "cell_type": "markdown",
   "id": "9e7c764e",
   "metadata": {},
   "source": [
    "##### 1.6\n",
    "Compute and print the number of distinct values (a.k.a. cardinality) for each column. Note that it could  a good idea to treat columns with cardinalities < 5 as categorical"
   ]
  },
  {
   "cell_type": "markdown",
   "id": "3aa285e2",
   "metadata": {},
   "source": [
    "### Part 2. Univariate Analysis"
   ]
  },
  {
   "cell_type": "markdown",
   "id": "a549c6a7",
   "metadata": {},
   "source": [
    "##### 2.1 \n",
    "Compute and inspect descriptive statstics for the numerical columns: \n",
    "- use a data frame method which computes and prints the minimum, maximum, mean, median and standard deviation\n",
    "- inspect the outputs and compare the mean and median for each column"
   ]
  },
  {
   "cell_type": "markdown",
   "id": "ffe4bb08",
   "metadata": {},
   "source": [
    "##### 2.2\n",
    "How would you explain the significant discrepancy of the mean an median for the column \"PPF\"? Hint: use frequency tables or histograms. Which PPF value has the highest freqeuncy?"
   ]
  },
  {
   "cell_type": "markdown",
   "id": "bf60fbfc",
   "metadata": {},
   "source": [
    "##### 2.3\n",
    "The describe() method is applied to numerical columns by default. Add an argument to describe the \"object\" columns. Find the Mode of the \"Duration\" column"
   ]
  },
  {
   "cell_type": "markdown",
   "id": "60dfb4c1",
   "metadata": {},
   "source": [
    "##### 2.4\n",
    "Compute and inspect frequency tables for the categorical columns. Answer the following questions:\n",
    "\n",
    "1. Is our data set gender biased? Which gender has more examples?  \n",
    "\n",
    "2. What is the least frequent value of the \"Source\" column?\n",
    "\n",
    "__Challenge:__ write a for loop to generate the frequensy tables for all object columns programmatically"
   ]
  },
  {
   "cell_type": "markdown",
   "id": "bd5142c4",
   "metadata": {},
   "source": [
    "### Part 3. Bivariate Analysis"
   ]
  },
  {
   "cell_type": "markdown",
   "id": "0b294f9f",
   "metadata": {},
   "source": [
    "##### 3.1 \n",
    " \n",
    "- Compute the contingency table for Factor and Objective\n",
    "- Compute the contingency table for Reason_FD and Duration"
   ]
  },
  {
   "cell_type": "markdown",
   "id": "3b15828a",
   "metadata": {},
   "source": [
    "##### 3.2 Bivariate numerical - categorical\n",
    "Conditional means for a numerical and categorical column are computed on a subset of the numerical column where the categorical column is set to one of its levels (i.e., distinct values). \n",
    "\n",
    "- Compute and print out conditional means for age and all categorical columns\n",
    "- Which age group has a preference for investing in stocks?"
   ]
  },
  {
   "cell_type": "markdown",
   "id": "3c3439dd",
   "metadata": {},
   "source": [
    "##### 3.3 Correlation\n",
    "Compute correlation coefficients between age and other numerical columns. Which numerical columns have the strongest correlation with age? Name top 3."
   ]
  }
 ],
 "metadata": {
  "kernelspec": {
   "display_name": "Python 3 (ipykernel)",
   "language": "python",
   "name": "python3"
  },
  "language_info": {
   "codemirror_mode": {
    "name": "ipython",
    "version": 3
   },
   "file_extension": ".py",
   "mimetype": "text/x-python",
   "name": "python",
   "nbconvert_exporter": "python",
   "pygments_lexer": "ipython3",
   "version": "3.7.9"
  }
 },
 "nbformat": 4,
 "nbformat_minor": 5
}

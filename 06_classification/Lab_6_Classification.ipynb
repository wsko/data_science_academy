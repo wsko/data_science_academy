{
 "cells": [
  {
   "cell_type": "markdown",
   "metadata": {},
   "source": [
    "## Lab 6: Classification Algorithms\n",
    "\n"
   ]
  },
  {
   "cell_type": "code",
   "execution_count": null,
   "metadata": {
    "execution": {
     "iopub.execute_input": "2020-08-30T10:55:59.904847Z",
     "iopub.status.busy": "2020-08-30T10:55:59.903916Z",
     "iopub.status.idle": "2020-08-30T10:56:02.428473Z",
     "shell.execute_reply": "2020-08-30T10:56:02.427694Z"
    },
    "papermill": {
     "duration": 2.550112,
     "end_time": "2020-08-30T10:56:02.428614",
     "exception": false,
     "start_time": "2020-08-30T10:55:59.878502",
     "status": "completed"
    },
    "tags": []
   },
   "outputs": [],
   "source": [
    "import pandas as pd\n",
    "import numpy as np\n",
    "import seaborn as sns\n",
    "import matplotlib.pyplot as plt\n",
    "\n",
    "from sklearn.linear_model import LogisticRegression\n",
    "from sklearn.ensemble import RandomForestClassifier\n",
    "from sklearn.neighbors import KNeighborsClassifier\n",
    "\n",
    "from sklearn.model_selection import train_test_split\n",
    "from sklearn.preprocessing import MinMaxScaler\n",
    "from sklearn.preprocessing import LabelEncoder\n",
    "\n",
    "from sklearn import metrics\n",
    "from sklearn.metrics import classification_report, confusion_matrix\n",
    "from sklearn.metrics import accuracy_score\n",
    "from sklearn.metrics import recall_score\n",
    "from sklearn.metrics import precision_score\n",
    "\n",
    "\n",
    "import warnings\n",
    "warnings.filterwarnings('ignore')"
   ]
  },
  {
   "cell_type": "markdown",
   "metadata": {},
   "source": [
    "### Part 1. Non-linear decision boundary\n",
    "\n",
    "* create and plot a simulated data set using code below\n",
    "* inspect the plot visually; can you separate the orange and blue classes with a single linear boundary?\n",
    "* split the dataset into train and test sets, train a logistic regression and knn classifiers and compute the accuracy and confusion matrix on the test set\n",
    "* compare the accuracies of the two models and explain the difference"
   ]
  },
  {
   "cell_type": "code",
   "execution_count": null,
   "metadata": {},
   "outputs": [],
   "source": [
    "from sklearn.datasets import make_blobs\n",
    "X, y = make_blobs(random_state = 42, cluster_std = 2, n_samples = [1000, 1000, 1000, 1000])\n",
    "y = y % 2\n",
    "df = pd.DataFrame(X, columns = ['Feature_1', 'Feature_2'])\n",
    "sns.scatterplot(x = 'Feature_1', y = 'Feature_2', data = df, hue = y);"
   ]
  },
  {
   "cell_type": "markdown",
   "metadata": {
    "papermill": {
     "duration": 0.018733,
     "end_time": "2020-08-30T10:55:59.827632",
     "exception": false,
     "start_time": "2020-08-30T10:55:59.808899",
     "status": "completed"
    },
    "tags": []
   },
   "source": [
    "\n",
    "### Part 2. Bank customer churn\n",
    "\n",
    "Help a bank predict which customers are more likely to quit. The dataset provided for training a classifier model contains the following columns:\n",
    "\n",
    "**Features**\n",
    "\n",
    "- __CustomerId:__\tA unique customer identification number\n",
    "- __Surname:__\tCustomer’s last name\n",
    "- __CreditScore:__\tCustomer’s credit score\n",
    "- __Geography:__\tCustomer’s country\n",
    "- __Gender:__\tCustomer’s gender\n",
    "- __Age:__\tCustomer’s age\n",
    "- __Tenure:__\tNumber of years that the customer has been a client of the bank\n",
    "- __Balance:__\tCustomer’s account balance\n",
    "- __NumOfProducts:__\tNumber of products the customer has purchased through the bank\n",
    "- __HasCrCard:__\tWhether or not a customer has a credit card\n",
    "- __IsActiveMember:__\tIs the customer active?\n",
    "- __EstimatedSalary:__\tCustomer’s salary estimated from the customer’s bank product usage patterns\n",
    "\n",
    "**Labels**\n",
    "\n",
    "- __Exited:__\tWhether or not the customer has left the bank\n",
    "\n",
    "\n",
    "**Tasks:**\n",
    "\n",
    "1. Import and inspect data\n",
    "2. Prepare data for modeling:\n",
    "    - Remove high-cardinality columns (hint: look for columns where the number of unique values is close to the number of rows in the dataset)\n",
    "    - split the data into a training and test set\n",
    "    - encode categorical variables\n",
    "    - scale the feature columns\n",
    "3. Train and evaluate a logistic regression model\n",
    "4. Train and evaluate a KNN model\n",
    "5. Train and evaluate a random forest model\n",
    "6. How does precision and recall respond to threshold variation from 0 to 1? Find optimal thresholds to maximize recall for all 3 models\n"
   ]
  },
  {
   "cell_type": "markdown",
   "metadata": {},
   "source": [
    "#### 1. Import and inspect data"
   ]
  },
  {
   "cell_type": "code",
   "execution_count": null,
   "metadata": {},
   "outputs": [],
   "source": [
    "df = pd.read_csv(\"../data/Churn_Modeling.csv\")\n",
    "df.head()"
   ]
  },
  {
   "cell_type": "code",
   "execution_count": null,
   "metadata": {
    "execution": {
     "iopub.execute_input": "2020-08-30T10:56:02.584989Z",
     "iopub.status.busy": "2020-08-30T10:56:02.583857Z",
     "iopub.status.idle": "2020-08-30T10:56:02.588121Z",
     "shell.execute_reply": "2020-08-30T10:56:02.587543Z"
    },
    "papermill": {
     "duration": 0.041895,
     "end_time": "2020-08-30T10:56:02.588238",
     "exception": false,
     "start_time": "2020-08-30T10:56:02.546343",
     "status": "completed"
    },
    "tags": []
   },
   "outputs": [],
   "source": [
    "# inspect data types and missing data\n"
   ]
  },
  {
   "cell_type": "markdown",
   "metadata": {},
   "source": [
    "#### 2. Prepare data for modeling"
   ]
  },
  {
   "cell_type": "code",
   "execution_count": null,
   "metadata": {
    "execution": {
     "iopub.execute_input": "2020-08-30T10:56:02.949068Z",
     "iopub.status.busy": "2020-08-30T10:56:02.948326Z",
     "iopub.status.idle": "2020-08-30T10:56:02.952137Z",
     "shell.execute_reply": "2020-08-30T10:56:02.951571Z"
    },
    "papermill": {
     "duration": 0.038833,
     "end_time": "2020-08-30T10:56:02.952262",
     "exception": false,
     "start_time": "2020-08-30T10:56:02.913429",
     "status": "completed"
    },
    "tags": []
   },
   "outputs": [],
   "source": [
    "# remove the first two columns\n",
    "\n",
    "\n",
    "# encode the categorical columns\n",
    "\n",
    "# examine label distribution\n"
   ]
  },
  {
   "cell_type": "code",
   "execution_count": null,
   "metadata": {},
   "outputs": [],
   "source": [
    "### create numpy arrays X and y\n",
    "\n",
    "\n",
    "### split data into training and test sets\n",
    "\n",
    "### min-max scaling \n"
   ]
  },
  {
   "cell_type": "markdown",
   "metadata": {
    "papermill": {
     "duration": 0.021879,
     "end_time": "2020-08-30T10:56:05.822640",
     "exception": false,
     "start_time": "2020-08-30T10:56:05.800761",
     "status": "completed"
    },
    "tags": []
   },
   "source": [
    "#### 3. Train and test a Logistic Regression model"
   ]
  },
  {
   "cell_type": "markdown",
   "metadata": {
    "papermill": {
     "duration": 0.022343,
     "end_time": "2020-08-30T10:56:06.285485",
     "exception": false,
     "start_time": "2020-08-30T10:56:06.263142",
     "status": "completed"
    },
    "tags": []
   },
   "source": [
    "#### 4. Train and test a KNN classifier"
   ]
  },
  {
   "cell_type": "markdown",
   "metadata": {},
   "source": [
    "#### 5. Train and test a Random Forest classifier"
   ]
  },
  {
   "cell_type": "markdown",
   "metadata": {},
   "source": [
    "#### 6. How does precision and recall respond to threshold variation from 0 to 1? Find optimal thresholds to maximize recall for all 3 models"
   ]
  },
  {
   "cell_type": "code",
   "execution_count": null,
   "metadata": {},
   "outputs": [],
   "source": [
    "p_lr = logr.predict_proba(X_test)[:,1]\n",
    "p_knn = knn.predict_proba(X_test)[:,1]\n",
    "p_rf = rfc.predict_proba(X_test)[:,1]"
   ]
  },
  {
   "cell_type": "code",
   "execution_count": null,
   "metadata": {},
   "outputs": [],
   "source": [
    "## replace \"FIX ME\" with the classification metric\n",
    "\n",
    "recall_lr = []\n",
    "recall_knn = []\n",
    "recall_rf = []\n",
    "\n",
    "for thr in np.arange(0, 1, 0.05):\n",
    "    recall_lr.append(FIX ME(y_test, (p_lr > thr).astype(int)))\n",
    "    recall_knn.append(FIX ME(y_test, (p_knn > thr).astype(int)))\n",
    "    recall_rf.append(FIX ME(y_test, (p_rf > thr).astype(int)))"
   ]
  },
  {
   "cell_type": "code",
   "execution_count": null,
   "metadata": {
    "scrolled": true
   },
   "outputs": [],
   "source": [
    "ax = sns.lineplot(x = np.arange(0, 1, 0.05), y = recall_lr, label = \"Log Regression\")\n",
    "ax = sns.lineplot(x = np.arange(0, 1, 0.05), y = recall_knn, label = \"KNN\")\n",
    "ax = sns.lineplot(x = np.arange(0, 1, 0.05), y = recall_rf, label = \"Random Forest\")\n",
    "ax.set_title('Recall')\n",
    "plt.show()"
   ]
  },
  {
   "cell_type": "code",
   "execution_count": null,
   "metadata": {},
   "outputs": [],
   "source": []
  }
 ],
 "metadata": {
  "kernelspec": {
   "display_name": "Python 3 (ipykernel)",
   "language": "python",
   "name": "python3"
  },
  "language_info": {
   "codemirror_mode": {
    "name": "ipython",
    "version": 3
   },
   "file_extension": ".py",
   "mimetype": "text/x-python",
   "name": "python",
   "nbconvert_exporter": "python",
   "pygments_lexer": "ipython3",
   "version": "3.7.9"
  },
  "papermill": {
   "duration": 18.561972,
   "end_time": "2020-08-30T10:56:13.147035",
   "environment_variables": {},
   "exception": null,
   "input_path": "__notebook__.ipynb",
   "output_path": "__notebook__.ipynb",
   "parameters": {},
   "start_time": "2020-08-30T10:55:54.585063",
   "version": "2.1.0"
  }
 },
 "nbformat": 4,
 "nbformat_minor": 4
}

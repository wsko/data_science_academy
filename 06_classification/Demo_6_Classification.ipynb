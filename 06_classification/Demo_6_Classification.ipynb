{
 "cells": [
  {
   "cell_type": "markdown",
   "id": "de959fc8",
   "metadata": {},
   "source": [
    "## Classification\n",
    "\n",
    "- Logistic Regression recap\n",
    "- KNN Classifier\n",
    "- Decision Tree Classifier\n",
    "- Bias and variance\n",
    "- Random Forest Classifier\n",
    "- Support Vector Machines\n",
    "- Naive Bayes\n"
   ]
  },
  {
   "cell_type": "code",
   "execution_count": 1,
   "id": "a46e0ba3",
   "metadata": {},
   "outputs": [],
   "source": [
    "import pandas as pd\n",
    "import numpy as np\n",
    "import matplotlib.pyplot as plt\n",
    "import seaborn as sns\n",
    "from sklearn.linear_model import LogisticRegression\n",
    "\n",
    "# import data preprocessing functions\n",
    "from sklearn.preprocessing import MinMaxScaler\n",
    "from sklearn.model_selection import train_test_split\n",
    "\n",
    "# import various metrics for model scoring\n",
    "from sklearn.metrics import confusion_matrix\n",
    "from sklearn.metrics import accuracy_score\n",
    "from sklearn.metrics import precision_score\n",
    "from sklearn.metrics import recall_score\n",
    "from sklearn.metrics import classification_report\n",
    "from sklearn.metrics import log_loss\n",
    "\n",
    "\n",
    "import warnings\n",
    "warnings.filterwarnings('ignore')"
   ]
  },
  {
   "cell_type": "markdown",
   "id": "17dd9bbc",
   "metadata": {},
   "source": [
    "## 1. Logistic regression recap\n",
    "\n",
    "Let's recall the insurance dataset from last week: Lpredict whether a policy holder will make a major claim. \n",
    "- Import insurance2 dataset (originally from kaggle.com):"
   ]
  },
  {
   "cell_type": "code",
   "execution_count": 2,
   "id": "66f3daf8",
   "metadata": {},
   "outputs": [
    {
     "data": {
      "text/html": [
       "<div>\n",
       "<style scoped>\n",
       "    .dataframe tbody tr th:only-of-type {\n",
       "        vertical-align: middle;\n",
       "    }\n",
       "\n",
       "    .dataframe tbody tr th {\n",
       "        vertical-align: top;\n",
       "    }\n",
       "\n",
       "    .dataframe thead th {\n",
       "        text-align: right;\n",
       "    }\n",
       "</style>\n",
       "<table border=\"1\" class=\"dataframe\">\n",
       "  <thead>\n",
       "    <tr style=\"text-align: right;\">\n",
       "      <th></th>\n",
       "      <th>age</th>\n",
       "      <th>sex</th>\n",
       "      <th>bmi</th>\n",
       "      <th>children</th>\n",
       "      <th>smoker</th>\n",
       "      <th>region</th>\n",
       "      <th>charges</th>\n",
       "      <th>insuranceclaim</th>\n",
       "    </tr>\n",
       "  </thead>\n",
       "  <tbody>\n",
       "    <tr>\n",
       "      <th>0</th>\n",
       "      <td>19</td>\n",
       "      <td>0</td>\n",
       "      <td>27.900</td>\n",
       "      <td>0</td>\n",
       "      <td>1</td>\n",
       "      <td>3</td>\n",
       "      <td>16884.92400</td>\n",
       "      <td>1</td>\n",
       "    </tr>\n",
       "    <tr>\n",
       "      <th>1</th>\n",
       "      <td>18</td>\n",
       "      <td>1</td>\n",
       "      <td>33.770</td>\n",
       "      <td>1</td>\n",
       "      <td>0</td>\n",
       "      <td>2</td>\n",
       "      <td>1725.55230</td>\n",
       "      <td>1</td>\n",
       "    </tr>\n",
       "    <tr>\n",
       "      <th>2</th>\n",
       "      <td>28</td>\n",
       "      <td>1</td>\n",
       "      <td>33.000</td>\n",
       "      <td>3</td>\n",
       "      <td>0</td>\n",
       "      <td>2</td>\n",
       "      <td>4449.46200</td>\n",
       "      <td>0</td>\n",
       "    </tr>\n",
       "    <tr>\n",
       "      <th>3</th>\n",
       "      <td>33</td>\n",
       "      <td>1</td>\n",
       "      <td>22.705</td>\n",
       "      <td>0</td>\n",
       "      <td>0</td>\n",
       "      <td>1</td>\n",
       "      <td>21984.47061</td>\n",
       "      <td>0</td>\n",
       "    </tr>\n",
       "    <tr>\n",
       "      <th>4</th>\n",
       "      <td>32</td>\n",
       "      <td>1</td>\n",
       "      <td>28.880</td>\n",
       "      <td>0</td>\n",
       "      <td>0</td>\n",
       "      <td>1</td>\n",
       "      <td>3866.85520</td>\n",
       "      <td>1</td>\n",
       "    </tr>\n",
       "  </tbody>\n",
       "</table>\n",
       "</div>"
      ],
      "text/plain": [
       "   age  sex     bmi  children  smoker  region      charges  insuranceclaim\n",
       "0   19    0  27.900         0       1       3  16884.92400               1\n",
       "1   18    1  33.770         1       0       2   1725.55230               1\n",
       "2   28    1  33.000         3       0       2   4449.46200               0\n",
       "3   33    1  22.705         0       0       1  21984.47061               0\n",
       "4   32    1  28.880         0       0       1   3866.85520               1"
      ]
     },
     "execution_count": 2,
     "metadata": {},
     "output_type": "execute_result"
    }
   ],
   "source": [
    "df = pd.read_csv(\"https://github.com/wsko/data_science_academy/raw/main/data/insurance2.csv\")\n",
    "df.head()\n",
    "## insuranceclaim is a categorical label >> Classification"
   ]
  },
  {
   "cell_type": "code",
   "execution_count": 3,
   "id": "18bd5206",
   "metadata": {},
   "outputs": [
    {
     "name": "stdout",
     "output_type": "stream",
     "text": [
      "<class 'pandas.core.frame.DataFrame'>\n",
      "RangeIndex: 1338 entries, 0 to 1337\n",
      "Data columns (total 8 columns):\n",
      " #   Column          Non-Null Count  Dtype  \n",
      "---  ------          --------------  -----  \n",
      " 0   age             1338 non-null   int64  \n",
      " 1   sex             1338 non-null   int64  \n",
      " 2   bmi             1338 non-null   float64\n",
      " 3   children        1338 non-null   int64  \n",
      " 4   smoker          1338 non-null   int64  \n",
      " 5   region          1338 non-null   int64  \n",
      " 6   charges         1338 non-null   float64\n",
      " 7   insuranceclaim  1338 non-null   int64  \n",
      "dtypes: float64(2), int64(6)\n",
      "memory usage: 83.8 KB\n"
     ]
    }
   ],
   "source": [
    "df.info()"
   ]
  },
  {
   "cell_type": "markdown",
   "id": "ba6329a1",
   "metadata": {},
   "source": [
    "- Feature engineering: perform necessary data transformation"
   ]
  },
  {
   "cell_type": "code",
   "execution_count": 4,
   "id": "86d669e2",
   "metadata": {},
   "outputs": [
    {
     "data": {
      "text/html": [
       "<div>\n",
       "<style scoped>\n",
       "    .dataframe tbody tr th:only-of-type {\n",
       "        vertical-align: middle;\n",
       "    }\n",
       "\n",
       "    .dataframe tbody tr th {\n",
       "        vertical-align: top;\n",
       "    }\n",
       "\n",
       "    .dataframe thead th {\n",
       "        text-align: right;\n",
       "    }\n",
       "</style>\n",
       "<table border=\"1\" class=\"dataframe\">\n",
       "  <thead>\n",
       "    <tr style=\"text-align: right;\">\n",
       "      <th></th>\n",
       "      <th>age</th>\n",
       "      <th>bmi</th>\n",
       "      <th>children</th>\n",
       "      <th>charges</th>\n",
       "      <th>insuranceclaim</th>\n",
       "      <th>sex_1</th>\n",
       "      <th>smoker_1</th>\n",
       "      <th>region_1</th>\n",
       "      <th>region_2</th>\n",
       "      <th>region_3</th>\n",
       "    </tr>\n",
       "  </thead>\n",
       "  <tbody>\n",
       "    <tr>\n",
       "      <th>0</th>\n",
       "      <td>19</td>\n",
       "      <td>27.900</td>\n",
       "      <td>0</td>\n",
       "      <td>16884.92400</td>\n",
       "      <td>1</td>\n",
       "      <td>0</td>\n",
       "      <td>1</td>\n",
       "      <td>0</td>\n",
       "      <td>0</td>\n",
       "      <td>1</td>\n",
       "    </tr>\n",
       "    <tr>\n",
       "      <th>1</th>\n",
       "      <td>18</td>\n",
       "      <td>33.770</td>\n",
       "      <td>1</td>\n",
       "      <td>1725.55230</td>\n",
       "      <td>1</td>\n",
       "      <td>1</td>\n",
       "      <td>0</td>\n",
       "      <td>0</td>\n",
       "      <td>1</td>\n",
       "      <td>0</td>\n",
       "    </tr>\n",
       "    <tr>\n",
       "      <th>2</th>\n",
       "      <td>28</td>\n",
       "      <td>33.000</td>\n",
       "      <td>3</td>\n",
       "      <td>4449.46200</td>\n",
       "      <td>0</td>\n",
       "      <td>1</td>\n",
       "      <td>0</td>\n",
       "      <td>0</td>\n",
       "      <td>1</td>\n",
       "      <td>0</td>\n",
       "    </tr>\n",
       "    <tr>\n",
       "      <th>3</th>\n",
       "      <td>33</td>\n",
       "      <td>22.705</td>\n",
       "      <td>0</td>\n",
       "      <td>21984.47061</td>\n",
       "      <td>0</td>\n",
       "      <td>1</td>\n",
       "      <td>0</td>\n",
       "      <td>1</td>\n",
       "      <td>0</td>\n",
       "      <td>0</td>\n",
       "    </tr>\n",
       "    <tr>\n",
       "      <th>4</th>\n",
       "      <td>32</td>\n",
       "      <td>28.880</td>\n",
       "      <td>0</td>\n",
       "      <td>3866.85520</td>\n",
       "      <td>1</td>\n",
       "      <td>1</td>\n",
       "      <td>0</td>\n",
       "      <td>1</td>\n",
       "      <td>0</td>\n",
       "      <td>0</td>\n",
       "    </tr>\n",
       "  </tbody>\n",
       "</table>\n",
       "</div>"
      ],
      "text/plain": [
       "   age     bmi  children      charges  insuranceclaim  sex_1  smoker_1  \\\n",
       "0   19  27.900         0  16884.92400               1      0         1   \n",
       "1   18  33.770         1   1725.55230               1      1         0   \n",
       "2   28  33.000         3   4449.46200               0      1         0   \n",
       "3   33  22.705         0  21984.47061               0      1         0   \n",
       "4   32  28.880         0   3866.85520               1      1         0   \n",
       "\n",
       "   region_1  region_2  region_3  \n",
       "0         0         0         1  \n",
       "1         0         1         0  \n",
       "2         0         1         0  \n",
       "3         1         0         0  \n",
       "4         1         0         0  "
      ]
     },
     "execution_count": 4,
     "metadata": {},
     "output_type": "execute_result"
    }
   ],
   "source": [
    "### region is an integer but should be treated as a categorical variable one-hot encoded\n",
    "df['region'] = df['region'].astype('str')\n",
    "df['sex'] = df['sex'].astype('str')\n",
    "df['smoker'] = df['smoker'].astype('str')\n",
    "\n",
    "### use pd.get_dummies to encode all categorical variables (note they still can be \"str\" typed)\n",
    "df = pd.get_dummies(df, drop_first=True)\n",
    "df.head()"
   ]
  },
  {
   "cell_type": "code",
   "execution_count": 5,
   "id": "f3c8cd8e",
   "metadata": {},
   "outputs": [
    {
     "name": "stdout",
     "output_type": "stream",
     "text": [
      "(1338, 9) (1338,)\n"
     ]
    }
   ],
   "source": [
    "### create numpy arrays X and y\n",
    "label = 'insuranceclaim'\n",
    "features = list(df.columns)\n",
    "features.remove(label)\n",
    "X = df[features].to_numpy()\n",
    "y = df[label].to_numpy()\n",
    "print(X.shape, y.shape)"
   ]
  },
  {
   "cell_type": "code",
   "execution_count": 6,
   "id": "7a3bb2c1",
   "metadata": {},
   "outputs": [],
   "source": [
    "## name label classes\n",
    "label_classes = ['Not_filed', 'Filed']"
   ]
  },
  {
   "cell_type": "code",
   "execution_count": 7,
   "id": "ccc5e4f9",
   "metadata": {},
   "outputs": [],
   "source": [
    "### split data into training and test sets\n",
    "X_train, X_test, y_train, y_test = train_test_split(X, y, train_size=0.7, random_state=42)\n",
    "\n",
    "### perform min-max scaling using a sklearn function MinMaxScaler() - use fit and transform methods\n",
    "scaler = MinMaxScaler()\n",
    "scaler.fit(X_train)\n",
    "X_train = scaler.transform(X_train)\n",
    "X_test = scaler.transform(X_test)"
   ]
  },
  {
   "cell_type": "markdown",
   "id": "aab2158c",
   "metadata": {},
   "source": [
    "- Train and test a Logistic regression model"
   ]
  },
  {
   "cell_type": "code",
   "execution_count": 8,
   "id": "8bdad1b0",
   "metadata": {},
   "outputs": [
    {
     "name": "stdout",
     "output_type": "stream",
     "text": [
      "Logisgic Regression, \n",
      " \n",
      "\n",
      "              precision    recall  f1-score   support\n",
      "\n",
      "   Not_filed       0.83      0.84      0.83       161\n",
      "       Filed       0.89      0.88      0.89       241\n",
      "\n",
      "    accuracy                           0.87       402\n",
      "  \n",
      "confusion matrix:\n",
      " [[135  26]\n",
      " [ 28 213]]\n"
     ]
    }
   ],
   "source": [
    "lr = LogisticRegression()\n",
    "lr.fit(X_train, y_train)\n",
    "print(\"Logisgic Regression, \\n \\n\")\n",
    "print(classification_report(y_test, lr.predict(X_test), target_names = label_classes)[:220])\n",
    "print(\"confusion matrix:\\n\", confusion_matrix(y_test, lr.predict(X_test)))"
   ]
  },
  {
   "cell_type": "markdown",
   "id": "e7eb4204",
   "metadata": {},
   "source": [
    "- Model interpretation"
   ]
  },
  {
   "cell_type": "code",
   "execution_count": 9,
   "id": "0f41d75f",
   "metadata": {},
   "outputs": [
    {
     "data": {
      "text/plain": [
       "age         1.005291\n",
       "bmi         5.982402\n",
       "children   -4.934425\n",
       "charges     0.767279\n",
       "sex_1       0.052221\n",
       "smoker_1    2.830037\n",
       "region_1   -0.381897\n",
       "region_2   -0.136031\n",
       "region_3   -0.274483\n",
       "dtype: float64"
      ]
     },
     "execution_count": 9,
     "metadata": {},
     "output_type": "execute_result"
    }
   ],
   "source": [
    "## model parameters (coefficients)\n",
    "##\n",
    "pd.Series(lr.coef_[0], index = features)\n",
    "## feature importance order: bmi, children, smoker, age, etc. ....."
   ]
  },
  {
   "cell_type": "markdown",
   "id": "e0bb40fd",
   "metadata": {},
   "source": [
    "#### Logistic Regression Summary\n",
    "\n",
    "- model type: generalized linear, parametric\n",
    "- model expression: sigmoid funcion of a linear mathematical expression evaluated w.r.t. a threshold\n",
    "- assumptions: classes are linearly separable\n",
    "- python implementation: sklearn.linear_model.LogisticRegression\n",
    "- hyperparameters: regularization parameters (we will discuss regularization later)\n",
    "- interpretability: high\n",
    "- scalability: high\n",
    "\n",
    "\n",
    "https://towardsdatascience.com/comparative-study-on-classic-machine-learning-algorithms-24f9ff6ab222"
   ]
  },
  {
   "cell_type": "markdown",
   "id": "11d133f4",
   "metadata": {},
   "source": [
    "### 2. K nearest neighbours (KNN)\n",
    "\n",
    "\n",
    "- https://scikit-learn.org/stable/modules/generated/sklearn.metrics.DistanceMetric.html\n",
    "\n",
    "\n",
    "- To predict on new data X_new, find N nearest neighbours (using a distance metric such as \"euclidean\" or \"manhattan\") in the training data set. Vote on the majority class. Optionally, compute the probability (percentage of votes) for each class."
   ]
  },
  {
   "cell_type": "code",
   "execution_count": 10,
   "id": "f84a9319",
   "metadata": {},
   "outputs": [
    {
     "name": "stdout",
     "output_type": "stream",
     "text": [
      "              precision    recall  f1-score   support\n",
      "\n",
      "   Not filed       0.78      0.76      0.77       161\n",
      "       Filed       0.84      0.86      0.85       241\n",
      "\n",
      "    accuracy                           0.82       402\n",
      "  \n",
      "confusion matrix:\n",
      " [[122  39]\n",
      " [ 34 207]]\n"
     ]
    }
   ],
   "source": [
    "from sklearn.neighbors import KNeighborsClassifier\n",
    "\n",
    "knn = KNeighborsClassifier()#n_neighbors = 18, metric = 'euclidean') # \n",
    "knn.fit(X_train, y_train)\n",
    "print(classification_report(y_test, knn.predict(X_test), target_names = ['Not filed', 'Filed'])[:220])\n",
    "print(\"confusion matrix:\\n\", confusion_matrix(y_test, knn.predict(X_test)))"
   ]
  },
  {
   "cell_type": "markdown",
   "id": "fece6133",
   "metadata": {},
   "source": [
    "#### KNN and Overfit\n",
    "\n",
    "- What hyperparameters does KNN have?\n",
    "- What makes KNN overfit?\n",
    "\n",
    "\n",
    "    \n",
    "<img src=\"https://github.com/wsko/data_science_academy/blob/main/images/KNN.png?raw=true\" alt=\"KNN\" width=\"600\" height=\"600\">\n",
    "\n"
   ]
  },
  {
   "cell_type": "code",
   "execution_count": 11,
   "id": "7301d2eb",
   "metadata": {},
   "outputs": [
    {
     "data": {
      "image/png": "[encoded data removed]",
      "text/plain": [
       "<Figure size 640x480 with 1 Axes>"
      ]
     },
     "metadata": {},
     "output_type": "display_data"
    }
   ],
   "source": [
    "acc_tr = []\n",
    "acc_te = []\n",
    "nn_max = 50\n",
    "\n",
    "for i in range(1,nn_max):\n",
    "    clf = KNeighborsClassifier(n_neighbors = i, p = 1)#, algorithm = 'brute', metric = 'euclidean')\n",
    "    clf.fit(X_train, y_train)\n",
    "    acc_tr.append(accuracy_score(y_train, clf.predict(X_train)))\n",
    "    acc_te.append(accuracy_score(y_test, clf.predict(X_test)))\n",
    "    \n",
    "\n",
    "sns.lineplot(y = acc_tr, x = range(1,nn_max), label = 'train')\n",
    "sns.lineplot(y = acc_te, x = range(1,nn_max), label = 'test')\n",
    "plt.xlabel(\"K (number of neighbours)\")\n",
    "plt.ylabel(\"Accuracy\")\n",
    "plt.show()"
   ]
  },
  {
   "cell_type": "markdown",
   "id": "8111d279",
   "metadata": {},
   "source": [
    "#### KNN Classifier Summary\n",
    "\n",
    "- model type: non-parametric\n",
    "- assumptions: none\n",
    "- python implementation: sklearn.neighbors.KNeighborsClassifier\n",
    "- hyperparameters: k (number of neighbours), distance type\n",
    "- interpretability: low\n",
    "- scalability: low (can be improved with \"non-brute\" distance algorithms)"
   ]
  },
  {
   "cell_type": "markdown",
   "id": "5ebdb445",
   "metadata": {},
   "source": [
    "## Your Turn! \n",
    "### Lab 6 Part 1: When KNN Outperforms Logistic Regression"
   ]
  },
  {
   "cell_type": "markdown",
   "id": "f6dd0a40",
   "metadata": {},
   "source": [
    "### 3. Decision Tree\n",
    "\n",
    "\n",
    "- Perform a series of 1-dimensional splits\n",
    "- Each split leads to the best separation between the classes (maximum information gain)\n",
    "- The tree is a series of if-then instructions"
   ]
  },
  {
   "cell_type": "code",
   "execution_count": 12,
   "id": "a78b3298",
   "metadata": {
    "scrolled": true
   },
   "outputs": [
    {
     "name": "stdout",
     "output_type": "stream",
     "text": [
      "              precision    recall  f1-score   support\n",
      "\n",
      "   Not filed       0.74      0.99      0.85       161\n",
      "       Filed       0.99      0.76      0.86       241\n",
      "\n",
      "    accuracy                           0.86       402\n",
      "  \n",
      "confusion matrix:\n",
      " [[160   1]\n",
      " [ 57 184]]\n"
     ]
    }
   ],
   "source": [
    "from sklearn import tree\n",
    "\n",
    "dtc = tree.DecisionTreeClassifier(max_depth = 3) ## explore the hyperparameters\n",
    "dtc.fit(X_train, y_train)\n",
    "print(classification_report(y_test, dtc.predict(X_test), target_names = ['Not filed', 'Filed'])[:220])\n",
    "print(\"confusion matrix:\\n\", confusion_matrix(y_test, dtc.predict(X_test)))"
   ]
  },
  {
   "cell_type": "code",
   "execution_count": 13,
   "id": "0e5a36c1",
   "metadata": {},
   "outputs": [
    {
     "data": {
      "text/plain": [
       "age         0.021739\n",
       "bmi         0.429379\n",
       "children    0.000000\n",
       "charges     0.530794\n",
       "sex_1       1.000000\n",
       "smoker_1    1.000000\n",
       "region_1    1.000000\n",
       "region_2    0.000000\n",
       "region_3    0.000000\n",
       "dtype: float64"
      ]
     },
     "execution_count": 13,
     "metadata": {},
     "output_type": "execute_result"
    }
   ],
   "source": [
    "pd.Series(X_test[4,:], index = features)"
   ]
  },
  {
   "cell_type": "code",
   "execution_count": 14,
   "id": "9a2cb047",
   "metadata": {
    "scrolled": false
   },
   "outputs": [
    {
     "data": {
      "image/png": "[encoded data removed]",
      "text/plain": [
       "<Figure size 1600x1200 with 1 Axes>"
      ]
     },
     "metadata": {},
     "output_type": "display_data"
    }
   ],
   "source": [
    "plt.figure(figsize=(16, 12))\n",
    "tree.plot_tree(dtc, feature_names = features, label = 'root', filled = True, class_names=None)#['Not Filed', 'Filed']);\n",
    "plt.show()\n",
    "## press shift-o to disable scrollable outputs"
   ]
  },
  {
   "cell_type": "markdown",
   "id": "51d5d41a",
   "metadata": {},
   "source": [
    "#### Decision Tree Model: Decision Boundary"
   ]
  },
  {
   "cell_type": "code",
   "execution_count": 15,
   "id": "b57ae244",
   "metadata": {},
   "outputs": [
    {
     "data": {
      "image/png": "[encoded data removed]",
      "text/plain": [
       "<Figure size 640x480 with 1 Axes>"
      ]
     },
     "metadata": {},
     "output_type": "display_data"
    }
   ],
   "source": [
    "sns.scatterplot(x = 'bmi', y = 'children', data = df, hue = 'insuranceclaim')\n",
    "# First split on BMI:\n",
    "sns.lineplot(x = [25.983, 25.983], y = [0, 5], estimator = None, color = 'red')\n",
    "# next split on children\n",
    "#sns.lineplot(x = [25.983, 55], y = [0.5, 0.5], estimator = None, color = 'red')\n",
    "# next split on smoker - we do not have this dimension on our plot :)\n",
    "# next split on BMI\n",
    "#sns.lineplot(x = [17.575, 17.575], y = [0, 5], estimator = None, color = 'red')\n",
    "# next split on children\n",
    "#sns.lineplot(x = [25.983, 55], y = [1.5, 1.5], estimator = None, color = 'red')\n",
    "plt.show()"
   ]
  },
  {
   "cell_type": "markdown",
   "id": "b1682d63",
   "metadata": {},
   "source": [
    "- Model interpretation\n",
    "\n",
    "Use feature_importances_() method"
   ]
  },
  {
   "cell_type": "code",
   "execution_count": 16,
   "id": "94ae00b2",
   "metadata": {},
   "outputs": [
    {
     "data": {
      "text/plain": [
       "age         0.000000\n",
       "bmi         0.343685\n",
       "children    0.371240\n",
       "charges     0.000000\n",
       "sex_1       0.000000\n",
       "smoker_1    0.285076\n",
       "region_1    0.000000\n",
       "region_2    0.000000\n",
       "region_3    0.000000\n",
       "dtype: float64"
      ]
     },
     "execution_count": 16,
     "metadata": {},
     "output_type": "execute_result"
    }
   ],
   "source": [
    "pd.Series(dtc.feature_importances_, index = features)"
   ]
  },
  {
   "cell_type": "markdown",
   "id": "b8e5f7c4",
   "metadata": {},
   "source": [
    "#### Decision Tree Classifier Summary\n",
    "\n",
    "- model type: non-parametric\n",
    "- model expression: a set of rules or directed acyclical __graph__\n",
    "- assumptions: none\n",
    "- python implementation: sklearn.tree.DecisionTreeClassifier\n",
    "- hyperparameters:  max_depth, min_samples_split, min_samples_leaf, min_impurity_decrease (_note: most hyperparameters focus on tree pruning, i.e., reducing the number of splits. Still, decision tree is one of the most inherently overfitting algorithms_)\n",
    "- interpretability: excellent\n",
    "- scalability: high"
   ]
  },
  {
   "cell_type": "markdown",
   "id": "b5e5040f",
   "metadata": {},
   "source": [
    "## 4. Bias and Variance\n",
    "\n",
    "- How does our model respond to resampling:\n",
    "    - Take a few randomizzed subsamples of the training dataset and train a model on each subsample\n",
    "- high-variance models are prone to overfitting\n",
    "- high-bias models are prone to underfitting\n",
    "\n",
    "#### - Decision tree models typically have high variance. Solution:"
   ]
  },
  {
   "cell_type": "markdown",
   "id": "efb5ffb8",
   "metadata": {},
   "source": [
    "## 5. Random Forest Classifier\n",
    "\n",
    "https://scikit-learn.org/stable/modules/generated/sklearn.ensemble.RandomForestClassifier.html"
   ]
  },
  {
   "cell_type": "code",
   "execution_count": 17,
   "id": "77765df7",
   "metadata": {
    "scrolled": false
   },
   "outputs": [
    {
     "name": "stdout",
     "output_type": "stream",
     "text": [
      "              precision    recall  f1-score   support\n",
      "\n",
      "   Not filed       0.90      0.92      0.91       161\n",
      "       Filed       0.95      0.93      0.94       241\n",
      "\n",
      "    accuracy                           0.93       402\n",
      "  \n"
     ]
    },
    {
     "data": {
      "text/html": [
       "<div>\n",
       "<style scoped>\n",
       "    .dataframe tbody tr th:only-of-type {\n",
       "        vertical-align: middle;\n",
       "    }\n",
       "\n",
       "    .dataframe tbody tr th {\n",
       "        vertical-align: top;\n",
       "    }\n",
       "\n",
       "    .dataframe thead th {\n",
       "        text-align: right;\n",
       "    }\n",
       "</style>\n",
       "<table border=\"1\" class=\"dataframe\">\n",
       "  <thead>\n",
       "    <tr style=\"text-align: right;\">\n",
       "      <th></th>\n",
       "      <th>0</th>\n",
       "      <th>1</th>\n",
       "    </tr>\n",
       "  </thead>\n",
       "  <tbody>\n",
       "    <tr>\n",
       "      <th>0</th>\n",
       "      <td>148</td>\n",
       "      <td>13</td>\n",
       "    </tr>\n",
       "    <tr>\n",
       "      <th>1</th>\n",
       "      <td>17</td>\n",
       "      <td>224</td>\n",
       "    </tr>\n",
       "  </tbody>\n",
       "</table>\n",
       "</div>"
      ],
      "text/plain": [
       "     0    1\n",
       "0  148   13\n",
       "1   17  224"
      ]
     },
     "execution_count": 17,
     "metadata": {},
     "output_type": "execute_result"
    }
   ],
   "source": [
    "from sklearn.ensemble import RandomForestClassifier\n",
    "rfc = RandomForestClassifier(n_estimators=400)\n",
    "rfc.fit(X_train, y_train)\n",
    "print(classification_report(y_test, rfc.predict(X_test), target_names = ['Not filed', 'Filed'])[:220])\n",
    "pd.DataFrame(confusion_matrix(y_test, rfc.predict(X_test)))"
   ]
  },
  {
   "cell_type": "code",
   "execution_count": 18,
   "id": "be17d990",
   "metadata": {},
   "outputs": [
    {
     "data": {
      "image/png": "[encoded data removed]",
      "text/plain": [
       "<Figure size 640x480 with 1 Axes>"
      ]
     },
     "metadata": {},
     "output_type": "display_data"
    }
   ],
   "source": [
    "## Most significant hyperparameter: n_estimators (number of trees in the forest)\n",
    "\n",
    "acc_tr = []\n",
    "acc_te = []\n",
    "nest_max = 1000\n",
    "\n",
    "for i in range(50, nest_max, 50):\n",
    "    rfc = RandomForestClassifier(n_estimators=i+1, random_state=42)\n",
    "    rfc.fit(X_train, y_train)\n",
    "    acc_tr.append(accuracy_score(y_train, rfc.predict(X_train)))\n",
    "    acc_te.append(accuracy_score(y_test, rfc.predict(X_test)))\n",
    " \n",
    "sns.lineplot(y = acc_tr, x = range(50, nest_max, 50), label = 'train')\n",
    "sns.lineplot(y = acc_te, x = range(50, nest_max, 50), label = 'test')\n",
    "plt.xlabel(\"K (number of trees)\")\n",
    "plt.ylabel(\"Accuracy\")\n",
    "plt.show()"
   ]
  },
  {
   "cell_type": "markdown",
   "id": "b58bd5c4",
   "metadata": {},
   "source": [
    "## Your Turn!\n",
    "### Lab 6 Part 2: Classification\n",
    "\n",
    "\n",
    "### Note: review parts 6 and 7 post-class if we run out of time\n",
    "\n",
    "\n",
    "## 6. Support Vector Machines\n",
    "\n",
    "https://medium.com/swlh/quick-tutorial-on-support-vector-machines-c1b06df68ac6\n",
    "\n",
    "\n",
    "https://medium.com/geekculture/svm-classification-with-sklearn-svm-svc-how-to-plot-a-decision-boundary-with-margins-in-2d-space-7232cb3962c0"
   ]
  },
  {
   "cell_type": "code",
   "execution_count": 19,
   "id": "1f101fcc",
   "metadata": {},
   "outputs": [
    {
     "name": "stdout",
     "output_type": "stream",
     "text": [
      "              precision    recall  f1-score   support\n",
      "\n",
      "   Not filed       0.83      0.87      0.85       161\n",
      "       Filed       0.91      0.88      0.90       241\n",
      "\n",
      "    accuracy                           0.88       402\n",
      "  \n",
      "confusion matrix:\n",
      " [[140  21]\n",
      " [ 28 213]]\n"
     ]
    }
   ],
   "source": [
    "from sklearn.svm import SVC\n",
    "svc = SVC(kernel = 'linear') ## SVM kernel trick for non-linear decision boundaries\n",
    "svc.fit(X_train, y_train)\n",
    "print(classification_report(y_test, svc.predict(X_test), target_names = ['Not filed', 'Filed'])[:220])\n",
    "print(\"confusion matrix:\\n\", confusion_matrix(y_test, svc.predict(X_test)))"
   ]
  },
  {
   "cell_type": "code",
   "execution_count": 20,
   "id": "60372a28",
   "metadata": {},
   "outputs": [
    {
     "data": {
      "text/plain": [
       "array([[ 0.77893959,  6.36392198, -4.8093757 ,  0.34842392,  0.14062397,\n",
       "         2.57908868, -0.38158524, -0.30970279, -0.30732515]])"
      ]
     },
     "execution_count": 20,
     "metadata": {},
     "output_type": "execute_result"
    }
   ],
   "source": [
    "svc.coef_"
   ]
  },
  {
   "cell_type": "markdown",
   "id": "f2de01b4",
   "metadata": {},
   "source": [
    "#### SVM Classifier Summary\n",
    "\n",
    "- model type: linear, parametric\n",
    "- model expression: linear decision boundary computed for maximum \"margin\"\n",
    "- assumptions: classes are linearly separable. For a non-linear decision boundary SVM uses the so called \"kernel trick\" (adding more dimensions) which is even more computationally expensive and not scalable\n",
    "- python implementation: sklearn.svm.SVC\n",
    "- hyperparameters: regularization parameter (we will discuss regularization later)\n",
    "- interpretability: low\n",
    "- scalability: low"
   ]
  },
  {
   "cell_type": "markdown",
   "id": "3151aa22",
   "metadata": {},
   "source": [
    "## 7. Naive Bayes"
   ]
  },
  {
   "cell_type": "markdown",
   "id": "af1a1cfb",
   "metadata": {},
   "source": [
    "Naive Bayes is a classification technique based on Bayes’ Theorem: \n",
    "\n",
    "\n",
    "$$\\mathbf{P} \\left({c \\mid x} \\right) = \\frac{\\mathbf{P} \\left ({x \\mid c} \\right) \\mathbf{P} \\left({c} \\right)}{\\mathbf{P} \\left( {x} \\right)}$$\n",
    "\n",
    "The _naive_ assumption of Naive Bayes is that the features are probabilistically independent of each other, i.e., the presence of a particular feature in a class is unrelated to the presence of any other feature in predicting the label. For predicting on multiple features $x_1, x_2, ..., x_N$:\n",
    "$$P(x_1|c)\\times{P(x_2|c)}\\times{}...\\times{P(x_N|c)}$$\n",
    "\n",
    "Bayes theorem computes posterior probability P(c|x) - (i.e., Probability of **c** given **x**)*,  from known probabilities P(c), P(x) and P(x|c) which can be computed directly from training set frequency tables\n",
    "\n",
    "* P(c) is the __prior__, i.e., probability of class **c**\n",
    "* P(x) is the __evidence__, i.e., probability of feature **x**\n",
    "* P(x|c) is the __likelihood__, i.e., conditional probability of class (c) given feature (x)\n",
    "* c is the __class__, i.e., one of the categories of the label. For binary labels _c_ can have one of two possible values\n",
    "* P(c|x) is the __posterior__. The model computes posterior for each class for a given value of _x_ and then chooses the highest-probability class. \n",
    "\n",
    "\n",
    "#### To compute binary class prediction, find the class with max probability:\n",
    "\n",
    "\n",
    "$$\\mathbf{P} \\left(0 \\right) = \\mathbf{P} \\left ({x \\mid 0} \\right) \\mathbf{P} \\left({0} \\right)$$\n",
    "$$\\mathbf{P} \\left(1 \\right) = \\mathbf{P} \\left ({x \\mid 1} \\right) \\mathbf{P} \\left({1} \\right)$$"
   ]
  },
  {
   "cell_type": "markdown",
   "id": "ce467984",
   "metadata": {},
   "source": [
    "#### Feature considerations for Categorical Naive Bayes:\n",
    "\n",
    "- Categorical features only (thus, limited applicability)\n",
    "- Do not use one-hot encoding. Use ordinal encoding instead (\"blue\" = 0, \"red\" = 1, \"yellow\" = 2)\n",
    "- Scaling is not required\n",
    "\n",
    "Gaussian NB can handle numerical features but it is not a good algorithm "
   ]
  },
  {
   "cell_type": "code",
   "execution_count": 21,
   "id": "a6e46999",
   "metadata": {},
   "outputs": [
    {
     "data": {
      "text/html": [
       "<div>\n",
       "<style scoped>\n",
       "    .dataframe tbody tr th:only-of-type {\n",
       "        vertical-align: middle;\n",
       "    }\n",
       "\n",
       "    .dataframe tbody tr th {\n",
       "        vertical-align: top;\n",
       "    }\n",
       "\n",
       "    .dataframe thead th {\n",
       "        text-align: right;\n",
       "    }\n",
       "</style>\n",
       "<table border=\"1\" class=\"dataframe\">\n",
       "  <thead>\n",
       "    <tr style=\"text-align: right;\">\n",
       "      <th></th>\n",
       "      <th>age</th>\n",
       "      <th>sex</th>\n",
       "      <th>bmi</th>\n",
       "      <th>children</th>\n",
       "      <th>smoker</th>\n",
       "      <th>region</th>\n",
       "      <th>charges</th>\n",
       "      <th>insuranceclaim</th>\n",
       "    </tr>\n",
       "  </thead>\n",
       "  <tbody>\n",
       "    <tr>\n",
       "      <th>0</th>\n",
       "      <td>19</td>\n",
       "      <td>0</td>\n",
       "      <td>27.900</td>\n",
       "      <td>0</td>\n",
       "      <td>1</td>\n",
       "      <td>3</td>\n",
       "      <td>16884.92400</td>\n",
       "      <td>1</td>\n",
       "    </tr>\n",
       "    <tr>\n",
       "      <th>1</th>\n",
       "      <td>18</td>\n",
       "      <td>1</td>\n",
       "      <td>33.770</td>\n",
       "      <td>1</td>\n",
       "      <td>0</td>\n",
       "      <td>2</td>\n",
       "      <td>1725.55230</td>\n",
       "      <td>1</td>\n",
       "    </tr>\n",
       "    <tr>\n",
       "      <th>2</th>\n",
       "      <td>28</td>\n",
       "      <td>1</td>\n",
       "      <td>33.000</td>\n",
       "      <td>3</td>\n",
       "      <td>0</td>\n",
       "      <td>2</td>\n",
       "      <td>4449.46200</td>\n",
       "      <td>0</td>\n",
       "    </tr>\n",
       "    <tr>\n",
       "      <th>3</th>\n",
       "      <td>33</td>\n",
       "      <td>1</td>\n",
       "      <td>22.705</td>\n",
       "      <td>0</td>\n",
       "      <td>0</td>\n",
       "      <td>1</td>\n",
       "      <td>21984.47061</td>\n",
       "      <td>0</td>\n",
       "    </tr>\n",
       "    <tr>\n",
       "      <th>4</th>\n",
       "      <td>32</td>\n",
       "      <td>1</td>\n",
       "      <td>28.880</td>\n",
       "      <td>0</td>\n",
       "      <td>0</td>\n",
       "      <td>1</td>\n",
       "      <td>3866.85520</td>\n",
       "      <td>1</td>\n",
       "    </tr>\n",
       "    <tr>\n",
       "      <th>5</th>\n",
       "      <td>31</td>\n",
       "      <td>0</td>\n",
       "      <td>25.740</td>\n",
       "      <td>0</td>\n",
       "      <td>0</td>\n",
       "      <td>2</td>\n",
       "      <td>3756.62160</td>\n",
       "      <td>0</td>\n",
       "    </tr>\n",
       "    <tr>\n",
       "      <th>6</th>\n",
       "      <td>46</td>\n",
       "      <td>0</td>\n",
       "      <td>33.440</td>\n",
       "      <td>1</td>\n",
       "      <td>0</td>\n",
       "      <td>2</td>\n",
       "      <td>8240.58960</td>\n",
       "      <td>1</td>\n",
       "    </tr>\n",
       "    <tr>\n",
       "      <th>7</th>\n",
       "      <td>37</td>\n",
       "      <td>0</td>\n",
       "      <td>27.740</td>\n",
       "      <td>3</td>\n",
       "      <td>0</td>\n",
       "      <td>1</td>\n",
       "      <td>7281.50560</td>\n",
       "      <td>0</td>\n",
       "    </tr>\n",
       "    <tr>\n",
       "      <th>8</th>\n",
       "      <td>37</td>\n",
       "      <td>1</td>\n",
       "      <td>29.830</td>\n",
       "      <td>2</td>\n",
       "      <td>0</td>\n",
       "      <td>0</td>\n",
       "      <td>6406.41070</td>\n",
       "      <td>0</td>\n",
       "    </tr>\n",
       "    <tr>\n",
       "      <th>9</th>\n",
       "      <td>60</td>\n",
       "      <td>0</td>\n",
       "      <td>25.840</td>\n",
       "      <td>0</td>\n",
       "      <td>0</td>\n",
       "      <td>1</td>\n",
       "      <td>28923.13692</td>\n",
       "      <td>0</td>\n",
       "    </tr>\n",
       "  </tbody>\n",
       "</table>\n",
       "</div>"
      ],
      "text/plain": [
       "   age  sex     bmi  children  smoker  region      charges  insuranceclaim\n",
       "0   19    0  27.900         0       1       3  16884.92400               1\n",
       "1   18    1  33.770         1       0       2   1725.55230               1\n",
       "2   28    1  33.000         3       0       2   4449.46200               0\n",
       "3   33    1  22.705         0       0       1  21984.47061               0\n",
       "4   32    1  28.880         0       0       1   3866.85520               1\n",
       "5   31    0  25.740         0       0       2   3756.62160               0\n",
       "6   46    0  33.440         1       0       2   8240.58960               1\n",
       "7   37    0  27.740         3       0       1   7281.50560               0\n",
       "8   37    1  29.830         2       0       0   6406.41070               0\n",
       "9   60    0  25.840         0       0       1  28923.13692               0"
      ]
     },
     "execution_count": 21,
     "metadata": {},
     "output_type": "execute_result"
    }
   ],
   "source": [
    "df = pd.read_csv(\"https://github.com/wsko/data_science_academy/raw/main/data/insurance2.csv\")\n",
    "df.head(10)"
   ]
  },
  {
   "cell_type": "markdown",
   "id": "cd69b781",
   "metadata": {},
   "source": [
    "#### important: convert numerical features into categorical via binning"
   ]
  },
  {
   "cell_type": "code",
   "execution_count": 22,
   "id": "582e5d20",
   "metadata": {},
   "outputs": [
    {
     "data": {
      "text/html": [
       "<div>\n",
       "<style scoped>\n",
       "    .dataframe tbody tr th:only-of-type {\n",
       "        vertical-align: middle;\n",
       "    }\n",
       "\n",
       "    .dataframe tbody tr th {\n",
       "        vertical-align: top;\n",
       "    }\n",
       "\n",
       "    .dataframe thead th {\n",
       "        text-align: right;\n",
       "    }\n",
       "</style>\n",
       "<table border=\"1\" class=\"dataframe\">\n",
       "  <thead>\n",
       "    <tr style=\"text-align: right;\">\n",
       "      <th></th>\n",
       "      <th>age</th>\n",
       "      <th>sex</th>\n",
       "      <th>bmi</th>\n",
       "      <th>children</th>\n",
       "      <th>smoker</th>\n",
       "      <th>region</th>\n",
       "      <th>charges</th>\n",
       "      <th>insuranceclaim</th>\n",
       "    </tr>\n",
       "  </thead>\n",
       "  <tbody>\n",
       "    <tr>\n",
       "      <th>0</th>\n",
       "      <td>0</td>\n",
       "      <td>0</td>\n",
       "      <td>0</td>\n",
       "      <td>0</td>\n",
       "      <td>1</td>\n",
       "      <td>3</td>\n",
       "      <td>1</td>\n",
       "      <td>1</td>\n",
       "    </tr>\n",
       "    <tr>\n",
       "      <th>1</th>\n",
       "      <td>0</td>\n",
       "      <td>1</td>\n",
       "      <td>1</td>\n",
       "      <td>1</td>\n",
       "      <td>0</td>\n",
       "      <td>2</td>\n",
       "      <td>0</td>\n",
       "      <td>1</td>\n",
       "    </tr>\n",
       "    <tr>\n",
       "      <th>2</th>\n",
       "      <td>0</td>\n",
       "      <td>1</td>\n",
       "      <td>1</td>\n",
       "      <td>3</td>\n",
       "      <td>0</td>\n",
       "      <td>2</td>\n",
       "      <td>0</td>\n",
       "      <td>0</td>\n",
       "    </tr>\n",
       "    <tr>\n",
       "      <th>3</th>\n",
       "      <td>1</td>\n",
       "      <td>1</td>\n",
       "      <td>0</td>\n",
       "      <td>0</td>\n",
       "      <td>0</td>\n",
       "      <td>1</td>\n",
       "      <td>1</td>\n",
       "      <td>0</td>\n",
       "    </tr>\n",
       "    <tr>\n",
       "      <th>4</th>\n",
       "      <td>1</td>\n",
       "      <td>1</td>\n",
       "      <td>0</td>\n",
       "      <td>0</td>\n",
       "      <td>0</td>\n",
       "      <td>1</td>\n",
       "      <td>0</td>\n",
       "      <td>1</td>\n",
       "    </tr>\n",
       "    <tr>\n",
       "      <th>...</th>\n",
       "      <td>...</td>\n",
       "      <td>...</td>\n",
       "      <td>...</td>\n",
       "      <td>...</td>\n",
       "      <td>...</td>\n",
       "      <td>...</td>\n",
       "      <td>...</td>\n",
       "      <td>...</td>\n",
       "    </tr>\n",
       "    <tr>\n",
       "      <th>1333</th>\n",
       "      <td>2</td>\n",
       "      <td>1</td>\n",
       "      <td>1</td>\n",
       "      <td>3</td>\n",
       "      <td>0</td>\n",
       "      <td>1</td>\n",
       "      <td>1</td>\n",
       "      <td>0</td>\n",
       "    </tr>\n",
       "    <tr>\n",
       "      <th>1334</th>\n",
       "      <td>0</td>\n",
       "      <td>0</td>\n",
       "      <td>1</td>\n",
       "      <td>0</td>\n",
       "      <td>0</td>\n",
       "      <td>0</td>\n",
       "      <td>0</td>\n",
       "      <td>1</td>\n",
       "    </tr>\n",
       "    <tr>\n",
       "      <th>1335</th>\n",
       "      <td>0</td>\n",
       "      <td>0</td>\n",
       "      <td>1</td>\n",
       "      <td>0</td>\n",
       "      <td>0</td>\n",
       "      <td>2</td>\n",
       "      <td>0</td>\n",
       "      <td>1</td>\n",
       "    </tr>\n",
       "    <tr>\n",
       "      <th>1336</th>\n",
       "      <td>0</td>\n",
       "      <td>0</td>\n",
       "      <td>0</td>\n",
       "      <td>0</td>\n",
       "      <td>0</td>\n",
       "      <td>3</td>\n",
       "      <td>0</td>\n",
       "      <td>0</td>\n",
       "    </tr>\n",
       "    <tr>\n",
       "      <th>1337</th>\n",
       "      <td>3</td>\n",
       "      <td>0</td>\n",
       "      <td>0</td>\n",
       "      <td>0</td>\n",
       "      <td>1</td>\n",
       "      <td>1</td>\n",
       "      <td>1</td>\n",
       "      <td>1</td>\n",
       "    </tr>\n",
       "  </tbody>\n",
       "</table>\n",
       "<p>1338 rows × 8 columns</p>\n",
       "</div>"
      ],
      "text/plain": [
       "     age  sex bmi  children  smoker  region charges  insuranceclaim\n",
       "0      0    0   0         0       1       3       1               1\n",
       "1      0    1   1         1       0       2       0               1\n",
       "2      0    1   1         3       0       2       0               0\n",
       "3      1    1   0         0       0       1       1               0\n",
       "4      1    1   0         0       0       1       0               1\n",
       "...   ..  ...  ..       ...     ...     ...     ...             ...\n",
       "1333   2    1   1         3       0       1       1               0\n",
       "1334   0    0   1         0       0       0       0               1\n",
       "1335   0    0   1         0       0       2       0               1\n",
       "1336   0    0   0         0       0       3       0               0\n",
       "1337   3    0   0         0       1       1       1               1\n",
       "\n",
       "[1338 rows x 8 columns]"
      ]
     },
     "execution_count": 22,
     "metadata": {},
     "output_type": "execute_result"
    }
   ],
   "source": [
    "## NB is frequency based so we don't need one-hot encoding!\n",
    "## Scaling is not required because all features are categorical\n",
    "\n",
    "df['age'] = pd.cut(df['age'], bins = 4, labels = [0, 1, 2, 3])\n",
    "df['bmi'] = pd.cut(df['bmi'], bins = [df['bmi'].min(), df['bmi'].median(), df['bmi'].max()], labels = [0, 1])\n",
    "df['charges'] = pd.cut(df['charges'], bins = [df['charges'].min(), df['charges'].median(), df['charges'].max()], labels = [0, 1])\n",
    "df"
   ]
  },
  {
   "cell_type": "code",
   "execution_count": 23,
   "id": "ec22a530",
   "metadata": {},
   "outputs": [
    {
     "name": "stdout",
     "output_type": "stream",
     "text": [
      "(1338, 7) (1338,)\n"
     ]
    }
   ],
   "source": [
    "### create numpy arrays X and y\n",
    "label = 'insuranceclaim'\n",
    "features = list(df.columns)\n",
    "features.remove(label)\n",
    "X = df[features].to_numpy()\n",
    "y = df[label].to_numpy()\n",
    "print(X.shape, y.shape)"
   ]
  },
  {
   "cell_type": "code",
   "execution_count": 24,
   "id": "4001cbdb",
   "metadata": {},
   "outputs": [],
   "source": [
    "### split data into training and test sets\n",
    "X_train, X_test, y_train, y_test = train_test_split(X, y, train_size=0.7, random_state=42)"
   ]
  },
  {
   "cell_type": "code",
   "execution_count": 25,
   "id": "30fc929a",
   "metadata": {},
   "outputs": [
    {
     "name": "stdout",
     "output_type": "stream",
     "text": [
      "              precision    recall  f1-score   support\n",
      "\n",
      "   Not filed       0.66      0.70      0.68       161\n",
      "       Filed       0.79      0.76      0.78       241\n",
      "\n",
      "    accuracy                           0.74       402\n",
      "  \n",
      "confusion matrix:\n",
      " [[113  48]\n",
      " [ 58 183]]\n"
     ]
    }
   ],
   "source": [
    "from sklearn.naive_bayes import CategoricalNB\n",
    "nbc = CategoricalNB()\n",
    "nbc.fit(X_train, y_train)\n",
    "print(classification_report(y_test, nbc.predict(X_test), target_names = ['Not filed', 'Filed'])[:220])\n",
    "print(\"confusion matrix:\\n\", confusion_matrix(y_test, nbc.predict(X_test)))"
   ]
  },
  {
   "cell_type": "markdown",
   "id": "6960ddc7",
   "metadata": {},
   "source": [
    "#### Naive Bayes Summary\n",
    "\n",
    "- model type: probabilistic, Bayesian, generative\n",
    "- model expression: frequencies and likelihoods\n",
    "- assumptions: no interaction among the features\n",
    "- python implementation: sklearn.naive_bayes.CategoricalNB\n",
    "- hyperparameters: none, this is a purely probabilistics algorithm, prone to overfit\n",
    "- interpretability: high\n",
    "- scalability: hery high since frequency computation is very simple"
   ]
  }
 ],
 "metadata": {
  "kernelspec": {
   "display_name": "Python 3 (ipykernel)",
   "language": "python",
   "name": "python3"
  },
  "language_info": {
   "codemirror_mode": {
    "name": "ipython",
    "version": 3
   },
   "file_extension": ".py",
   "mimetype": "text/x-python",
   "name": "python",
   "nbconvert_exporter": "python",
   "pygments_lexer": "ipython3",
   "version": "3.7.9"
  }
 },
 "nbformat": 4,
 "nbformat_minor": 5
}

{
 "cells": [
  {
   "cell_type": "markdown",
   "id": "2724c372",
   "metadata": {},
   "source": [
    "### Lab 4: Iterative learning - solutions"
   ]
  },
  {
   "cell_type": "markdown",
   "id": "9e40cf8e",
   "metadata": {},
   "source": [
    "### Libraries"
   ]
  },
  {
   "cell_type": "code",
   "execution_count": 1,
   "id": "eb0689c7",
   "metadata": {},
   "outputs": [],
   "source": [
    "import numpy as np\n",
    "import pandas as pd\n",
    "import matplotlib.pyplot as plt\n",
    "import seaborn as sns\n",
    "from sklearn.linear_model import LinearRegression\n",
    "from sklearn.linear_model import SGDRegressor\n",
    "from sklearn.metrics import r2_score, mean_squared_error\n",
    "from sklearn.model_selection import train_test_split\n",
    "from sklearn.preprocessing import StandardScaler\n",
    "import warnings\n",
    "warnings.filterwarnings('ignore')"
   ]
  },
  {
   "cell_type": "markdown",
   "id": "dc74571e",
   "metadata": {},
   "source": [
    "#### 1 - How long does it take to train an OLS model?\n",
    "\n",
    "- Create a random simulated feature set X with 100 rows and 20 columns\n",
    "- Create a random simulated label vector y with 100 rows\n",
    "- Train a LinearRegression() model - how long does it take?\n",
    "- Increase the number of feature columns to 200\n",
    "- Increase the number of rows to 1 Million\n",
    "- Now how long does it take to train the model?"
   ]
  },
  {
   "cell_type": "code",
   "execution_count": 2,
   "id": "908cd06d",
   "metadata": {},
   "outputs": [
    {
     "data": {
      "text/plain": [
       "LinearRegression()"
      ]
     },
     "execution_count": 2,
     "metadata": {},
     "output_type": "execute_result"
    }
   ],
   "source": [
    "#X = np.random.normal(size = ?)\n",
    "#y = np.random.normal(size = ?)\n",
    "\n",
    "\n",
    "X = np.random.normal(size = (100, 20))\n",
    "y = np.random.normal(size = 100)\n",
    "lm = LinearRegression()\n",
    "lm.fit(X, y)\n",
    "# this only takes a moment"
   ]
  },
  {
   "cell_type": "code",
   "execution_count": 3,
   "id": "1a1985af",
   "metadata": {},
   "outputs": [
    {
     "data": {
      "text/plain": [
       "LinearRegression()"
      ]
     },
     "execution_count": 3,
     "metadata": {},
     "output_type": "execute_result"
    }
   ],
   "source": [
    "X = np.random.normal(size = (1000000, 200))\n",
    "y = np.random.normal(size = 1000000)\n",
    "lm = LinearRegression()\n",
    "lm.fit(X, y)\n",
    "# this takes more than 15 seconds"
   ]
  },
  {
   "cell_type": "markdown",
   "id": "89850e39",
   "metadata": {},
   "source": [
    "#### 2 - Boston Housing: multivariate linear regression\n",
    "\n",
    "1. Build a feature array and a label array from the data in \"Boston_Housing.csv\". Use the 'MEDV' column as the label and all other columns except 'MEDV' as features\n",
    "2. Split the dataset into training and testing parts with trainig_size = 0.7\n",
    "3. __Optional:__ Compute OLS model coefficients by explicitly solving the normal equation:\n",
    "    - $C = (X^TX)^{-1}X^Ty$ where _C_ is an array of model coefficients $C = [c_0, c_1, ..., c_N]$\n",
    "    - Reminder: use __np.matmul()__ for multiplying matrices rather the multiplication operartor *\n",
    "    - __Important:__ you will need to manually add a column of ones ([1,....,1]) to the feature set X. This will let the equation compute the intercept! (_scikit-learn algorithms for OLS and SGD do this as well \"under the hood\"_)\n",
    "4. Compute OLS model coefficients using LinearRegression(). Compare model intercept and coefficients with the result of the previous step where you calculate the coefficients explicitly\n",
    "5. Compute OLS MSE on the training and test sets\n",
    "6. Compute SGD model parameters on the training set and MSE for the trainng and test set. Compare SGD and OLS model performance\n",
    "7. Implement data transformations required to improve the SGD model \n",
    "8.__Challenge: understanding learning as an iterative process.__ Plot MSE vs number of iterations (from 1 to 100) for the Training and Test sets\n",
    "    - Set Learning Rate to 0.005 \n",
    "    - Comment on the difference between MSE_train and MSE_test. How does MSE_test evolve with number of iterations?   \n",
    "    - What is the optimal number of iterations?"
   ]
  },
  {
   "cell_type": "code",
   "execution_count": 4,
   "id": "5422ceb1",
   "metadata": {},
   "outputs": [],
   "source": [
    "#1\n",
    "df = pd.read_csv('https://github.com/wsko/data_science_academy/raw/main/data/Boston_Housing.csv')\n",
    "y = df['MEDV'].values\n",
    "feature_names = list(df.columns[:-1])\n",
    "X_ = df[feature_names].values"
   ]
  },
  {
   "cell_type": "code",
   "execution_count": 5,
   "id": "a6627216",
   "metadata": {},
   "outputs": [],
   "source": [
    "#2\n",
    "X_train, X_test, y_train, y_test = train_test_split(X_, y, train_size=0.7, random_state=15)"
   ]
  },
  {
   "cell_type": "code",
   "execution_count": 6,
   "id": "3a196cfb",
   "metadata": {},
   "outputs": [
    {
     "data": {
      "text/plain": [
       "array([ 4.78344612e+01, -1.04327060e-01,  6.76326749e-02,  7.56931720e-02,\n",
       "        2.26084696e+00, -2.37518228e+01,  3.00299910e+00,  2.44073264e-02,\n",
       "       -1.60843549e+00,  3.38521572e-01, -1.43760775e-02, -9.42402926e-01,\n",
       "       -6.29261945e-01])"
      ]
     },
     "execution_count": 6,
     "metadata": {},
     "output_type": "execute_result"
    }
   ],
   "source": [
    "#3\n",
    "## Optional: solve the normal equation\n",
    "## Note: use np.matmul() for multiplying matrices\n",
    "\n",
    "# add an array of ones as the first column of you feature array. hint: np.hstack\n",
    "X_train_1 = np.hstack((np.ones((X_train.shape[0], 1)), X_train))\n",
    "\n",
    "# compute the coefficients: note the first coefficient is the intercept\n",
    "np.matmul((np.linalg.inv(np.matmul(X_train_1.T,X_train_1))),np.matmul(X_train_1.T,y_train))\n"
   ]
  },
  {
   "cell_type": "code",
   "execution_count": 7,
   "id": "6fc8a885",
   "metadata": {},
   "outputs": [
    {
     "data": {
      "text/plain": [
       "(47.83446117281893,\n",
       " array([-1.04327060e-01,  6.76326749e-02,  7.56931720e-02,  2.26084696e+00,\n",
       "        -2.37518228e+01,  3.00299910e+00,  2.44073264e-02, -1.60843549e+00,\n",
       "         3.38521572e-01, -1.43760775e-02, -9.42402926e-01, -6.29261945e-01]))"
      ]
     },
     "execution_count": 7,
     "metadata": {},
     "output_type": "execute_result"
    }
   ],
   "source": [
    "#4\n",
    "ols = LinearRegression()\n",
    "ols.fit(X_train, y_train)\n",
    "(ols.intercept_, ols.coef_)"
   ]
  },
  {
   "cell_type": "code",
   "execution_count": 8,
   "id": "286c793b",
   "metadata": {},
   "outputs": [
    {
     "name": "stdout",
     "output_type": "stream",
     "text": [
      "train mse:   20.71718490982229\n",
      "test mse:   27.80079842311241\n"
     ]
    }
   ],
   "source": [
    "#5\n",
    "print(\"train mse:  \", mean_squared_error(y_train, ols.predict(X_train)))\n",
    "print(\"test mse:  \", mean_squared_error(y_test, ols.predict(X_test)))"
   ]
  },
  {
   "cell_type": "code",
   "execution_count": 9,
   "id": "10a3fefa",
   "metadata": {},
   "outputs": [
    {
     "name": "stdout",
     "output_type": "stream",
     "text": [
      "SGD model parameters: \n",
      " [-1.47403688e+10] \n",
      " [ 2.68942805e+11 -1.01238990e+11  5.35505001e+11 -6.78003633e+09\n",
      " -1.79105227e+10 -1.51812478e+11 -9.24456879e+10  1.45721240e+11\n",
      "  2.48878792e+11  3.68707706e+11  9.96982020e+10 -2.55960241e+09] \n",
      "\n",
      "train mse:   2.845355138708005e+28\n",
      "test mse:   2.758326526018562e+28\n"
     ]
    }
   ],
   "source": [
    "#6\n",
    "sgd = SGDRegressor(random_state=42)\n",
    "sgd.fit(X_train, y_train)\n",
    "print(\"SGD model parameters:\", \"\\n\", sgd.intercept_, \"\\n\", sgd.coef_, \"\\n\")\n",
    "print(\"train mse:  \", mean_squared_error(y_train, sgd.predict(X_train)))\n",
    "print(\"test mse:  \", mean_squared_error(y_test, sgd.predict(X_test)))"
   ]
  },
  {
   "cell_type": "code",
   "execution_count": 10,
   "id": "00483f0c",
   "metadata": {},
   "outputs": [
    {
     "name": "stdout",
     "output_type": "stream",
     "text": [
      "OLS model parameters: \n",
      " 22.59887005649722 \n",
      " [-0.82034362  1.56262542  0.51894519  0.53407183 -2.73243312  2.13268426\n",
      "  0.68767209 -3.27447668  2.94409421 -2.44405727 -2.05013295 -4.48267713] \n",
      "\n",
      "train mse:   20.71718490982229\n",
      "test mse:   27.80079842311226\n",
      "=======================================================\n",
      "SGD model parameters: \n",
      " [22.60845312] \n",
      " [-0.70317329  1.38850842 -0.010479    0.57820019 -2.38243694  2.31471066\n",
      "  0.5602226  -3.08659096  1.85577149 -1.26844771 -1.94874865 -4.43496686] \n",
      "\n",
      "train mse:   20.922213529466866\n",
      "test mse:   27.105269504726266\n"
     ]
    }
   ],
   "source": [
    "#7\n",
    "## Since SGD is sensitive to feature scales, we need to scale data using normalization\n",
    "## Remember to use the mean and std computed on the training set for scaling both sets\n",
    "\n",
    "scaler = StandardScaler()\n",
    "scaler.fit(X_train)\n",
    "X_train_sc = scaler.transform(X_train)\n",
    "X_test_sc = scaler.transform(X_test)\n",
    "\n",
    "ols = LinearRegression()\n",
    "ols.fit(X_train_sc, y_train)\n",
    "print(\"OLS model parameters:\", \"\\n\", ols.intercept_, \"\\n\", ols.coef_, \"\\n\")\n",
    "print(\"train mse:  \", mean_squared_error(y_train, ols.predict(X_train_sc)))\n",
    "print(\"test mse:  \", mean_squared_error(y_test, ols.predict(X_test_sc)))\n",
    "print(\"=======================================================\")\n",
    "sgd = SGDRegressor(random_state=42)\n",
    "sgd.fit(X_train_sc, y_train)\n",
    "print(\"SGD model parameters:\", \"\\n\", sgd.intercept_, \"\\n\", sgd.coef_, \"\\n\")\n",
    "print(\"train mse:  \", mean_squared_error(y_train, sgd.predict(X_train_sc)))\n",
    "print(\"test mse:  \", mean_squared_error(y_test, sgd.predict(X_test_sc)))"
   ]
  },
  {
   "cell_type": "code",
   "execution_count": 11,
   "id": "1c24ead6",
   "metadata": {
    "scrolled": true
   },
   "outputs": [
    {
     "data": {
      "image/png": "[encoded data removed]",
      "text/plain": [
       "<Figure size 640x480 with 1 Axes>"
      ]
     },
     "metadata": {},
     "output_type": "display_data"
    }
   ],
   "source": [
    "#8\n",
    "MSE_train = []\n",
    "MSE_test = []\n",
    "for i in range(1,100):\n",
    "    sgd = SGDRegressor(random_state=42, eta0 = 0.005, max_iter = i)\n",
    "    sgd.fit(X_train_sc, y_train)\n",
    "    MSE_train.append(mean_squared_error(y_train, sgd.predict(X_train_sc)))\n",
    "    MSE_test.append(mean_squared_error(y_test, sgd.predict(X_test_sc)))\n",
    "\n",
    "ax = sns.lineplot(x = np.arange(1,100), y = MSE_train, label = \"Training MSE\")\n",
    "ax = sns.lineplot(x = np.arange(1,100), y = MSE_test, label = \"Testing MSE\")\n",
    "ax.set_ylim((20, 30))\n",
    "ax.set_ylabel('Mean Squared Error')\n",
    "ax.set_xlabel('Iteration')\n",
    "plt.show()"
   ]
  },
  {
   "cell_type": "code",
   "execution_count": 12,
   "id": "05315164",
   "metadata": {},
   "outputs": [],
   "source": [
    "#MSE_train"
   ]
  },
  {
   "cell_type": "code",
   "execution_count": 13,
   "id": "02c9b358",
   "metadata": {},
   "outputs": [
    {
     "name": "stdout",
     "output_type": "stream",
     "text": [
      "-- Epoch 1\n",
      "Norm: 3.18, NNZs: 12, Bias: 9.498730, T: 354, Avg. loss: 168.995109\n",
      "Total training time: 0.00 seconds.\n",
      "-- Epoch 2\n",
      "Norm: 3.92, NNZs: 12, Bias: 13.589386, T: 708, Avg. loss: 75.927661\n",
      "Total training time: 0.00 seconds.\n",
      "-- Epoch 3\n",
      "Norm: 4.42, NNZs: 12, Bias: 16.092352, T: 1062, Avg. loss: 43.621650\n",
      "Total training time: 0.00 seconds.\n",
      "-- Epoch 4\n",
      "Norm: 4.69, NNZs: 12, Bias: 17.778014, T: 1416, Avg. loss: 28.881787\n",
      "Total training time: 0.00 seconds.\n",
      "-- Epoch 5\n",
      "Norm: 4.96, NNZs: 12, Bias: 18.963917, T: 1770, Avg. loss: 21.314130\n",
      "Total training time: 0.00 seconds.\n",
      "-- Epoch 6\n",
      "Norm: 5.12, NNZs: 12, Bias: 19.824931, T: 2124, Avg. loss: 17.210699\n",
      "Total training time: 0.00 seconds.\n",
      "-- Epoch 7\n",
      "Norm: 5.27, NNZs: 12, Bias: 20.450984, T: 2478, Avg. loss: 14.908885\n",
      "Total training time: 0.00 seconds.\n",
      "-- Epoch 8\n",
      "Norm: 5.44, NNZs: 12, Bias: 20.922580, T: 2832, Avg. loss: 13.534685\n",
      "Total training time: 0.00 seconds.\n",
      "-- Epoch 9\n",
      "Norm: 5.52, NNZs: 12, Bias: 21.275580, T: 3186, Avg. loss: 12.750845\n",
      "Total training time: 0.00 seconds.\n",
      "-- Epoch 10\n",
      "Norm: 5.61, NNZs: 12, Bias: 21.551693, T: 3540, Avg. loss: 12.220135\n",
      "Total training time: 0.00 seconds.\n"
     ]
    },
    {
     "data": {
      "text/plain": [
       "SGDRegressor(eta0=0.005, max_iter=10, random_state=42, verbose=True)"
      ]
     },
     "execution_count": 13,
     "metadata": {},
     "output_type": "execute_result"
    }
   ],
   "source": [
    "## Bonus: use \"verbose\" argument\n",
    "\n",
    "sgd = SGDRegressor(random_state=42, eta0 = 0.005, verbose = True, max_iter=10)\n",
    "sgd.fit(X_train_sc, y_train)"
   ]
  },
  {
   "cell_type": "code",
   "execution_count": null,
   "id": "fe7f987b",
   "metadata": {},
   "outputs": [],
   "source": []
  },
  {
   "cell_type": "code",
   "execution_count": null,
   "id": "d6b52056",
   "metadata": {},
   "outputs": [],
   "source": []
  }
 ],
 "metadata": {
  "kernelspec": {
   "display_name": "Python 3 (ipykernel)",
   "language": "python",
   "name": "python3"
  },
  "language_info": {
   "codemirror_mode": {
    "name": "ipython",
    "version": 3
   },
   "file_extension": ".py",
   "mimetype": "text/x-python",
   "name": "python",
   "nbconvert_exporter": "python",
   "pygments_lexer": "ipython3",
   "version": "3.7.9"
  }
 },
 "nbformat": 4,
 "nbformat_minor": 5
}

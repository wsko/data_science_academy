{
 "cells": [
  {
   "cell_type": "markdown",
   "id": "2724c372",
   "metadata": {},
   "source": [
    "### Lab 4: Iterative learning"
   ]
  },
  {
   "cell_type": "markdown",
   "id": "9e40cf8e",
   "metadata": {},
   "source": [
    "### Libraries"
   ]
  },
  {
   "cell_type": "code",
   "execution_count": null,
   "id": "eb0689c7",
   "metadata": {},
   "outputs": [],
   "source": [
    "import numpy as np\n",
    "import pandas as pd\n",
    "import matplotlib.pyplot as plt\n",
    "import seaborn as sns\n",
    "from sklearn.linear_model import LinearRegression\n",
    "from sklearn.linear_model import SGDRegressor\n",
    "from sklearn.metrics import r2_score, mean_squared_error\n",
    "from sklearn.model_selection import train_test_split\n",
    "from sklearn.preprocessing import StandardScaler\n",
    "import warnings\n",
    "warnings.filterwarnings('ignore')"
   ]
  },
  {
   "cell_type": "markdown",
   "id": "dc74571e",
   "metadata": {},
   "source": [
    "#### 1 - How long does it take to train an OLS model?\n",
    "\n",
    "- Create a random simulated feature set X with 100 rows and 20 columns\n",
    "- Create a random simulated label vector y with 100 rows\n",
    "- Train a LinearRegression() model - how long does it take?\n",
    "- Increase the number of feature columns to 200\n",
    "- Increase the number of rows to 1 Million\n",
    "- Now how long does it take to train the model?"
   ]
  },
  {
   "cell_type": "code",
   "execution_count": null,
   "id": "908cd06d",
   "metadata": {},
   "outputs": [],
   "source": [
    "#X = np.random.normal(size = (?, ?))  ## 100 x 20 array\n",
    "#y = np.random.normal(size = ?)  ## \n",
    "\n",
    "# lm = ?????\n",
    "#lm.fit(X, y)\n",
    "\n",
    "\n",
    "# this only takes a moment"
   ]
  },
  {
   "cell_type": "code",
   "execution_count": null,
   "id": "1a1985af",
   "metadata": {},
   "outputs": [],
   "source": [
    "#X = np.random.normal(size = (?, ?))  ## 1000000 x 200 array\n",
    "#y = np.random.normal(size = ?)  ## \n",
    "\n",
    "# lm = ?????\n",
    "#lm.fit(X, y)\n",
    "# this takes more than 15 seconds"
   ]
  },
  {
   "cell_type": "markdown",
   "id": "89850e39",
   "metadata": {},
   "source": [
    "#### 2 - Boston Housing: multivariate linear regression\n",
    "\n",
    "1. Build a feature array and a label array from the data in \"Boston_Housing.csv\". Use the 'MEDV' column as the label and all other columns except 'MEDV' as features\n",
    "2. Split the dataset into training and testing parts with trainig_size = 0.7\n",
    "3. __Optional:__ Compute OLS model coefficients by explicitly solving the normal equation:\n",
    "    - $C = (X^TX)^{-1}X^Ty$ where _C_ is an array of model coefficients $C = [c_0, c_1, ..., c_N]$\n",
    "    - Reminder: use __np.matmul()__ for multiplying matrices rather the multiplication operartor *\n",
    "    - __Important:__ you will need to manually add a column of ones ([1,....,1]) to the feature set X. This will let the equation compute the intercept! (_scikit-learn algorithms for OLS and SGD do this as well \"under the hood\"_)\n",
    "4. Compute OLS model coefficients using LinearRegression(). Compare model intercept and coefficients with the result of the previous step where you calculate the coefficients explicitly\n",
    "5. Compute OLS MSE on the training and test sets\n",
    "6. Compute SGD model parameters on the training set and MSE for the trainng and test set. Compare SGD and OLS model performance\n",
    "7. Implement data transformations required to improve the SGD model \n",
    "8.__Challenge: understanding learning as an iterative process.__ Plot MSE vs number of iterations (from 1 to 100) for the Training and Test sets\n",
    "    - Set Learning Rate to 0.005 \n",
    "    - Comment on the difference between MSE_train and MSE_test. How does MSE_test evolve with number of iterations?   \n",
    "    - What is the optimal number of iterations?"
   ]
  },
  {
   "cell_type": "code",
   "execution_count": null,
   "id": "5422ceb1",
   "metadata": {},
   "outputs": [],
   "source": [
    "#1\n"
   ]
  },
  {
   "cell_type": "code",
   "execution_count": null,
   "id": "a6627216",
   "metadata": {},
   "outputs": [],
   "source": [
    "#2\n"
   ]
  },
  {
   "cell_type": "code",
   "execution_count": null,
   "id": "3a196cfb",
   "metadata": {},
   "outputs": [],
   "source": [
    "#3\n",
    "## Optional: solve the normal equation\n",
    "## Note: use np.matmul() for multiplying matrices\n",
    "\n",
    "# add an array of ones as the first column of you feature array. hint: np.hstack\n",
    "X_train_1 = np.hstack((np.ones((X_train.shape[0], 1)), X_train))\n",
    "\n",
    "# compute the coefficients: note the first coefficient is the intercept\n",
    "np.matmul((np.linalg.inv(np.matmul(X_train_1.T,X_train_1))),np.matmul(X_train_1.T,y_train))\n"
   ]
  },
  {
   "cell_type": "code",
   "execution_count": null,
   "id": "6fc8a885",
   "metadata": {},
   "outputs": [],
   "source": [
    "#4\n"
   ]
  },
  {
   "cell_type": "code",
   "execution_count": null,
   "id": "286c793b",
   "metadata": {},
   "outputs": [],
   "source": [
    "#5\n"
   ]
  },
  {
   "cell_type": "code",
   "execution_count": null,
   "id": "10a3fefa",
   "metadata": {},
   "outputs": [],
   "source": [
    "#6\n",
    "\n",
    "print(\"SGD model parameters:\", \"\\n\", sgd.intercept_, \"\\n\", sgd.coef_, \"\\n\")\n",
    "print(\"train mse:  \", mean_squared_error(y_train, sgd.predict(X_train)))\n",
    "print(\"test mse:  \", mean_squared_error(y_test, sgd.predict(X_test)))"
   ]
  },
  {
   "cell_type": "code",
   "execution_count": null,
   "id": "00483f0c",
   "metadata": {},
   "outputs": [],
   "source": [
    "#7\n",
    "## Since SGD is sensitive to feature scales, we need to scale data using normalization\n",
    "## Remember to use the mean and std computed on the training set for scaling both sets\n",
    "\n",
    "scaler = StandardScaler()\n",
    "scaler.fit(X_train)\n",
    "X_train_sc = scaler.transform(X_train)\n",
    "X_test_sc = scaler.transform(X_test)\n",
    "\n"
   ]
  },
  {
   "cell_type": "code",
   "execution_count": null,
   "id": "1c24ead6",
   "metadata": {},
   "outputs": [],
   "source": [
    "#8\n"
   ]
  },
  {
   "cell_type": "code",
   "execution_count": null,
   "id": "02c9b358",
   "metadata": {},
   "outputs": [],
   "source": [
    "## Bonus: use \"verbose\" argument\n",
    "\n",
    "sgd = SGDRegressor(random_state=42, eta0 = 0.005, verbose = True, max_iter=10)\n",
    "sgd.fit(X_train_sc, y_train)"
   ]
  },
  {
   "cell_type": "code",
   "execution_count": null,
   "id": "fe7f987b",
   "metadata": {},
   "outputs": [],
   "source": []
  }
 ],
 "metadata": {
  "kernelspec": {
   "display_name": "Python 3 (ipykernel)",
   "language": "python",
   "name": "python3"
  },
  "language_info": {
   "codemirror_mode": {
    "name": "ipython",
    "version": 3
   },
   "file_extension": ".py",
   "mimetype": "text/x-python",
   "name": "python",
   "nbconvert_exporter": "python",
   "pygments_lexer": "ipython3",
   "version": "3.7.9"
  }
 },
 "nbformat": 4,
 "nbformat_minor": 5
}

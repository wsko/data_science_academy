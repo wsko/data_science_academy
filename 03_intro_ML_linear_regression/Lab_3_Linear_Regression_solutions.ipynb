{
 "cells": [
  {
   "cell_type": "markdown",
   "id": "ebe67e16",
   "metadata": {},
   "source": [
    "## Lab 3 Linear Regression - solution"
   ]
  },
  {
   "cell_type": "markdown",
   "id": "a9941cc4",
   "metadata": {},
   "source": [
    "We will use the \"advertizing.csv\" dataset from kaggle.com to train a linear regression model to predict sales from TV, radio and newspaper advertizing budget"
   ]
  },
  {
   "cell_type": "code",
   "execution_count": 1,
   "id": "10d4f0f9",
   "metadata": {},
   "outputs": [],
   "source": [
    "import numpy as np\n",
    "import pandas as pd\n",
    "import matplotlib.pyplot as plt\n",
    "import seaborn as sns\n",
    "from sklearn.linear_model import LinearRegression\n",
    "from sklearn.metrics import r2_score, mean_squared_error\n",
    "from sklearn.model_selection import train_test_split\n",
    "from sklearn.preprocessing import PolynomialFeatures\n",
    "from sklearn.preprocessing import MinMaxScaler"
   ]
  },
  {
   "cell_type": "markdown",
   "id": "f73b538e",
   "metadata": {},
   "source": [
    "#### 1. Import and inspect the advertizing data\n",
    "\n",
    "- Import the data into a pandas df\n",
    "- Check for missing values\n",
    "- Inspect the descriptive statistics\n",
    "- Plot and inspect heat map of the correlation matrix:\n",
    "    - is there a strong correlation among the features (i.e., all columns except \"sales\")"
   ]
  },
  {
   "cell_type": "code",
   "execution_count": 2,
   "id": "a0ed3763",
   "metadata": {},
   "outputs": [],
   "source": [
    "df = pd.read_csv(\"https://github.com/wsko/data_science_academy/raw/main/data/advertising.csv\")"
   ]
  },
  {
   "cell_type": "code",
   "execution_count": 3,
   "id": "cb0aaf7e",
   "metadata": {},
   "outputs": [
    {
     "name": "stdout",
     "output_type": "stream",
     "text": [
      "<class 'pandas.core.frame.DataFrame'>\n",
      "RangeIndex: 200 entries, 0 to 199\n",
      "Data columns (total 4 columns):\n",
      " #   Column     Non-Null Count  Dtype  \n",
      "---  ------     --------------  -----  \n",
      " 0   TV         200 non-null    float64\n",
      " 1   radio      200 non-null    float64\n",
      " 2   newspaper  200 non-null    float64\n",
      " 3   sales      200 non-null    float64\n",
      "dtypes: float64(4)\n",
      "memory usage: 6.4 KB\n"
     ]
    }
   ],
   "source": [
    "df.info()"
   ]
  },
  {
   "cell_type": "code",
   "execution_count": 4,
   "id": "073750fa",
   "metadata": {},
   "outputs": [
    {
     "data": {
      "text/html": [
       "<div>\n",
       "<style scoped>\n",
       "    .dataframe tbody tr th:only-of-type {\n",
       "        vertical-align: middle;\n",
       "    }\n",
       "\n",
       "    .dataframe tbody tr th {\n",
       "        vertical-align: top;\n",
       "    }\n",
       "\n",
       "    .dataframe thead th {\n",
       "        text-align: right;\n",
       "    }\n",
       "</style>\n",
       "<table border=\"1\" class=\"dataframe\">\n",
       "  <thead>\n",
       "    <tr style=\"text-align: right;\">\n",
       "      <th></th>\n",
       "      <th>TV</th>\n",
       "      <th>radio</th>\n",
       "      <th>newspaper</th>\n",
       "      <th>sales</th>\n",
       "    </tr>\n",
       "  </thead>\n",
       "  <tbody>\n",
       "    <tr>\n",
       "      <th>count</th>\n",
       "      <td>200.000000</td>\n",
       "      <td>200.000000</td>\n",
       "      <td>200.000000</td>\n",
       "      <td>200.000000</td>\n",
       "    </tr>\n",
       "    <tr>\n",
       "      <th>mean</th>\n",
       "      <td>147.042500</td>\n",
       "      <td>23.264000</td>\n",
       "      <td>30.554000</td>\n",
       "      <td>14.022500</td>\n",
       "    </tr>\n",
       "    <tr>\n",
       "      <th>std</th>\n",
       "      <td>85.854236</td>\n",
       "      <td>14.846809</td>\n",
       "      <td>21.778621</td>\n",
       "      <td>5.217457</td>\n",
       "    </tr>\n",
       "    <tr>\n",
       "      <th>min</th>\n",
       "      <td>0.700000</td>\n",
       "      <td>0.000000</td>\n",
       "      <td>0.300000</td>\n",
       "      <td>1.600000</td>\n",
       "    </tr>\n",
       "    <tr>\n",
       "      <th>25%</th>\n",
       "      <td>74.375000</td>\n",
       "      <td>9.975000</td>\n",
       "      <td>12.750000</td>\n",
       "      <td>10.375000</td>\n",
       "    </tr>\n",
       "    <tr>\n",
       "      <th>50%</th>\n",
       "      <td>149.750000</td>\n",
       "      <td>22.900000</td>\n",
       "      <td>25.750000</td>\n",
       "      <td>12.900000</td>\n",
       "    </tr>\n",
       "    <tr>\n",
       "      <th>75%</th>\n",
       "      <td>218.825000</td>\n",
       "      <td>36.525000</td>\n",
       "      <td>45.100000</td>\n",
       "      <td>17.400000</td>\n",
       "    </tr>\n",
       "    <tr>\n",
       "      <th>max</th>\n",
       "      <td>296.400000</td>\n",
       "      <td>49.600000</td>\n",
       "      <td>114.000000</td>\n",
       "      <td>27.000000</td>\n",
       "    </tr>\n",
       "  </tbody>\n",
       "</table>\n",
       "</div>"
      ],
      "text/plain": [
       "               TV       radio   newspaper       sales\n",
       "count  200.000000  200.000000  200.000000  200.000000\n",
       "mean   147.042500   23.264000   30.554000   14.022500\n",
       "std     85.854236   14.846809   21.778621    5.217457\n",
       "min      0.700000    0.000000    0.300000    1.600000\n",
       "25%     74.375000    9.975000   12.750000   10.375000\n",
       "50%    149.750000   22.900000   25.750000   12.900000\n",
       "75%    218.825000   36.525000   45.100000   17.400000\n",
       "max    296.400000   49.600000  114.000000   27.000000"
      ]
     },
     "execution_count": 4,
     "metadata": {},
     "output_type": "execute_result"
    }
   ],
   "source": [
    "df.describe()"
   ]
  },
  {
   "cell_type": "code",
   "execution_count": 5,
   "id": "c80a8ddf",
   "metadata": {},
   "outputs": [
    {
     "data": {
      "image/png": "[encoded data removed]",
      "text/plain": [
       "<Figure size 640x480 with 2 Axes>"
      ]
     },
     "metadata": {},
     "output_type": "display_data"
    }
   ],
   "source": [
    "sns.heatmap(abs(df.corr()))\n",
    "plt.show()"
   ]
  },
  {
   "cell_type": "markdown",
   "id": "2dde4c8c",
   "metadata": {},
   "source": [
    "#### 2. Prepare data for modeling \n",
    "- Create arrays X (feature set) and y (label)\n",
    "- Perform train-test split leaving out 10 % of the data for testing\n",
    "- Perform scaling for X_train and X_test"
   ]
  },
  {
   "cell_type": "code",
   "execution_count": 6,
   "id": "22dda525",
   "metadata": {},
   "outputs": [
    {
     "name": "stdout",
     "output_type": "stream",
     "text": [
      "['TV', 'radio', 'newspaper']\n",
      "(200, 3) (200,)\n"
     ]
    }
   ],
   "source": [
    "## create numpy arrays X and y\n",
    "\n",
    "label_col = 'sales'\n",
    "y = df[label_col].values\n",
    "\n",
    "feature_names = list(df.columns) ## note that we can leave some of the columns out of the feature set\n",
    "feature_names.remove(label_col)\n",
    "print(feature_names)\n",
    "\n",
    "X = df[feature_names].values\n",
    "\n",
    "print(X.shape, y.shape)\n"
   ]
  },
  {
   "cell_type": "code",
   "execution_count": 7,
   "id": "6ff8fad0",
   "metadata": {},
   "outputs": [],
   "source": [
    "## perform train-test split\n",
    "\n",
    "X_train, X_test, y_train, y_test = train_test_split(X, y, train_size = 0.9, random_state=42)"
   ]
  },
  {
   "cell_type": "code",
   "execution_count": 8,
   "id": "9ac919d4",
   "metadata": {},
   "outputs": [
    {
     "data": {
      "text/plain": [
       "array([[0.54988164, 0.63709677, 0.46262093],\n",
       "       [0.65843761, 0.96169355, 0.46262093],\n",
       "       [0.98816368, 0.57056452, 0.37730871],\n",
       "       [0.03719986, 0.74395161, 0.39489886],\n",
       "       [0.74264457, 0.98790323, 0.02550572],\n",
       "       [0.25160636, 0.70564516, 0.46086192],\n",
       "       [0.73080825, 0.88508065, 0.23658751],\n",
       "       [0.16672303, 0.23387097, 0.15919085],\n",
       "       [0.74974636, 0.06854839, 0.11257696],\n",
       "       [0.58978695, 0.45362903, 0.27440633],\n",
       "       [0.10415962, 0.49596774, 0.01671064],\n",
       "       [0.18769023, 0.11491935, 0.2585752 ],\n",
       "       [0.79066622, 0.06854839, 0.74318382],\n",
       "       [0.01589449, 0.60282258, 0.08003518],\n",
       "       [0.46939466, 0.04233871, 0.23131047],\n",
       "       [0.5732161 , 0.15725806, 0.30694811],\n",
       "       [0.02231992, 0.56653226, 0.36147757],\n",
       "       [0.66587758, 0.46975806, 0.12225154],\n",
       "       [0.25228272, 0.40927419, 0.28320141],\n",
       "       [0.80047345, 0.55443548, 0.0941073 ]])"
      ]
     },
     "execution_count": 8,
     "metadata": {},
     "output_type": "execute_result"
    }
   ],
   "source": [
    "## perform data scaling\n",
    "\n",
    "scaler = MinMaxScaler()\n",
    "scaler.fit(X_train)\n",
    "X_train = scaler.transform(X_train)\n",
    "X_test = scaler.transform(X_test)\n",
    "X_test"
   ]
  },
  {
   "cell_type": "markdown",
   "id": "9d5093fc",
   "metadata": {},
   "source": [
    "#### 3. Train and score a linear regression model\n",
    "\n",
    "Also, inspect model coefficients and provide your insights about each advertizing platform"
   ]
  },
  {
   "cell_type": "code",
   "execution_count": 9,
   "id": "08ecff01",
   "metadata": {},
   "outputs": [
    {
     "data": {
      "text/plain": [
       "LinearRegression()"
      ]
     },
     "execution_count": 9,
     "metadata": {},
     "output_type": "execute_result"
    }
   ],
   "source": [
    "lm = LinearRegression()\n",
    "lm.fit(X_train, y_train)"
   ]
  },
  {
   "cell_type": "code",
   "execution_count": 10,
   "id": "1944a7e0",
   "metadata": {},
   "outputs": [
    {
     "data": {
      "text/plain": [
       "array([13.33742914,  9.18186801,  0.20618461])"
      ]
     },
     "execution_count": 10,
     "metadata": {},
     "output_type": "execute_result"
    }
   ],
   "source": [
    "lm.coef_"
   ]
  },
  {
   "cell_type": "code",
   "execution_count": 11,
   "id": "ebcf5a61",
   "metadata": {},
   "outputs": [
    {
     "name": "stdout",
     "output_type": "stream",
     "text": [
      "MSE training:   2.7543155639500685\n",
      "MSE test:   3.130802091238052\n"
     ]
    }
   ],
   "source": [
    "print(\"MSE training:  \", mean_squared_error(y_train, lm.predict(X_train)))\n",
    "print(\"MSE test:  \", mean_squared_error(y_test, lm.predict(X_test)))"
   ]
  },
  {
   "cell_type": "markdown",
   "id": "9b25ff22",
   "metadata": {},
   "source": [
    "#### 4. Train and score a linear regression model on only the first two features (TV and radio)"
   ]
  },
  {
   "cell_type": "code",
   "execution_count": 12,
   "id": "694859f4",
   "metadata": {},
   "outputs": [
    {
     "name": "stdout",
     "output_type": "stream",
     "text": [
      "MSE training:   2.7556462978110265\n",
      "MSE test:   3.0891353839787774\n"
     ]
    }
   ],
   "source": [
    "lm = LinearRegression()\n",
    "lm.fit(X_train[:, :2], y_train)\n",
    "print(\"MSE training:  \", mean_squared_error(y_train, lm.predict(X_train[:, :2])))\n",
    "print(\"MSE test:  \", mean_squared_error(y_test, lm.predict(X_test[:, :2])))"
   ]
  },
  {
   "cell_type": "markdown",
   "id": "088724c7",
   "metadata": {},
   "source": [
    "#### 5. Train and score univariate linear regression models on TV, radio and newspaper. \n",
    "####     Compare model scores. Which feature is the strongest predictor?"
   ]
  },
  {
   "cell_type": "code",
   "execution_count": 13,
   "id": "b4641ddb",
   "metadata": {},
   "outputs": [
    {
     "name": "stdout",
     "output_type": "stream",
     "text": [
      "MSE training for TV ____: 10.38247997903617\n",
      "MSE test for TV ____: 11.70656378106718\n"
     ]
    }
   ],
   "source": [
    "feature = 0\n",
    "\n",
    "lm = LinearRegression()\n",
    "lm.fit(X_train[:, [feature]], y_train) \n",
    "print(\"MSE training for\", df.columns[feature], \"____:\", mean_squared_error(y_train, lm.predict(X_train[:, [feature]])))\n",
    "print(\"MSE test for\", df.columns[feature], \"____:\",mean_squared_error(y_test, lm.predict(X_test[:, [feature]])))"
   ]
  },
  {
   "cell_type": "code",
   "execution_count": 14,
   "id": "89f9895f",
   "metadata": {},
   "outputs": [
    {
     "name": "stdout",
     "output_type": "stream",
     "text": [
      "MSE training for radio ____: 17.497056811227196\n",
      "MSE test for radio ____: 23.49811198484789\n"
     ]
    }
   ],
   "source": [
    "feature = 1\n",
    "\n",
    "lm = LinearRegression()\n",
    "lm.fit(X_train[:, [feature]], y_train) \n",
    "print(\"MSE training for\", df.columns[feature], \"____:\", mean_squared_error(y_train, lm.predict(X_train[:, [feature]])))\n",
    "print(\"MSE test for\", df.columns[feature], \"____:\",mean_squared_error(y_test, lm.predict(X_test[:, [feature]])))"
   ]
  },
  {
   "cell_type": "code",
   "execution_count": 15,
   "id": "abcf184e",
   "metadata": {},
   "outputs": [
    {
     "name": "stdout",
     "output_type": "stream",
     "text": [
      "MSE training for newspaper ____: 24.693889314570697\n",
      "MSE test for newspaper ____: 34.65829133924556\n"
     ]
    }
   ],
   "source": [
    "feature = 2\n",
    "\n",
    "lm = LinearRegression()\n",
    "lm.fit(X_train[:, [feature]], y_train) \n",
    "print(\"MSE training for\", df.columns[feature], \"____:\", mean_squared_error(y_train, lm.predict(X_train[:, [feature]])))\n",
    "print(\"MSE test for\", df.columns[feature], \"____:\",mean_squared_error(y_test, lm.predict(X_test[:, [feature]])))"
   ]
  },
  {
   "cell_type": "markdown",
   "id": "5fa7b3e2",
   "metadata": {},
   "source": [
    "#### 6. Can we improve the model by adding polynomial features? What polynomial degree results in the best model accuracy?"
   ]
  },
  {
   "cell_type": "code",
   "execution_count": 16,
   "id": "71b642ec",
   "metadata": {},
   "outputs": [],
   "source": [
    "MSE_train = []\n",
    "MSE_test = []\n",
    "for deg in range(1,6):\n",
    "    pf = PolynomialFeatures(degree = deg)\n",
    "    X_tr = pf.fit_transform(X_train)\n",
    "    X_te = pf.fit_transform(X_test)\n",
    "    lm = LinearRegression()\n",
    "    lm.fit(X_tr, y_train)\n",
    "    MSE_test.append(mean_squared_error(lm.predict(X_te), y_test))\n",
    "    MSE_train.append(mean_squared_error(lm.predict(X_tr), y_train))"
   ]
  },
  {
   "cell_type": "code",
   "execution_count": 17,
   "id": "9b15b527",
   "metadata": {},
   "outputs": [
    {
     "data": {
      "image/png": "[encoded data removed]",
      "text/plain": [
       "<Figure size 640x480 with 1 Axes>"
      ]
     },
     "metadata": {},
     "output_type": "display_data"
    }
   ],
   "source": [
    "ax = sns.lineplot(y = MSE_train, x = np.arange(1,6), label = 'train')\n",
    "ax = sns.lineplot(y = MSE_test, x = np.arange(1,6), label = 'test')\n",
    "ax.set_xlabel(\"Polynomial Degree\")\n",
    "ax.set_ylabel(\"Test MSE\")\n",
    "ax.set_ylim((0,4))\n",
    "plt.show()"
   ]
  },
  {
   "cell_type": "code",
   "execution_count": 18,
   "id": "b1d6ec98",
   "metadata": {
    "scrolled": true
   },
   "outputs": [
    {
     "data": {
      "text/plain": [
       "[3.130802091238055,\n",
       " 0.4267552679521727,\n",
       " 0.22520193049889153,\n",
       " 0.6766322021484371,\n",
       " 8.15484825897217]"
      ]
     },
     "execution_count": 18,
     "metadata": {},
     "output_type": "execute_result"
    }
   ],
   "source": [
    "MSE_test"
   ]
  },
  {
   "cell_type": "code",
   "execution_count": 19,
   "id": "705e008d",
   "metadata": {},
   "outputs": [],
   "source": [
    "### Polynomial degree = 3 results in the most accurate model"
   ]
  },
  {
   "cell_type": "code",
   "execution_count": null,
   "id": "91e73493",
   "metadata": {},
   "outputs": [],
   "source": []
  }
 ],
 "metadata": {
  "kernelspec": {
   "display_name": "Python 3 (ipykernel)",
   "language": "python",
   "name": "python3"
  },
  "language_info": {
   "codemirror_mode": {
    "name": "ipython",
    "version": 3
   },
   "file_extension": ".py",
   "mimetype": "text/x-python",
   "name": "python",
   "nbconvert_exporter": "python",
   "pygments_lexer": "ipython3",
   "version": "3.7.9"
  }
 },
 "nbformat": 4,
 "nbformat_minor": 5
}

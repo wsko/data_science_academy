{
 "cells": [
  {
   "cell_type": "markdown",
   "id": "ebe67e16",
   "metadata": {},
   "source": [
    "## Lab 3 Linear Regression"
   ]
  },
  {
   "cell_type": "markdown",
   "id": "a9941cc4",
   "metadata": {},
   "source": [
    "We will use the \"advertizing.csv\" dataset from kaggle.com to train a linear regression model to predict sales from TV, radio and newspaper advertizing budget"
   ]
  },
  {
   "cell_type": "code",
   "execution_count": 1,
   "id": "10d4f0f9",
   "metadata": {},
   "outputs": [],
   "source": [
    "import numpy as np\n",
    "import pandas as pd\n",
    "import matplotlib.pyplot as plt\n",
    "import seaborn as sns\n",
    "from sklearn.linear_model import LinearRegression\n",
    "from sklearn.metrics import r2_score, mean_squared_error\n",
    "from sklearn.model_selection import train_test_split\n",
    "from sklearn.preprocessing import PolynomialFeatures\n",
    "from sklearn.preprocessing import MinMaxScaler"
   ]
  },
  {
   "cell_type": "markdown",
   "id": "f73b538e",
   "metadata": {},
   "source": [
    "#### 1. Import and inspect the advertizing data\n",
    "\n",
    "- Import the data into a pandas df\n",
    "- Check for missing values\n",
    "- Inspect the descriptive statistics\n",
    "- Plot and inspect heat map of the correlation matrix:\n",
    "    - is there a strong correlation among the features (i.e., all columns except \"sales\")"
   ]
  },
  {
   "cell_type": "markdown",
   "id": "2dde4c8c",
   "metadata": {},
   "source": [
    "#### 2. Prepare data for modeling \n",
    "- Create arrays X (feature set) and y (label)\n",
    "- Perform train-test split leaving out 10 % of the data for testing\n",
    "- Perform scaling for X_train and X_test"
   ]
  },
  {
   "cell_type": "markdown",
   "id": "9d5093fc",
   "metadata": {},
   "source": [
    "#### 3. Train and score a linear regression model\n",
    "\n",
    "Also, inspect model coefficients and provide your insights about each advertizing platform"
   ]
  },
  {
   "cell_type": "markdown",
   "id": "9b25ff22",
   "metadata": {},
   "source": [
    "#### 4. Train and score a linear regression model on only the first two features (TV and radio)"
   ]
  },
  {
   "cell_type": "markdown",
   "id": "088724c7",
   "metadata": {},
   "source": [
    "#### 5. Train and score univariate linear regression models on TV, radio and newspaper. \n",
    "- Compare model scores. Which feature is the strongest predictor?"
   ]
  },
  {
   "cell_type": "markdown",
   "id": "5fa7b3e2",
   "metadata": {},
   "source": [
    "#### 6. Can we improve the model by adding polynomial features? What polynomial degree results in the best model accuracy?"
   ]
  },
  {
   "cell_type": "code",
   "execution_count": null,
   "id": "91e73493",
   "metadata": {},
   "outputs": [],
   "source": []
  }
 ],
 "metadata": {
  "kernelspec": {
   "display_name": "Python 3 (ipykernel)",
   "language": "python",
   "name": "python3"
  },
  "language_info": {
   "codemirror_mode": {
    "name": "ipython",
    "version": 3
   },
   "file_extension": ".py",
   "mimetype": "text/x-python",
   "name": "python",
   "nbconvert_exporter": "python",
   "pygments_lexer": "ipython3",
   "version": "3.7.13"
  }
 },
 "nbformat": 4,
 "nbformat_minor": 5
}

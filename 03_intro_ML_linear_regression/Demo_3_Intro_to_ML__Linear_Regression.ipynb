{
 "cells": [
  {
   "cell_type": "markdown",
   "id": "2724c372",
   "metadata": {},
   "source": [
    "## Introduction to Machine Learning\n",
    "\n",
    "## Linear Regression"
   ]
  },
  {
   "cell_type": "markdown",
   "id": "caf3dc8a",
   "metadata": {},
   "source": [
    "### Machine Learning definition\n",
    "\n",
    "\n",
    "__“The field of study that gives computers the ability to learn without being explicitly programmed\" (Arthur Samuel, 1959)__\n",
    "\n",
    "\n",
    "__Example: Self-driving cars__\n",
    "- Rule-based: Tell the car the rules for all possible scenarios\n",
    "- Machine Learning: Let the car record the scenery and your reactions, then let it predict the next reaction\n",
    "\n",
    "\n",
    "\n"
   ]
  },
  {
   "cell_type": "markdown",
   "id": "39b83180",
   "metadata": {},
   "source": [
    "### Rule-based systems: examples and limitation\n",
    "\n",
    "- Credit card fraud detection https://fraud.net/d/rules-based-fraud-detection/\n",
    "- Loan application approval  https://www.researchgate.net/publication/220841474_Presenting_a_Rule_Based_Loan_Evaluation_Expert_System\n",
    "- __Problem:__ too many rules. \n",
    "Works only for specific domains with limited, clear rules, e.g. chess\n",
    "\n",
    "### Learning from examples without explicit programming\n",
    "- Self-driving vehicles\n",
    "- Image classification https://www.kaggle.com/competitions/dogs-vs-cats\n",
    "- Language translation\n",
    "    \n",
    "### Resources\n",
    "\n",
    "- __Book__\n",
    "    - https://hastie.su.domains/Papers/ESLII.pdf\n",
    "\n",
    "\n",
    "- __Communities__\n",
    "    - https://www.kdnuggets.com/\n",
    "    - https://www.kaggle.com/\n",
    "\n",
    "\n",
    "- __Key Influencers__\n",
    "    - Andrew Ng\n",
    "    - Yann LeCun\n",
    "\n",
    "### Sci-kit learn\n",
    "- https://scikit-learn.org/stable/"
   ]
  },
  {
   "cell_type": "markdown",
   "id": "c41432ff",
   "metadata": {},
   "source": [
    "### Linear Regression\n",
    "\n",
    "- Supervised learning algorithm\n",
    "\n",
    "- Maps Label _y_ to Features _X_ using a linear expression: $y = c_0 + c_1 x_1 + c_2 x_2 + ... +c_N x_N$\n",
    "\n",
    "- Label _y_ is continuous numerical\n",
    "\n",
    "- Training a linear regression model means computing its coefficients to minimize model error (optimization problem)\n",
    "\n",
    "- Parametric model"
   ]
  },
  {
   "cell_type": "markdown",
   "id": "9e40cf8e",
   "metadata": {},
   "source": [
    "### Libraries"
   ]
  },
  {
   "cell_type": "code",
   "execution_count": 1,
   "id": "eb0689c7",
   "metadata": {},
   "outputs": [],
   "source": [
    "import numpy as np\n",
    "import pandas as pd\n",
    "import matplotlib.pyplot as plt\n",
    "import seaborn as sns\n",
    "\n",
    "from sklearn.linear_model import LinearRegression\n",
    "\n",
    "from sklearn.metrics import r2_score, mean_squared_error\n",
    "from sklearn.model_selection import train_test_split\n",
    "from sklearn.preprocessing import PolynomialFeatures, StandardScaler, MinMaxScaler"
   ]
  },
  {
   "cell_type": "markdown",
   "id": "90f7df7e",
   "metadata": {},
   "source": [
    "### Data\n",
    "\n",
    "#### Import and inspect Boston Housing data\n",
    "- https://archive.ics.uci.edu/ml/machine-learning-databases/housing/\n",
    "\n",
    "#### Data dictionary:\n",
    "\n",
    "        - CRIM     per capita crime rate by town\n",
    "        - ZN       proportion of residential land zoned for lots over 25,000 sq.ft.\n",
    "        - INDUS    proportion of non-retail business acres per town\n",
    "        - CHAS     Charles River dummy variable (= 1 if tract bounds river; 0 otherwise)\n",
    "        - NOX      nitric oxides concentration (parts per 10 million)\n",
    "        - RM       average number of rooms per dwelling\n",
    "        - AGE      proportion of owner-occupied units built prior to 1940\n",
    "        - DIS      weighted distances to five Boston employment centres\n",
    "        - RAD      index of accessibility to radial highways\n",
    "        - TAX      full-value property-tax rate per 10,000 USD\n",
    "        - PTRATIO  pupil-teacher ratio by town\n",
    "        - LSTAT    % lower status of the population\n",
    "        - MEDV     Median value of owner-occupied homes in 1000 USD\n"
   ]
  },
  {
   "cell_type": "code",
   "execution_count": 2,
   "id": "c55077f7",
   "metadata": {},
   "outputs": [],
   "source": [
    "df = pd.read_csv(\"https://github.com/wsko/data_science_academy/raw/main/data/Boston_Housing.csv\")"
   ]
  },
  {
   "cell_type": "code",
   "execution_count": 3,
   "id": "e10e7377",
   "metadata": {},
   "outputs": [
    {
     "data": {
      "text/html": [
       "<div>\n",
       "<style scoped>\n",
       "    .dataframe tbody tr th:only-of-type {\n",
       "        vertical-align: middle;\n",
       "    }\n",
       "\n",
       "    .dataframe tbody tr th {\n",
       "        vertical-align: top;\n",
       "    }\n",
       "\n",
       "    .dataframe thead th {\n",
       "        text-align: right;\n",
       "    }\n",
       "</style>\n",
       "<table border=\"1\" class=\"dataframe\">\n",
       "  <thead>\n",
       "    <tr style=\"text-align: right;\">\n",
       "      <th></th>\n",
       "      <th>CRIM</th>\n",
       "      <th>ZN</th>\n",
       "      <th>INDUS</th>\n",
       "      <th>CHAS</th>\n",
       "      <th>NOX</th>\n",
       "      <th>RM</th>\n",
       "      <th>AGE</th>\n",
       "      <th>DIS</th>\n",
       "      <th>RAD</th>\n",
       "      <th>TAX</th>\n",
       "      <th>PTRATIO</th>\n",
       "      <th>LSTAT</th>\n",
       "      <th>MEDV</th>\n",
       "    </tr>\n",
       "  </thead>\n",
       "  <tbody>\n",
       "    <tr>\n",
       "      <th>0</th>\n",
       "      <td>0.00632</td>\n",
       "      <td>18.0</td>\n",
       "      <td>2.31</td>\n",
       "      <td>0</td>\n",
       "      <td>0.538</td>\n",
       "      <td>6.575</td>\n",
       "      <td>65.2</td>\n",
       "      <td>4.0900</td>\n",
       "      <td>1</td>\n",
       "      <td>296</td>\n",
       "      <td>15.3</td>\n",
       "      <td>4.98</td>\n",
       "      <td>24.0</td>\n",
       "    </tr>\n",
       "    <tr>\n",
       "      <th>1</th>\n",
       "      <td>0.02731</td>\n",
       "      <td>0.0</td>\n",
       "      <td>7.07</td>\n",
       "      <td>0</td>\n",
       "      <td>0.469</td>\n",
       "      <td>6.421</td>\n",
       "      <td>78.9</td>\n",
       "      <td>4.9671</td>\n",
       "      <td>2</td>\n",
       "      <td>242</td>\n",
       "      <td>17.8</td>\n",
       "      <td>9.14</td>\n",
       "      <td>21.6</td>\n",
       "    </tr>\n",
       "    <tr>\n",
       "      <th>2</th>\n",
       "      <td>0.02729</td>\n",
       "      <td>0.0</td>\n",
       "      <td>7.07</td>\n",
       "      <td>0</td>\n",
       "      <td>0.469</td>\n",
       "      <td>7.185</td>\n",
       "      <td>61.1</td>\n",
       "      <td>4.9671</td>\n",
       "      <td>2</td>\n",
       "      <td>242</td>\n",
       "      <td>17.8</td>\n",
       "      <td>4.03</td>\n",
       "      <td>34.7</td>\n",
       "    </tr>\n",
       "    <tr>\n",
       "      <th>3</th>\n",
       "      <td>0.03237</td>\n",
       "      <td>0.0</td>\n",
       "      <td>2.18</td>\n",
       "      <td>0</td>\n",
       "      <td>0.458</td>\n",
       "      <td>6.998</td>\n",
       "      <td>45.8</td>\n",
       "      <td>6.0622</td>\n",
       "      <td>3</td>\n",
       "      <td>222</td>\n",
       "      <td>18.7</td>\n",
       "      <td>2.94</td>\n",
       "      <td>33.4</td>\n",
       "    </tr>\n",
       "    <tr>\n",
       "      <th>4</th>\n",
       "      <td>0.06905</td>\n",
       "      <td>0.0</td>\n",
       "      <td>2.18</td>\n",
       "      <td>0</td>\n",
       "      <td>0.458</td>\n",
       "      <td>7.147</td>\n",
       "      <td>54.2</td>\n",
       "      <td>6.0622</td>\n",
       "      <td>3</td>\n",
       "      <td>222</td>\n",
       "      <td>18.7</td>\n",
       "      <td>5.33</td>\n",
       "      <td>36.2</td>\n",
       "    </tr>\n",
       "  </tbody>\n",
       "</table>\n",
       "</div>"
      ],
      "text/plain": [
       "      CRIM    ZN  INDUS  CHAS    NOX     RM   AGE     DIS  RAD  TAX  PTRATIO  \\\n",
       "0  0.00632  18.0   2.31     0  0.538  6.575  65.2  4.0900    1  296     15.3   \n",
       "1  0.02731   0.0   7.07     0  0.469  6.421  78.9  4.9671    2  242     17.8   \n",
       "2  0.02729   0.0   7.07     0  0.469  7.185  61.1  4.9671    2  242     17.8   \n",
       "3  0.03237   0.0   2.18     0  0.458  6.998  45.8  6.0622    3  222     18.7   \n",
       "4  0.06905   0.0   2.18     0  0.458  7.147  54.2  6.0622    3  222     18.7   \n",
       "\n",
       "   LSTAT  MEDV  \n",
       "0   4.98  24.0  \n",
       "1   9.14  21.6  \n",
       "2   4.03  34.7  \n",
       "3   2.94  33.4  \n",
       "4   5.33  36.2  "
      ]
     },
     "execution_count": 3,
     "metadata": {},
     "output_type": "execute_result"
    }
   ],
   "source": [
    "df.head()"
   ]
  },
  {
   "cell_type": "code",
   "execution_count": 4,
   "id": "6e3e91ee",
   "metadata": {},
   "outputs": [
    {
     "name": "stdout",
     "output_type": "stream",
     "text": [
      "<class 'pandas.core.frame.DataFrame'>\n",
      "RangeIndex: 506 entries, 0 to 505\n",
      "Data columns (total 13 columns):\n",
      " #   Column   Non-Null Count  Dtype  \n",
      "---  ------   --------------  -----  \n",
      " 0   CRIM     506 non-null    float64\n",
      " 1   ZN       506 non-null    float64\n",
      " 2   INDUS    506 non-null    float64\n",
      " 3   CHAS     506 non-null    int64  \n",
      " 4   NOX      506 non-null    float64\n",
      " 5   RM       506 non-null    float64\n",
      " 6   AGE      506 non-null    float64\n",
      " 7   DIS      506 non-null    float64\n",
      " 8   RAD      506 non-null    int64  \n",
      " 9   TAX      506 non-null    int64  \n",
      " 10  PTRATIO  506 non-null    float64\n",
      " 11  LSTAT    506 non-null    float64\n",
      " 12  MEDV     506 non-null    float64\n",
      "dtypes: float64(10), int64(3)\n",
      "memory usage: 51.5 KB\n"
     ]
    }
   ],
   "source": [
    "df.info()"
   ]
  },
  {
   "cell_type": "code",
   "execution_count": 5,
   "id": "17817171",
   "metadata": {},
   "outputs": [
    {
     "data": {
      "text/html": [
       "<div>\n",
       "<style scoped>\n",
       "    .dataframe tbody tr th:only-of-type {\n",
       "        vertical-align: middle;\n",
       "    }\n",
       "\n",
       "    .dataframe tbody tr th {\n",
       "        vertical-align: top;\n",
       "    }\n",
       "\n",
       "    .dataframe thead th {\n",
       "        text-align: right;\n",
       "    }\n",
       "</style>\n",
       "<table border=\"1\" class=\"dataframe\">\n",
       "  <thead>\n",
       "    <tr style=\"text-align: right;\">\n",
       "      <th></th>\n",
       "      <th>CRIM</th>\n",
       "      <th>ZN</th>\n",
       "      <th>INDUS</th>\n",
       "      <th>CHAS</th>\n",
       "      <th>NOX</th>\n",
       "      <th>RM</th>\n",
       "      <th>AGE</th>\n",
       "      <th>DIS</th>\n",
       "      <th>RAD</th>\n",
       "      <th>TAX</th>\n",
       "      <th>PTRATIO</th>\n",
       "      <th>LSTAT</th>\n",
       "      <th>MEDV</th>\n",
       "    </tr>\n",
       "  </thead>\n",
       "  <tbody>\n",
       "    <tr>\n",
       "      <th>count</th>\n",
       "      <td>506.000000</td>\n",
       "      <td>506.000000</td>\n",
       "      <td>506.000000</td>\n",
       "      <td>506.000000</td>\n",
       "      <td>506.000000</td>\n",
       "      <td>506.000000</td>\n",
       "      <td>506.000000</td>\n",
       "      <td>506.000000</td>\n",
       "      <td>506.000000</td>\n",
       "      <td>506.000000</td>\n",
       "      <td>506.000000</td>\n",
       "      <td>506.000000</td>\n",
       "      <td>506.000000</td>\n",
       "    </tr>\n",
       "    <tr>\n",
       "      <th>mean</th>\n",
       "      <td>3.613524</td>\n",
       "      <td>11.363636</td>\n",
       "      <td>11.136779</td>\n",
       "      <td>0.069170</td>\n",
       "      <td>0.554695</td>\n",
       "      <td>6.284634</td>\n",
       "      <td>68.574901</td>\n",
       "      <td>3.795043</td>\n",
       "      <td>9.549407</td>\n",
       "      <td>408.237154</td>\n",
       "      <td>18.455534</td>\n",
       "      <td>12.653063</td>\n",
       "      <td>22.532806</td>\n",
       "    </tr>\n",
       "    <tr>\n",
       "      <th>std</th>\n",
       "      <td>8.601545</td>\n",
       "      <td>23.322453</td>\n",
       "      <td>6.860353</td>\n",
       "      <td>0.253994</td>\n",
       "      <td>0.115878</td>\n",
       "      <td>0.702617</td>\n",
       "      <td>28.148861</td>\n",
       "      <td>2.105710</td>\n",
       "      <td>8.707259</td>\n",
       "      <td>168.537116</td>\n",
       "      <td>2.164946</td>\n",
       "      <td>7.141062</td>\n",
       "      <td>9.197104</td>\n",
       "    </tr>\n",
       "    <tr>\n",
       "      <th>min</th>\n",
       "      <td>0.006320</td>\n",
       "      <td>0.000000</td>\n",
       "      <td>0.460000</td>\n",
       "      <td>0.000000</td>\n",
       "      <td>0.385000</td>\n",
       "      <td>3.561000</td>\n",
       "      <td>2.900000</td>\n",
       "      <td>1.129600</td>\n",
       "      <td>1.000000</td>\n",
       "      <td>187.000000</td>\n",
       "      <td>12.600000</td>\n",
       "      <td>1.730000</td>\n",
       "      <td>5.000000</td>\n",
       "    </tr>\n",
       "    <tr>\n",
       "      <th>25%</th>\n",
       "      <td>0.082045</td>\n",
       "      <td>0.000000</td>\n",
       "      <td>5.190000</td>\n",
       "      <td>0.000000</td>\n",
       "      <td>0.449000</td>\n",
       "      <td>5.885500</td>\n",
       "      <td>45.025000</td>\n",
       "      <td>2.100175</td>\n",
       "      <td>4.000000</td>\n",
       "      <td>279.000000</td>\n",
       "      <td>17.400000</td>\n",
       "      <td>6.950000</td>\n",
       "      <td>17.025000</td>\n",
       "    </tr>\n",
       "    <tr>\n",
       "      <th>50%</th>\n",
       "      <td>0.256510</td>\n",
       "      <td>0.000000</td>\n",
       "      <td>9.690000</td>\n",
       "      <td>0.000000</td>\n",
       "      <td>0.538000</td>\n",
       "      <td>6.208500</td>\n",
       "      <td>77.500000</td>\n",
       "      <td>3.207450</td>\n",
       "      <td>5.000000</td>\n",
       "      <td>330.000000</td>\n",
       "      <td>19.050000</td>\n",
       "      <td>11.360000</td>\n",
       "      <td>21.200000</td>\n",
       "    </tr>\n",
       "    <tr>\n",
       "      <th>75%</th>\n",
       "      <td>3.677083</td>\n",
       "      <td>12.500000</td>\n",
       "      <td>18.100000</td>\n",
       "      <td>0.000000</td>\n",
       "      <td>0.624000</td>\n",
       "      <td>6.623500</td>\n",
       "      <td>94.075000</td>\n",
       "      <td>5.188425</td>\n",
       "      <td>24.000000</td>\n",
       "      <td>666.000000</td>\n",
       "      <td>20.200000</td>\n",
       "      <td>16.955000</td>\n",
       "      <td>25.000000</td>\n",
       "    </tr>\n",
       "    <tr>\n",
       "      <th>max</th>\n",
       "      <td>88.976200</td>\n",
       "      <td>100.000000</td>\n",
       "      <td>27.740000</td>\n",
       "      <td>1.000000</td>\n",
       "      <td>0.871000</td>\n",
       "      <td>8.780000</td>\n",
       "      <td>100.000000</td>\n",
       "      <td>12.126500</td>\n",
       "      <td>24.000000</td>\n",
       "      <td>711.000000</td>\n",
       "      <td>22.000000</td>\n",
       "      <td>37.970000</td>\n",
       "      <td>50.000000</td>\n",
       "    </tr>\n",
       "  </tbody>\n",
       "</table>\n",
       "</div>"
      ],
      "text/plain": [
       "             CRIM          ZN       INDUS        CHAS         NOX          RM  \\\n",
       "count  506.000000  506.000000  506.000000  506.000000  506.000000  506.000000   \n",
       "mean     3.613524   11.363636   11.136779    0.069170    0.554695    6.284634   \n",
       "std      8.601545   23.322453    6.860353    0.253994    0.115878    0.702617   \n",
       "min      0.006320    0.000000    0.460000    0.000000    0.385000    3.561000   \n",
       "25%      0.082045    0.000000    5.190000    0.000000    0.449000    5.885500   \n",
       "50%      0.256510    0.000000    9.690000    0.000000    0.538000    6.208500   \n",
       "75%      3.677083   12.500000   18.100000    0.000000    0.624000    6.623500   \n",
       "max     88.976200  100.000000   27.740000    1.000000    0.871000    8.780000   \n",
       "\n",
       "              AGE         DIS         RAD         TAX     PTRATIO       LSTAT  \\\n",
       "count  506.000000  506.000000  506.000000  506.000000  506.000000  506.000000   \n",
       "mean    68.574901    3.795043    9.549407  408.237154   18.455534   12.653063   \n",
       "std     28.148861    2.105710    8.707259  168.537116    2.164946    7.141062   \n",
       "min      2.900000    1.129600    1.000000  187.000000   12.600000    1.730000   \n",
       "25%     45.025000    2.100175    4.000000  279.000000   17.400000    6.950000   \n",
       "50%     77.500000    3.207450    5.000000  330.000000   19.050000   11.360000   \n",
       "75%     94.075000    5.188425   24.000000  666.000000   20.200000   16.955000   \n",
       "max    100.000000   12.126500   24.000000  711.000000   22.000000   37.970000   \n",
       "\n",
       "             MEDV  \n",
       "count  506.000000  \n",
       "mean    22.532806  \n",
       "std      9.197104  \n",
       "min      5.000000  \n",
       "25%     17.025000  \n",
       "50%     21.200000  \n",
       "75%     25.000000  \n",
       "max     50.000000  "
      ]
     },
     "execution_count": 5,
     "metadata": {},
     "output_type": "execute_result"
    }
   ],
   "source": [
    "df.describe()"
   ]
  },
  {
   "cell_type": "code",
   "execution_count": 6,
   "id": "abb23c76",
   "metadata": {},
   "outputs": [],
   "source": [
    "## sns.pairplot(data = df)\n",
    "## sns.heatmap(abs(df.corr()))"
   ]
  },
  {
   "cell_type": "markdown",
   "id": "4bbd7d90",
   "metadata": {},
   "source": [
    "### Create Feature and Label arrays\n",
    "\n",
    "- Note that sklearn requires data in a form of a numerical (NumPy) arrays:\n",
    "    - Label array (1d)\n",
    "    - Features array (2d)"
   ]
  },
  {
   "cell_type": "code",
   "execution_count": 7,
   "id": "bea33acd",
   "metadata": {},
   "outputs": [],
   "source": [
    "## Label is the column which we are trying to predict\n",
    "label_col = 'MEDV'\n",
    "y = df[label_col].values"
   ]
  },
  {
   "cell_type": "code",
   "execution_count": 8,
   "id": "180c448a",
   "metadata": {},
   "outputs": [
    {
     "name": "stdout",
     "output_type": "stream",
     "text": [
      "['CRIM', 'ZN', 'INDUS', 'CHAS', 'NOX', 'RM', 'AGE', 'DIS', 'RAD', 'TAX', 'PTRATIO', 'LSTAT']\n"
     ]
    }
   ],
   "source": [
    "## Features are the predictor columns\n",
    "\n",
    "feature_names = list(df.columns) ## note that we can leave some of the columns out of the feature set\n",
    "feature_names.remove(label_col)\n",
    "print(feature_names)"
   ]
  },
  {
   "cell_type": "code",
   "execution_count": 9,
   "id": "7e30c349",
   "metadata": {},
   "outputs": [
    {
     "name": "stdout",
     "output_type": "stream",
     "text": [
      "(506, 12) (506,)\n"
     ]
    },
    {
     "data": {
      "text/plain": [
       "numpy.ndarray"
      ]
     },
     "execution_count": 9,
     "metadata": {},
     "output_type": "execute_result"
    }
   ],
   "source": [
    "X = df[feature_names].values\n",
    "\n",
    "print(X.shape, y.shape)\n",
    "\n",
    "type(X)"
   ]
  },
  {
   "cell_type": "markdown",
   "id": "d382ec2c",
   "metadata": {},
   "source": [
    "### Train a Linear Regression model"
   ]
  },
  {
   "cell_type": "code",
   "execution_count": 10,
   "id": "42d10d10",
   "metadata": {},
   "outputs": [],
   "source": [
    "### create an empty linear regression model as a Python object\n",
    "\n",
    "lrm = LinearRegression()"
   ]
  },
  {
   "cell_type": "code",
   "execution_count": 11,
   "id": "ef67a780",
   "metadata": {},
   "outputs": [
    {
     "data": {
      "text/plain": [
       "LinearRegression()"
      ]
     },
     "execution_count": 11,
     "metadata": {},
     "output_type": "execute_result"
    }
   ],
   "source": [
    "### use .fit() method to train the model on X and y. Note that .fit() is executed in-place\n",
    "\n",
    "lrm.fit(X, y)"
   ]
  },
  {
   "cell_type": "code",
   "execution_count": 12,
   "id": "03a459ec",
   "metadata": {},
   "outputs": [
    {
     "data": {
      "text/plain": [
       "array([-1.21388618e-01,  4.69634633e-02,  1.34676947e-02,  2.83999338e+00,\n",
       "       -1.87580220e+01,  3.65811904e+00,  3.61071055e-03, -1.49075365e+00,\n",
       "        2.89404521e-01, -1.26819813e-02, -9.37532900e-01, -5.52019101e-01])"
      ]
     },
     "execution_count": 12,
     "metadata": {},
     "output_type": "execute_result"
    }
   ],
   "source": [
    "## display model coefficients\n",
    "lrm.coef_"
   ]
  },
  {
   "cell_type": "code",
   "execution_count": 13,
   "id": "2c404a52",
   "metadata": {},
   "outputs": [
    {
     "data": {
      "text/plain": [
       "41.61727017595486"
      ]
     },
     "execution_count": 13,
     "metadata": {},
     "output_type": "execute_result"
    }
   ],
   "source": [
    "lrm.intercept_"
   ]
  },
  {
   "cell_type": "markdown",
   "id": "fc6a0b57",
   "metadata": {},
   "source": [
    "#### Model Interpretation\n",
    "\n",
    "- What is the meaning of each coefficient (a.k.a \"slope\")"
   ]
  },
  {
   "cell_type": "code",
   "execution_count": 14,
   "id": "c626ef2f",
   "metadata": {},
   "outputs": [
    {
     "data": {
      "text/html": [
       "<div>\n",
       "<style scoped>\n",
       "    .dataframe tbody tr th:only-of-type {\n",
       "        vertical-align: middle;\n",
       "    }\n",
       "\n",
       "    .dataframe tbody tr th {\n",
       "        vertical-align: top;\n",
       "    }\n",
       "\n",
       "    .dataframe thead th {\n",
       "        text-align: right;\n",
       "    }\n",
       "</style>\n",
       "<table border=\"1\" class=\"dataframe\">\n",
       "  <thead>\n",
       "    <tr style=\"text-align: right;\">\n",
       "      <th></th>\n",
       "      <th>Feature</th>\n",
       "      <th>Coef</th>\n",
       "      <th>Min</th>\n",
       "      <th>Max</th>\n",
       "    </tr>\n",
       "  </thead>\n",
       "  <tbody>\n",
       "    <tr>\n",
       "      <th>0</th>\n",
       "      <td>CRIM</td>\n",
       "      <td>-0.121389</td>\n",
       "      <td>0.00632</td>\n",
       "      <td>88.9762</td>\n",
       "    </tr>\n",
       "    <tr>\n",
       "      <th>1</th>\n",
       "      <td>ZN</td>\n",
       "      <td>0.046963</td>\n",
       "      <td>0.00000</td>\n",
       "      <td>100.0000</td>\n",
       "    </tr>\n",
       "    <tr>\n",
       "      <th>2</th>\n",
       "      <td>INDUS</td>\n",
       "      <td>0.013468</td>\n",
       "      <td>0.46000</td>\n",
       "      <td>27.7400</td>\n",
       "    </tr>\n",
       "    <tr>\n",
       "      <th>3</th>\n",
       "      <td>CHAS</td>\n",
       "      <td>2.839993</td>\n",
       "      <td>0.00000</td>\n",
       "      <td>1.0000</td>\n",
       "    </tr>\n",
       "    <tr>\n",
       "      <th>4</th>\n",
       "      <td>NOX</td>\n",
       "      <td>-18.758022</td>\n",
       "      <td>0.38500</td>\n",
       "      <td>0.8710</td>\n",
       "    </tr>\n",
       "    <tr>\n",
       "      <th>5</th>\n",
       "      <td>RM</td>\n",
       "      <td>3.658119</td>\n",
       "      <td>3.56100</td>\n",
       "      <td>8.7800</td>\n",
       "    </tr>\n",
       "    <tr>\n",
       "      <th>6</th>\n",
       "      <td>AGE</td>\n",
       "      <td>0.003611</td>\n",
       "      <td>2.90000</td>\n",
       "      <td>100.0000</td>\n",
       "    </tr>\n",
       "    <tr>\n",
       "      <th>7</th>\n",
       "      <td>DIS</td>\n",
       "      <td>-1.490754</td>\n",
       "      <td>1.12960</td>\n",
       "      <td>12.1265</td>\n",
       "    </tr>\n",
       "    <tr>\n",
       "      <th>8</th>\n",
       "      <td>RAD</td>\n",
       "      <td>0.289405</td>\n",
       "      <td>1.00000</td>\n",
       "      <td>24.0000</td>\n",
       "    </tr>\n",
       "    <tr>\n",
       "      <th>9</th>\n",
       "      <td>TAX</td>\n",
       "      <td>-0.012682</td>\n",
       "      <td>187.00000</td>\n",
       "      <td>711.0000</td>\n",
       "    </tr>\n",
       "    <tr>\n",
       "      <th>10</th>\n",
       "      <td>PTRATIO</td>\n",
       "      <td>-0.937533</td>\n",
       "      <td>12.60000</td>\n",
       "      <td>22.0000</td>\n",
       "    </tr>\n",
       "    <tr>\n",
       "      <th>11</th>\n",
       "      <td>LSTAT</td>\n",
       "      <td>-0.552019</td>\n",
       "      <td>1.73000</td>\n",
       "      <td>37.9700</td>\n",
       "    </tr>\n",
       "  </tbody>\n",
       "</table>\n",
       "</div>"
      ],
      "text/plain": [
       "    Feature       Coef        Min       Max\n",
       "0      CRIM  -0.121389    0.00632   88.9762\n",
       "1        ZN   0.046963    0.00000  100.0000\n",
       "2     INDUS   0.013468    0.46000   27.7400\n",
       "3      CHAS   2.839993    0.00000    1.0000\n",
       "4       NOX -18.758022    0.38500    0.8710\n",
       "5        RM   3.658119    3.56100    8.7800\n",
       "6       AGE   0.003611    2.90000  100.0000\n",
       "7       DIS  -1.490754    1.12960   12.1265\n",
       "8       RAD   0.289405    1.00000   24.0000\n",
       "9       TAX  -0.012682  187.00000  711.0000\n",
       "10  PTRATIO  -0.937533   12.60000   22.0000\n",
       "11    LSTAT  -0.552019    1.73000   37.9700"
      ]
     },
     "execution_count": 14,
     "metadata": {},
     "output_type": "execute_result"
    }
   ],
   "source": [
    "model_interpretation = pd.DataFrame({'Feature': feature_names, 'Coef':lrm.coef_, \n",
    "                                     'Min' : X.min(axis = 0), 'Max': X.max(axis = 0)})\n",
    "model_interpretation"
   ]
  },
  {
   "cell_type": "markdown",
   "id": "5a289447",
   "metadata": {},
   "source": [
    "#### Feature Scaling\n",
    "\n",
    "- Model coefficients represent the magnitude of the dependency between the features `X` and the label `y`\n",
    "- The magnitude of each coefficient also depends on the scale of the feature. Example: the coefficient for `DIS`  would be 1000x greater if the feature was expressed in meters than if it was in kilometers. The coefficient for `TAX` would be 10000x greater if `TAX` was expressed in dollars\n",
    "- Feature scaling to a common range (e.g., 0 ...1) is a common step in ML data prep (see: https://scikit-learn.org/stable/modules/generated/sklearn.preprocessing.MinMaxScaler.html)\n",
    "- Alternatively, features can be \"standardized\" (we will talk more about standardization)"
   ]
  },
  {
   "cell_type": "code",
   "execution_count": 15,
   "id": "9e391ad6",
   "metadata": {},
   "outputs": [],
   "source": [
    "scale = MinMaxScaler() ##create a scaler object\n",
    "scale.fit(X) ## fit the scaler, i.e., determine the min, max and ranges of the features\n",
    "X = scale.transform(X) ## apply the transformation to our feature set X\n",
    "## Note: you don't need to scale the label y"
   ]
  },
  {
   "cell_type": "markdown",
   "id": "bfe43a7c",
   "metadata": {},
   "source": [
    "#### Retrain the model using scaled features:"
   ]
  },
  {
   "cell_type": "code",
   "execution_count": 16,
   "id": "5c748c29",
   "metadata": {},
   "outputs": [
    {
     "data": {
      "text/html": [
       "<div>\n",
       "<style scoped>\n",
       "    .dataframe tbody tr th:only-of-type {\n",
       "        vertical-align: middle;\n",
       "    }\n",
       "\n",
       "    .dataframe tbody tr th {\n",
       "        vertical-align: top;\n",
       "    }\n",
       "\n",
       "    .dataframe thead th {\n",
       "        text-align: right;\n",
       "    }\n",
       "</style>\n",
       "<table border=\"1\" class=\"dataframe\">\n",
       "  <thead>\n",
       "    <tr style=\"text-align: right;\">\n",
       "      <th></th>\n",
       "      <th>Feature</th>\n",
       "      <th>Coef</th>\n",
       "      <th>Min</th>\n",
       "      <th>Max</th>\n",
       "    </tr>\n",
       "  </thead>\n",
       "  <tbody>\n",
       "    <tr>\n",
       "      <th>0</th>\n",
       "      <td>CRIM</td>\n",
       "      <td>-10.799931</td>\n",
       "      <td>0.0</td>\n",
       "      <td>1.0</td>\n",
       "    </tr>\n",
       "    <tr>\n",
       "      <th>1</th>\n",
       "      <td>ZN</td>\n",
       "      <td>4.696346</td>\n",
       "      <td>0.0</td>\n",
       "      <td>1.0</td>\n",
       "    </tr>\n",
       "    <tr>\n",
       "      <th>2</th>\n",
       "      <td>INDUS</td>\n",
       "      <td>0.367399</td>\n",
       "      <td>0.0</td>\n",
       "      <td>1.0</td>\n",
       "    </tr>\n",
       "    <tr>\n",
       "      <th>3</th>\n",
       "      <td>CHAS</td>\n",
       "      <td>2.839993</td>\n",
       "      <td>0.0</td>\n",
       "      <td>1.0</td>\n",
       "    </tr>\n",
       "    <tr>\n",
       "      <th>4</th>\n",
       "      <td>NOX</td>\n",
       "      <td>-9.116399</td>\n",
       "      <td>0.0</td>\n",
       "      <td>1.0</td>\n",
       "    </tr>\n",
       "    <tr>\n",
       "      <th>5</th>\n",
       "      <td>RM</td>\n",
       "      <td>19.091723</td>\n",
       "      <td>0.0</td>\n",
       "      <td>1.0</td>\n",
       "    </tr>\n",
       "    <tr>\n",
       "      <th>6</th>\n",
       "      <td>AGE</td>\n",
       "      <td>0.350600</td>\n",
       "      <td>0.0</td>\n",
       "      <td>1.0</td>\n",
       "    </tr>\n",
       "    <tr>\n",
       "      <th>7</th>\n",
       "      <td>DIS</td>\n",
       "      <td>-16.393669</td>\n",
       "      <td>0.0</td>\n",
       "      <td>1.0</td>\n",
       "    </tr>\n",
       "    <tr>\n",
       "      <th>8</th>\n",
       "      <td>RAD</td>\n",
       "      <td>6.656304</td>\n",
       "      <td>0.0</td>\n",
       "      <td>1.0</td>\n",
       "    </tr>\n",
       "    <tr>\n",
       "      <th>9</th>\n",
       "      <td>TAX</td>\n",
       "      <td>-6.645358</td>\n",
       "      <td>0.0</td>\n",
       "      <td>1.0</td>\n",
       "    </tr>\n",
       "    <tr>\n",
       "      <th>10</th>\n",
       "      <td>PTRATIO</td>\n",
       "      <td>-8.812809</td>\n",
       "      <td>0.0</td>\n",
       "      <td>1.0</td>\n",
       "    </tr>\n",
       "    <tr>\n",
       "      <th>11</th>\n",
       "      <td>LSTAT</td>\n",
       "      <td>-20.005172</td>\n",
       "      <td>0.0</td>\n",
       "      <td>1.0</td>\n",
       "    </tr>\n",
       "  </tbody>\n",
       "</table>\n",
       "</div>"
      ],
      "text/plain": [
       "    Feature       Coef  Min  Max\n",
       "0      CRIM -10.799931  0.0  1.0\n",
       "1        ZN   4.696346  0.0  1.0\n",
       "2     INDUS   0.367399  0.0  1.0\n",
       "3      CHAS   2.839993  0.0  1.0\n",
       "4       NOX  -9.116399  0.0  1.0\n",
       "5        RM  19.091723  0.0  1.0\n",
       "6       AGE   0.350600  0.0  1.0\n",
       "7       DIS -16.393669  0.0  1.0\n",
       "8       RAD   6.656304  0.0  1.0\n",
       "9       TAX  -6.645358  0.0  1.0\n",
       "10  PTRATIO  -8.812809  0.0  1.0\n",
       "11    LSTAT -20.005172  0.0  1.0"
      ]
     },
     "execution_count": 16,
     "metadata": {},
     "output_type": "execute_result"
    }
   ],
   "source": [
    "lrm = LinearRegression()\n",
    "lrm.fit(X, y)\n",
    "model_interpretation_scaled = pd.DataFrame({'Feature': feature_names, 'Coef':lrm.coef_, \n",
    "                                     'Min' : X.min(axis = 0), 'Max': X.max(axis = 0)})\n",
    "model_interpretation_scaled"
   ]
  },
  {
   "cell_type": "code",
   "execution_count": 17,
   "id": "132f150d",
   "metadata": {},
   "outputs": [
    {
     "data": {
      "text/html": [
       "<div>\n",
       "<style scoped>\n",
       "    .dataframe tbody tr th:only-of-type {\n",
       "        vertical-align: middle;\n",
       "    }\n",
       "\n",
       "    .dataframe tbody tr th {\n",
       "        vertical-align: top;\n",
       "    }\n",
       "\n",
       "    .dataframe thead th {\n",
       "        text-align: right;\n",
       "    }\n",
       "</style>\n",
       "<table border=\"1\" class=\"dataframe\">\n",
       "  <thead>\n",
       "    <tr style=\"text-align: right;\">\n",
       "      <th></th>\n",
       "      <th>Feature</th>\n",
       "      <th>Coef</th>\n",
       "      <th>Min</th>\n",
       "      <th>Max</th>\n",
       "    </tr>\n",
       "  </thead>\n",
       "  <tbody>\n",
       "    <tr>\n",
       "      <th>0</th>\n",
       "      <td>CRIM</td>\n",
       "      <td>-10.799931</td>\n",
       "      <td>0.0</td>\n",
       "      <td>1.0</td>\n",
       "    </tr>\n",
       "    <tr>\n",
       "      <th>1</th>\n",
       "      <td>ZN</td>\n",
       "      <td>4.696346</td>\n",
       "      <td>0.0</td>\n",
       "      <td>1.0</td>\n",
       "    </tr>\n",
       "    <tr>\n",
       "      <th>2</th>\n",
       "      <td>INDUS</td>\n",
       "      <td>0.367399</td>\n",
       "      <td>0.0</td>\n",
       "      <td>1.0</td>\n",
       "    </tr>\n",
       "    <tr>\n",
       "      <th>3</th>\n",
       "      <td>CHAS</td>\n",
       "      <td>2.839993</td>\n",
       "      <td>0.0</td>\n",
       "      <td>1.0</td>\n",
       "    </tr>\n",
       "    <tr>\n",
       "      <th>4</th>\n",
       "      <td>NOX</td>\n",
       "      <td>-9.116399</td>\n",
       "      <td>0.0</td>\n",
       "      <td>1.0</td>\n",
       "    </tr>\n",
       "    <tr>\n",
       "      <th>5</th>\n",
       "      <td>RM</td>\n",
       "      <td>19.091723</td>\n",
       "      <td>0.0</td>\n",
       "      <td>1.0</td>\n",
       "    </tr>\n",
       "    <tr>\n",
       "      <th>6</th>\n",
       "      <td>AGE</td>\n",
       "      <td>0.350600</td>\n",
       "      <td>0.0</td>\n",
       "      <td>1.0</td>\n",
       "    </tr>\n",
       "    <tr>\n",
       "      <th>7</th>\n",
       "      <td>DIS</td>\n",
       "      <td>-16.393669</td>\n",
       "      <td>0.0</td>\n",
       "      <td>1.0</td>\n",
       "    </tr>\n",
       "    <tr>\n",
       "      <th>8</th>\n",
       "      <td>RAD</td>\n",
       "      <td>6.656304</td>\n",
       "      <td>0.0</td>\n",
       "      <td>1.0</td>\n",
       "    </tr>\n",
       "    <tr>\n",
       "      <th>9</th>\n",
       "      <td>TAX</td>\n",
       "      <td>-6.645358</td>\n",
       "      <td>0.0</td>\n",
       "      <td>1.0</td>\n",
       "    </tr>\n",
       "    <tr>\n",
       "      <th>10</th>\n",
       "      <td>PTRATIO</td>\n",
       "      <td>-8.812809</td>\n",
       "      <td>0.0</td>\n",
       "      <td>1.0</td>\n",
       "    </tr>\n",
       "    <tr>\n",
       "      <th>11</th>\n",
       "      <td>LSTAT</td>\n",
       "      <td>-20.005172</td>\n",
       "      <td>0.0</td>\n",
       "      <td>1.0</td>\n",
       "    </tr>\n",
       "  </tbody>\n",
       "</table>\n",
       "</div>"
      ],
      "text/plain": [
       "    Feature       Coef  Min  Max\n",
       "0      CRIM -10.799931  0.0  1.0\n",
       "1        ZN   4.696346  0.0  1.0\n",
       "2     INDUS   0.367399  0.0  1.0\n",
       "3      CHAS   2.839993  0.0  1.0\n",
       "4       NOX  -9.116399  0.0  1.0\n",
       "5        RM  19.091723  0.0  1.0\n",
       "6       AGE   0.350600  0.0  1.0\n",
       "7       DIS -16.393669  0.0  1.0\n",
       "8       RAD   6.656304  0.0  1.0\n",
       "9       TAX  -6.645358  0.0  1.0\n",
       "10  PTRATIO  -8.812809  0.0  1.0\n",
       "11    LSTAT -20.005172  0.0  1.0"
      ]
     },
     "execution_count": 17,
     "metadata": {},
     "output_type": "execute_result"
    }
   ],
   "source": [
    "model_interpretation_scaled ##.sort_values('Coef')"
   ]
  },
  {
   "cell_type": "code",
   "execution_count": 18,
   "id": "ac97d9f0",
   "metadata": {
    "scrolled": true
   },
   "outputs": [
    {
     "data": {
      "image/png": "[encoded data removed]",
      "text/plain": [
       "<Figure size 640x480 with 1 Axes>"
      ]
     },
     "metadata": {},
     "output_type": "display_data"
    }
   ],
   "source": [
    "ax = sns.barplot(x = 'Feature', y = 'Coef', data = model_interpretation_scaled.sort_values('Coef'), color = 'blue')\n",
    "ax.set_xticklabels(ax.get_xticklabels(), rotation=45)\n",
    "plt.show()"
   ]
  },
  {
   "cell_type": "markdown",
   "id": "a2d4ecb1",
   "metadata": {},
   "source": [
    "### Model Scoring\n",
    "\n",
    "- How good is our predictive model?\n",
    "- Compare known and predicted values of the label `y` vs `y_pred`\n",
    "\n",
    "#### Mean Squared Error and R-squared"
   ]
  },
  {
   "cell_type": "code",
   "execution_count": 19,
   "id": "5a1d1ee8",
   "metadata": {},
   "outputs": [
    {
     "data": {
      "text/plain": [
       "22.429681439489926"
      ]
     },
     "execution_count": 19,
     "metadata": {},
     "output_type": "execute_result"
    }
   ],
   "source": [
    "mean_squared_error(y, lrm.predict(X))"
   ]
  },
  {
   "cell_type": "markdown",
   "id": "37702eae",
   "metadata": {},
   "source": [
    "- MSE is a mean squared difference between the known and predicted values of `y`"
   ]
  },
  {
   "cell_type": "code",
   "execution_count": 20,
   "id": "03e86387",
   "metadata": {},
   "outputs": [
    {
     "data": {
      "image/png": "[encoded data removed]",
      "text/plain": [
       "<Figure size 640x480 with 1 Axes>"
      ]
     },
     "metadata": {},
     "output_type": "display_data"
    }
   ],
   "source": [
    "feat = 0 ## try 5\n",
    "ax = sns.scatterplot(x = X[:,feat], y = y, label = 'known y')\n",
    "ax = sns.scatterplot(x = X[:,feat], y = lrm.predict(X), color = 'red', alpha = 0.2, label = 'predicted y')\n",
    "ax.set_xlabel(feature_names[feat])\n",
    "ax.set_ylabel('house_value')\n",
    "ax.legend()\n",
    "plt.show()"
   ]
  },
  {
   "cell_type": "code",
   "execution_count": 21,
   "id": "240caa2e",
   "metadata": {},
   "outputs": [
    {
     "data": {
      "text/plain": [
       "0.7343070437613076"
      ]
     },
     "execution_count": 21,
     "metadata": {},
     "output_type": "execute_result"
    }
   ],
   "source": [
    "r2_score(y, lrm.predict(X))"
   ]
  },
  {
   "cell_type": "markdown",
   "id": "5d030d39",
   "metadata": {},
   "source": [
    "- R squared is 1 minus the ratio of MSE/Total Variance: https://miro.medium.com/v2/resize:fit:828/format:webp/1*_mVvAFVEGinHlijmmeWwzg.png\n",
    "\n",
    "- If MSE is the same as Total Variance, R squared is 0. If MSE is 0 then R squared is 1"
   ]
  },
  {
   "cell_type": "markdown",
   "id": "d3bfa378",
   "metadata": {},
   "source": [
    "##### what happens to model scores if we use fewer features?"
   ]
  },
  {
   "cell_type": "code",
   "execution_count": 22,
   "id": "077f9591",
   "metadata": {},
   "outputs": [
    {
     "data": {
      "text/plain": [
       "Index(['INDUS', 'CHAS', 'AGE'], dtype='object')"
      ]
     },
     "execution_count": 22,
     "metadata": {},
     "output_type": "execute_result"
    }
   ],
   "source": [
    "features_subset = [2, 3, 6] ## select 3 out of 12 features\n",
    "df.columns[features_subset]"
   ]
  },
  {
   "cell_type": "code",
   "execution_count": 23,
   "id": "1714205f",
   "metadata": {},
   "outputs": [
    {
     "data": {
      "text/plain": [
       "60.27397911824503"
      ]
     },
     "execution_count": 23,
     "metadata": {},
     "output_type": "execute_result"
    }
   ],
   "source": [
    "lrm1 = LinearRegression()\n",
    "lrm1.fit(X[:,features_subset], y)\n",
    "mean_squared_error(y, lrm1.predict(X[:, features_subset]))"
   ]
  },
  {
   "cell_type": "code",
   "execution_count": 24,
   "id": "0a04bcc2",
   "metadata": {},
   "outputs": [
    {
     "data": {
      "text/plain": [
       "0.2860187631554736"
      ]
     },
     "execution_count": 24,
     "metadata": {},
     "output_type": "execute_result"
    }
   ],
   "source": [
    "r2_score(y, lrm1.predict(X[:, features_subset]))"
   ]
  },
  {
   "cell_type": "markdown",
   "id": "d96f80d9",
   "metadata": {},
   "source": [
    "#### MSE and R squared in depth\n",
    "##### Residuals and Total Variance\n",
    "\n",
    "- https://miro.medium.com/v2/resize:fit:828/format:webp/1*_mVvAFVEGinHlijmmeWwzg.png\n"
   ]
  },
  {
   "cell_type": "code",
   "execution_count": 25,
   "id": "67cb9e6c",
   "metadata": {},
   "outputs": [
    {
     "data": {
      "text/plain": [
       "22.429681439489926"
      ]
     },
     "execution_count": 25,
     "metadata": {},
     "output_type": "execute_result"
    }
   ],
   "source": [
    "mean_squared_error(y, lrm.predict(X))"
   ]
  },
  {
   "cell_type": "code",
   "execution_count": 26,
   "id": "2a996f09",
   "metadata": {},
   "outputs": [
    {
     "data": {
      "text/plain": [
       "22.429681439489926"
      ]
     },
     "execution_count": 26,
     "metadata": {},
     "output_type": "execute_result"
    }
   ],
   "source": [
    "## Compute MSE explicitly\n",
    "\n",
    "(((y - lrm.predict(X))**2).sum())/len(y) ### mean squares of the differences between predicted and actual y \n",
    "\n",
    "### MSE is variance with respect to the model\n",
    "### i.e. variance not explained by the model or resudual variance"
   ]
  },
  {
   "cell_type": "code",
   "execution_count": 27,
   "id": "25638c97",
   "metadata": {
    "scrolled": true
   },
   "outputs": [
    {
     "data": {
      "image/png": "[encoded data removed]",
      "text/plain": [
       "<Figure size 696.125x500 with 1 Axes>"
      ]
     },
     "metadata": {},
     "output_type": "display_data"
    }
   ],
   "source": [
    "deviations = pd.DataFrame({\"residual\": y - lrm.predict(X), 'deviation w.r.t. mean': y - y.mean()})\n",
    "sns.displot(data = deviations, kind = 'kde')\n",
    "plt.show()"
   ]
  },
  {
   "cell_type": "markdown",
   "id": "52bd0d79",
   "metadata": {},
   "source": [
    "#### Good model fit: residual distriibution is narrower than the distribution with respect to the mean\n",
    "- Residual represents the noise which is not explained by the model\n"
   ]
  },
  {
   "cell_type": "code",
   "execution_count": 28,
   "id": "46217575",
   "metadata": {
    "scrolled": true
   },
   "outputs": [
    {
     "data": {
      "image/png": "[encoded data removed]",
      "text/plain": [
       "<Figure size 696.125x500 with 1 Axes>"
      ]
     },
     "metadata": {},
     "output_type": "display_data"
    }
   ],
   "source": [
    "deviations1 = pd.DataFrame({\"residual\": y - lrm1.predict(X[:,features_subset]), 'deviation w.r.t. mean': y - y.mean()})\n",
    "sns.displot(data = deviations1, kind = 'kde')\n",
    "plt.show()"
   ]
  },
  {
   "cell_type": "code",
   "execution_count": 29,
   "id": "a6fdb218",
   "metadata": {},
   "outputs": [
    {
     "data": {
      "text/plain": [
       "60.27397911824503"
      ]
     },
     "execution_count": 29,
     "metadata": {},
     "output_type": "execute_result"
    }
   ],
   "source": [
    "mean_squared_error(y, lrm1.predict(X[:, features_subset]))"
   ]
  },
  {
   "cell_type": "markdown",
   "id": "ecb69dba",
   "metadata": {},
   "source": [
    "### Are we scoring our models correctly?\n",
    "\n",
    "So far, we have been computing MSE and $R^2$ on the data used to train the model. This may lead to over-optimistic scores as the data has been already seen by the model when it was trained \n",
    "\n",
    "We need to understand our model's performance on new (previously unseen) data"
   ]
  },
  {
   "cell_type": "markdown",
   "id": "16e46ecf",
   "metadata": {},
   "source": [
    "##### To simulate \"new data\", we can split the original data set into two parts\n",
    "- Training set (50-90 %)\n",
    "- Test set (the remainder)\n",
    "    - random splitting works and is preferrable for most data types"
   ]
  },
  {
   "cell_type": "code",
   "execution_count": 30,
   "id": "7a68c93d",
   "metadata": {},
   "outputs": [],
   "source": [
    "X_train, X_test, y_train, y_test = train_test_split(X[:, features_subset], y, train_size = 0.7, random_state=12)"
   ]
  },
  {
   "cell_type": "code",
   "execution_count": 31,
   "id": "b383651e",
   "metadata": {},
   "outputs": [
    {
     "data": {
      "text/plain": [
       "LinearRegression()"
      ]
     },
     "execution_count": 31,
     "metadata": {},
     "output_type": "execute_result"
    }
   ],
   "source": [
    "lrm = LinearRegression()\n",
    "lrm.fit(X_train, y_train)"
   ]
  },
  {
   "cell_type": "code",
   "execution_count": 32,
   "id": "2654d51b",
   "metadata": {},
   "outputs": [
    {
     "data": {
      "text/plain": [
       "59.560793856154596"
      ]
     },
     "execution_count": 32,
     "metadata": {},
     "output_type": "execute_result"
    }
   ],
   "source": [
    "### training error\n",
    "\n",
    "mean_squared_error(y_train, lrm.predict(X_train))"
   ]
  },
  {
   "cell_type": "code",
   "execution_count": 33,
   "id": "e0f8e8ee",
   "metadata": {},
   "outputs": [
    {
     "data": {
      "text/plain": [
       "62.428606298660235"
      ]
     },
     "execution_count": 33,
     "metadata": {},
     "output_type": "execute_result"
    }
   ],
   "source": [
    "### test error\n",
    "\n",
    "mean_squared_error(y_test, lrm.predict(X_test))"
   ]
  },
  {
   "cell_type": "markdown",
   "id": "1c19eac1",
   "metadata": {},
   "source": [
    "### Discussion: which MSE is more important for model performance?\n",
    "\n",
    "- Train error\n",
    "    - OR\n",
    "- Test error"
   ]
  },
  {
   "cell_type": "markdown",
   "id": "e89aba00",
   "metadata": {},
   "source": [
    "### Overfit and Underfit\n",
    "\n",
    "#### Example: a simple simulated data set with built-in non-linearity\n",
    "- Can we make good predsictions with a linear regression model?"
   ]
  },
  {
   "cell_type": "code",
   "execution_count": 34,
   "id": "5bb3793d",
   "metadata": {},
   "outputs": [
    {
     "data": {
      "image/png": "[encoded data removed]",
      "text/plain": [
       "<Figure size 640x480 with 1 Axes>"
      ]
     },
     "metadata": {},
     "output_type": "display_data"
    }
   ],
   "source": [
    "xx = np.linspace(-1, 2, 100)\n",
    "simdf = pd.DataFrame({ \"x\": xx, \"y\": 2*xx**2 + np.random.normal(size = 100)})\n",
    "lrm = LinearRegression()\n",
    "lrm.fit(simdf[['x']], simdf['y'])\n",
    "ax = sns.scatterplot(data = simdf, x = 'x', y = 'y')\n",
    "ax = sns.lineplot(x = simdf['x'], y = lrm.predict(simdf[['x']]), color = 'red')\n",
    "ax.set_title(\"Underfit\")\n",
    "plt.show()"
   ]
  },
  {
   "cell_type": "markdown",
   "id": "3e38ae69",
   "metadata": {},
   "source": [
    "__To help or linear model deal with non-linearity, we can introduce polynomial features of Degree N:__\n",
    "\n",
    "- if $N = 1$ we have only the original features $x_1$ and $x_2$ \n",
    "- if $N = 2$ we will also have quadratic terms $x_1^2$, $x_2^2$ and $x_1 x_2$ \n",
    "- if $N = 3$ we will also have cubic terms $x_1^3$, $x_2^3$, $x_1^2 x_2$ and $x_1 x_2^2$ "
   ]
  },
  {
   "cell_type": "code",
   "execution_count": 35,
   "id": "1eea3c20",
   "metadata": {},
   "outputs": [],
   "source": [
    "poly = PolynomialFeatures(degree=2)\n",
    "X_train, X_test, Y_train, Y_test = \\\n",
    "    train_test_split(poly.fit_transform(simdf[['x']]), simdf['y'], train_size = 0.8, random_state=42)"
   ]
  },
  {
   "cell_type": "code",
   "execution_count": 36,
   "id": "0479fc5e",
   "metadata": {},
   "outputs": [
    {
     "name": "stdout",
     "output_type": "stream",
     "text": [
      "train mse:   0.9918501873960845\n",
      "test mse:   0.8580965400002804\n"
     ]
    },
    {
     "data": {
      "image/png": "[encoded data removed]",
      "text/plain": [
       "<Figure size 640x480 with 1 Axes>"
      ]
     },
     "metadata": {},
     "output_type": "display_data"
    }
   ],
   "source": [
    "lrm = LinearRegression()\n",
    "lrm.fit(X_train, Y_train)\n",
    "print(\"train mse:  \", mean_squared_error(Y_train, lrm.predict(X_train)))\n",
    "print(\"test mse:  \", mean_squared_error(Y_test, lrm.predict(X_test)))\n",
    "ax = sns.scatterplot(x = X_train[:,1], y = Y_train)\n",
    "ax = sns.lineplot(x = X_train[:,1], y = lrm.predict(X_train), color = 'red')\n",
    "ax.set_title(\"Good Fit\")\n",
    "plt.show()"
   ]
  },
  {
   "cell_type": "code",
   "execution_count": 37,
   "id": "9a2f2fba",
   "metadata": {},
   "outputs": [
    {
     "name": "stdout",
     "output_type": "stream",
     "text": [
      "train mse:   0.8087788490789822\n",
      "test mse:   3.1685302817146193\n"
     ]
    },
    {
     "data": {
      "image/png": "[encoded data removed]",
      "text/plain": [
       "<Figure size 640x480 with 1 Axes>"
      ]
     },
     "metadata": {},
     "output_type": "display_data"
    }
   ],
   "source": [
    "poly = PolynomialFeatures(degree=16)\n",
    "X_train, X_test, Y_train, Y_test = \\\n",
    "    train_test_split(poly.fit_transform(simdf[['x']]), simdf['y'], train_size = 0.8, random_state=42)\n",
    "lrm = LinearRegression()\n",
    "lrm.fit(X_train, Y_train)\n",
    "print(\"train mse:  \", mean_squared_error(Y_train, lrm.predict(X_train)))\n",
    "print(\"test mse:  \", mean_squared_error(Y_test, lrm.predict(X_test)))\n",
    "ax = sns.scatterplot(x = X_train[:,1], y = Y_train)\n",
    "ax = sns.lineplot(x = X_train[:,1], y = lrm.predict(X_train), color = 'red')\n",
    "ax.set_title(\"Overfit\")\n",
    "plt.show()"
   ]
  },
  {
   "cell_type": "markdown",
   "id": "e55fda37",
   "metadata": {},
   "source": [
    "##### Polynomial degree represents model complexity. Let's see how model complexity affects MSE_test"
   ]
  },
  {
   "cell_type": "code",
   "execution_count": 38,
   "id": "df6389e8",
   "metadata": {},
   "outputs": [
    {
     "data": {
      "image/png": "[encoded data removed]",
      "text/plain": [
       "<Figure size 640x480 with 1 Axes>"
      ]
     },
     "metadata": {},
     "output_type": "display_data"
    }
   ],
   "source": [
    "mse_train = []\n",
    "mse_test = []\n",
    "\n",
    "for i in range(1,11):\n",
    "    poly = PolynomialFeatures(degree=i)\n",
    "    X_train, X_test, Y_train, Y_test = \\\n",
    "        train_test_split(poly.fit_transform(simdf[['x']]), simdf['y'], train_size = 0.8, random_state=42)\n",
    "    lrm = LinearRegression()\n",
    "    lrm.fit(X_train, Y_train)\n",
    "    mse_train.append(mean_squared_error(Y_train, lrm.predict(X_train)))\n",
    "    mse_test.append(mean_squared_error(Y_test, lrm.predict(X_test)))\n",
    "\n",
    "    \n",
    "ax = sns.lineplot(x = np.arange(1,11), y = mse_train, label = \"train\")\n",
    "ax = sns.lineplot(x = np.arange(1,11), y = mse_test, label = \"test\")\n",
    "ax.set_xlabel(\"Model Complexity\")\n",
    "ax.set_ylim((0, max(mse_test)))\n",
    "#ax.set_xlim((0, 10))\n",
    "ax.set_ylabel(\"Mean Squared Error\")\n",
    "plt.show()"
   ]
  },
  {
   "cell_type": "markdown",
   "id": "32d30413",
   "metadata": {},
   "source": [
    "### Overfit demo: Boston Housing polynomial regression"
   ]
  },
  {
   "cell_type": "code",
   "execution_count": 39,
   "id": "83f2e5ed",
   "metadata": {},
   "outputs": [],
   "source": [
    "df = pd.read_csv(\"https://github.com/wsko/data_science_academy/raw/main/data/Boston_Housing.csv\")\n",
    "label_col = 'MEDV'\n",
    "y = df[label_col].values\n",
    "feature_names = list(df.columns) ## note that we can leave some of the columns out of the feature set\n",
    "feature_names.remove(label_col)\n",
    "X = X[:, features_subset]"
   ]
  },
  {
   "cell_type": "code",
   "execution_count": 40,
   "id": "2d7db962",
   "metadata": {},
   "outputs": [
    {
     "name": "stdout",
     "output_type": "stream",
     "text": [
      "train mse:   57.17866614074181\n",
      "test mse:   50.10736027391143\n"
     ]
    }
   ],
   "source": [
    "poly = PolynomialFeatures()\n",
    "\n",
    "X_train, X_test, Y_train, Y_test = \\\n",
    "    train_test_split(poly.fit_transform(X), y, train_size = 0.8, random_state=42)\n",
    "\n",
    "lrm = LinearRegression()\n",
    "lrm.fit(X_train, Y_train)\n",
    "\n",
    "print(\"train mse:  \", mean_squared_error(Y_train, lrm.predict(X_train)))\n",
    "print(\"test mse:  \", mean_squared_error(Y_test, lrm.predict(X_test)))"
   ]
  },
  {
   "cell_type": "code",
   "execution_count": 41,
   "id": "336acb6e",
   "metadata": {
    "scrolled": true
   },
   "outputs": [
    {
     "data": {
      "text/plain": [
       "array(['1', 'x0', 'x1', 'x2', 'x0^2', 'x0 x1', 'x0 x2', 'x1^2', 'x1 x2',\n",
       "       'x2^2'], dtype=object)"
      ]
     },
     "execution_count": 41,
     "metadata": {},
     "output_type": "execute_result"
    }
   ],
   "source": [
    "poly.get_feature_names_out()"
   ]
  },
  {
   "cell_type": "code",
   "execution_count": 42,
   "id": "0719ea9e",
   "metadata": {},
   "outputs": [
    {
     "data": {
      "image/png": "[encoded data removed]",
      "text/plain": [
       "<Figure size 640x480 with 1 Axes>"
      ]
     },
     "metadata": {},
     "output_type": "display_data"
    }
   ],
   "source": [
    "mse_train = []\n",
    "mse_test = []\n",
    "\n",
    "for i in range(1,6):\n",
    "    poly = PolynomialFeatures(degree=i)\n",
    "    X_train, X_test, Y_train, Y_test = \\\n",
    "        train_test_split(poly.fit_transform(X), y, train_size = 0.5, random_state=42)\n",
    "    lrm = LinearRegression()\n",
    "    lrm.fit(X_train, Y_train)\n",
    "    mse_train.append(mean_squared_error(Y_train, lrm.predict(X_train)))\n",
    "    mse_test.append(mean_squared_error(Y_test, lrm.predict(X_test)))\n",
    "\n",
    "    \n",
    "ax = sns.lineplot(x = np.arange(1,6), y = mse_train, label = \"train\")\n",
    "ax = sns.lineplot(x = np.arange(1,6), y = mse_test, label = \"test\")\n",
    "ax.set_xlabel(\"Model Complexity\")\n",
    "ax.set_ylim((0, 100))\n",
    "ax.set_ylabel(\"Mean Squared Error\")\n",
    "plt.show()"
   ]
  },
  {
   "cell_type": "code",
   "execution_count": null,
   "id": "dae256d8",
   "metadata": {},
   "outputs": [],
   "source": []
  },
  {
   "cell_type": "code",
   "execution_count": null,
   "id": "a00e9c39",
   "metadata": {},
   "outputs": [],
   "source": []
  }
 ],
 "metadata": {
  "kernelspec": {
   "display_name": "Python 3 (ipykernel)",
   "language": "python",
   "name": "python3"
  },
  "language_info": {
   "codemirror_mode": {
    "name": "ipython",
    "version": 3
   },
   "file_extension": ".py",
   "mimetype": "text/x-python",
   "name": "python",
   "nbconvert_exporter": "python",
   "pygments_lexer": "ipython3",
   "version": "3.7.9"
  }
 },
 "nbformat": 4,
 "nbformat_minor": 5
}

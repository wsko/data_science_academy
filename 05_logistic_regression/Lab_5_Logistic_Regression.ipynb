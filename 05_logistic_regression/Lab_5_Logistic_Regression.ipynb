{
 "cells": [
  {
   "cell_type": "markdown",
   "id": "3ed3ef60",
   "metadata": {},
   "source": [
    "## Lab 5: Logistic Regression"
   ]
  },
  {
   "cell_type": "code",
   "execution_count": 1,
   "id": "e228c107",
   "metadata": {},
   "outputs": [],
   "source": [
    "import pandas as pd\n",
    "import numpy as np\n",
    "import matplotlib.pyplot as plt\n",
    "import seaborn as sns\n",
    "from sklearn.linear_model import LogisticRegression\n",
    "\n",
    "\n",
    "from sklearn.model_selection import train_test_split\n",
    "from sklearn.preprocessing import MinMaxScaler\n",
    "\n",
    "# import various metrics for model scoring\n",
    "from sklearn.metrics import confusion_matrix\n",
    "from sklearn.metrics import classification_report\n",
    "\n",
    "import warnings\n",
    "warnings.filterwarnings('ignore')"
   ]
  },
  {
   "cell_type": "markdown",
   "id": "ab87b26a",
   "metadata": {},
   "source": [
    "### Part 1. Insurance Claims Model"
   ]
  },
  {
   "cell_type": "markdown",
   "id": "8c616524",
   "metadata": {},
   "source": [
    "You have been asked to develop a model which would predict whether a health insurance policy holder will file a major insurance claim. The dataset \"insurance2.csv\" which you will use to train and evaluate your predictive model includes the following columns:\n",
    "\n",
    "**Independent variables**\n",
    "\n",
    "1. age : policyholder's age\n",
    "2. sex: policyholder's gender (female=0, male=1)\n",
    "3. bmi: Body mass index\n",
    "4. children: number of children / dependents\n",
    "5. smoker: smoking status (non-smoke=0;smoker=1) \n",
    "6. region: policyholder's reion of residence (northeast=0, northwest=1, southeast=2, southwest=3)\n",
    "7. charges: insurance premium charges\n",
    "\n",
    "**Target variable**\n",
    "\n",
    "1. insuranceclaim - categorical variable (0 = no claims filed, 1 = at least one claim filed)"
   ]
  },
  {
   "cell_type": "markdown",
   "id": "f81d89f4",
   "metadata": {},
   "source": [
    "##### 1 - Import and explore the insurance data:\n",
    "\n",
    "- read data into a pandas dataframe\n",
    "- inspect the columns for data types and presence of missing data\n",
    "- what is the number of unique values per each column?\n",
    "- inspect the distribuion of the label column \"insuranceclaim\". Is this dataset balanced? \n",
    "- inspect the correlation coefficients between pairs of numerical columns. Are there particularly strong correlations (> 0.9)?"
   ]
  },
  {
   "cell_type": "markdown",
   "id": "ea74e1ce",
   "metadata": {},
   "source": [
    "##### 2 - Prepare data for modeling\n",
    "\n",
    "- Create a feature array X and label array y\n",
    "- Split the data into a training and test set\n",
    "- Perform data scaling using the min-max scaling algorithm"
   ]
  },
  {
   "cell_type": "markdown",
   "id": "82d90d95",
   "metadata": {},
   "source": [
    "##### 3 - Train and evaluate a predictive model\n",
    "\n",
    "\n",
    "- Train a logistic regression model \n",
    "- Obtain the confusion matrix and classification report on the test set. What can you say about your model's performance?\n",
    "- From model coefficients, how would you rank the variables in terms of their importance?"
   ]
  },
  {
   "cell_type": "markdown",
   "id": "a7428b9c",
   "metadata": {},
   "source": [
    "### Part 2. Bank customer churn\n",
    "\n",
    "Help a bank predict which customers are more likely to quit. The dataset `Churn_Modeling.csv` provided for training a classifier model contains the following columns:\n",
    "\n",
    "**Features**\n",
    "\n",
    "- __CustomerId:__\tA unique customer identification number\n",
    "- __Surname:__\tCustomer’s last name\n",
    "- __CreditScore:__\tCustomer’s credit score\n",
    "- __Geography:__\tCustomer’s country\n",
    "- __Gender:__\tCustomer’s gender\n",
    "- __Age:__\tCustomer’s age\n",
    "- __Tenure:__\tNumber of years that the customer has been a client of the bank\n",
    "- __Balance:__\tCustomer’s account balance\n",
    "- __NumOfProducts:__\tNumber of products the customer has purchased through the bank\n",
    "- __HasCrCard:__\tWhether or not a customer has a credit card\n",
    "- __IsActiveMember:__\tIs the customer active?\n",
    "- __EstimatedSalary:__\tCustomer’s salary estimated from the customer’s bank product usage patterns\n",
    "\n",
    "**Labels**\n",
    "\n",
    "- __Exited:__\tWhether or not the customer has left the bank\n",
    "\n",
    "\n",
    "**Tasks:**\n",
    "\n",
    "1. Import and inspect data\n",
    "2. Prepare data for modeling:\n",
    "    - Remove high-cardinality columns (hint: look for columns where the number of unique values is close to the number of rows in the dataset)\n",
    "    - split the data into a training and test set\n",
    "    - encode categorical variables\n",
    "    - scale the feature columns\n",
    "3. Train and evaluate a logistic regression model\n",
    "4. Can you imprtove model performance (precision and recall) for each of the label classes (stay, exit) by adjusting the prediction threshold?\n"
   ]
  },
  {
   "cell_type": "code",
   "execution_count": null,
   "id": "65941ffe",
   "metadata": {},
   "outputs": [],
   "source": []
  }
 ],
 "metadata": {
  "kernelspec": {
   "display_name": "Python 3 (ipykernel)",
   "language": "python",
   "name": "python3"
  },
  "language_info": {
   "codemirror_mode": {
    "name": "ipython",
    "version": 3
   },
   "file_extension": ".py",
   "mimetype": "text/x-python",
   "name": "python",
   "nbconvert_exporter": "python",
   "pygments_lexer": "ipython3",
   "version": "3.7.13"
  }
 },
 "nbformat": 4,
 "nbformat_minor": 5
}
